{
 "cells": [
  {
   "cell_type": "markdown",
   "id": "3b84a7a9-2905-4f35-898b-5893ec631972",
   "metadata": {},
   "source": [
    "# Getting start with PyMongo"
   ]
  },
  {
   "cell_type": "markdown",
   "id": "4f29b9b4-cdbd-4d96-b2de-bbdac18eca00",
   "metadata": {
    "id": "4f29b9b4-cdbd-4d96-b2de-bbdac18eca00",
    "tags": []
   },
   "source": [
    "## Install the MongoDB python driver PyMongo"
   ]
  },
  {
   "cell_type": "code",
   "execution_count": 1,
   "id": "cc1fde98-f543-4abc-b453-1a4f7bd72378",
   "metadata": {
    "id": "cc1fde98-f543-4abc-b453-1a4f7bd72378",
    "outputId": "cb3f7ce4-71d5-4c51-f03b-9fec943875c5"
   },
   "outputs": [
    {
     "name": "stdout",
     "output_type": "stream",
     "text": [
      "Collecting pymongo\n",
      "  Downloading pymongo-4.6.0-cp311-cp311-manylinux_2_17_x86_64.manylinux2014_x86_64.whl.metadata (22 kB)\n",
      "Collecting dnspython<3.0.0,>=1.16.0 (from pymongo)\n",
      "  Downloading dnspython-2.4.2-py3-none-any.whl.metadata (4.9 kB)\n",
      "Downloading pymongo-4.6.0-cp311-cp311-manylinux_2_17_x86_64.manylinux2014_x86_64.whl (680 kB)\n",
      "\u001b[2K   \u001b[90m━━━━━━━━━━━━━━━━━━━━━━━━━━━━━━━━━━━━━━━━\u001b[0m \u001b[32m680.8/680.8 kB\u001b[0m \u001b[31m16.8 MB/s\u001b[0m eta \u001b[36m0:00:00\u001b[0m00:01\u001b[0m\n",
      "\u001b[?25hDownloading dnspython-2.4.2-py3-none-any.whl (300 kB)\n",
      "\u001b[2K   \u001b[90m━━━━━━━━━━━━━━━━━━━━━━━━━━━━━━━━━━━━━━━━\u001b[0m \u001b[32m300.4/300.4 kB\u001b[0m \u001b[31m24.4 MB/s\u001b[0m eta \u001b[36m0:00:00\u001b[0m\n",
      "\u001b[?25hInstalling collected packages: dnspython, pymongo\n",
      "Successfully installed dnspython-2.4.2 pymongo-4.6.0\n"
     ]
    }
   ],
   "source": [
    "!pip install  pymongo"
   ]
  },
  {
   "cell_type": "markdown",
   "id": "c8458df0-7dcc-42d9-b2fd-79e6eec466bf",
   "metadata": {
    "id": "c8458df0-7dcc-42d9-b2fd-79e6eec466bf",
    "tags": []
   },
   "source": [
    "## Import packages"
   ]
  },
  {
   "cell_type": "code",
   "execution_count": 2,
   "id": "18012691-29ce-4eb7-a597-8b0a098f6540",
   "metadata": {
    "id": "18012691-29ce-4eb7-a597-8b0a098f6540"
   },
   "outputs": [],
   "source": [
    "import os\n",
    "import pymongo\n",
    "from pymongo import DESCENDING, ASCENDING\n",
    "from bson.json_util import dumps"
   ]
  },
  {
   "cell_type": "markdown",
   "id": "992501a8-a3cb-4947-aec7-1b46705d8cb3",
   "metadata": {
    "id": "992501a8-a3cb-4947-aec7-1b46705d8cb3",
    "tags": []
   },
   "source": [
    "## Connection"
   ]
  },
  {
   "cell_type": "markdown",
   "id": "781e402b-a126-4039-86d2-1747bc8000b9",
   "metadata": {
    "id": "781e402b-a126-4039-86d2-1747bc8000b9"
   },
   "source": [
    "#### Before connecting to your Atlas cluster, make sure your loaded sample data into it. \n",
    "\n",
    "If you didn't, please follow this [tutorial](https://github.com/nosql-esigelec/inge3a_23/blob/main/tp_1/configurations.md#cr%C3%A9er-une-sandbox-ou-bac-%C3%A0-sable).<br>\n",
    "After doing it, get your connection string and let's continue."
   ]
  },
  {
   "cell_type": "code",
   "execution_count": 3,
   "id": "b3760e83-230b-44ec-8d4b-1fc751621688",
   "metadata": {
    "id": "b3760e83-230b-44ec-8d4b-1fc751621688"
   },
   "outputs": [],
   "source": [
    "# set username, password and host name for your Atlas cluster\n",
    "# create ENV variables or set directly your username and password\n",
    "username = os.getenv('USERNAME', 'stechos')\n",
    "password = os.getenv('PASSWORD', 'stechos')\n",
    "host = \"serial-techos.hxiqgqy.mongodb.net\""
   ]
  },
  {
   "cell_type": "markdown",
   "id": "be6dd1ea-7a97-4060-945b-1e5c2cc771de",
   "metadata": {},
   "source": [
    "`os.getenv` allows you to get environment variables that you set previously. <br>\n",
    "The first argument is the name of the variable.<br>\n",
    "The second argument is the default value to use if the variable doens't exist"
   ]
  },
  {
   "cell_type": "code",
   "execution_count": 4,
   "id": "cab2f026-63bb-40e0-a2fe-a2be1ece0c52",
   "metadata": {},
   "outputs": [],
   "source": [
    "client = pymongo.MongoClient(f\"mongodb+srv://{username}:{password}@{host}/?retryWrites=true&w=majority\")"
   ]
  },
  {
   "cell_type": "code",
   "execution_count": 5,
   "id": "42434b63-5605-4844-9942-47808226d3dd",
   "metadata": {
    "id": "42434b63-5605-4844-9942-47808226d3dd",
    "outputId": "32da19a3-f480-44b9-8eae-1abd99ff8ec6"
   },
   "outputs": [
    {
     "data": {
      "text/plain": [
       "Database(MongoClient(host=['ac-plyvcuz-shard-00-02.hxiqgqy.mongodb.net:27017', 'ac-plyvcuz-shard-00-00.hxiqgqy.mongodb.net:27017', 'ac-plyvcuz-shard-00-01.hxiqgqy.mongodb.net:27017'], document_class=dict, tz_aware=False, connect=True, retrywrites=True, w='majority', authsource='admin', replicaset='atlas-jx27t2-shard-0', tls=True), 'stats')"
      ]
     },
     "execution_count": 5,
     "metadata": {},
     "output_type": "execute_result"
    }
   ],
   "source": [
    "client.stats"
   ]
  },
  {
   "cell_type": "code",
   "execution_count": 6,
   "id": "9f269d9b-b0b7-467d-acca-2fa4eabe8e7c",
   "metadata": {
    "id": "9f269d9b-b0b7-467d-acca-2fa4eabe8e7c",
    "outputId": "d21f79e0-0172-4c3c-e979-c33553dd7653"
   },
   "outputs": [
    {
     "data": {
      "text/plain": [
       "['evops_db',\n",
       " 'productDB',\n",
       " 'sample_airbnb',\n",
       " 'sample_analytics',\n",
       " 'sample_geospatial',\n",
       " 'sample_guides',\n",
       " 'sample_mflix',\n",
       " 'sample_restaurants',\n",
       " 'sample_supplies',\n",
       " 'sample_training',\n",
       " 'sample_weatherdata',\n",
       " 'test_db',\n",
       " 'velib_db',\n",
       " 'admin',\n",
       " 'local']"
      ]
     },
     "execution_count": 6,
     "metadata": {},
     "output_type": "execute_result"
    }
   ],
   "source": [
    "# list the existing databases\n",
    "client.list_database_names()"
   ]
  },
  {
   "cell_type": "markdown",
   "id": "811a4dc4-78b9-4847-b761-d3fa67076ce9",
   "metadata": {
    "id": "811a4dc4-78b9-4847-b761-d3fa67076ce9",
    "tags": []
   },
   "source": [
    "## CRUD: Create, Read, Update, Delete"
   ]
  },
  {
   "cell_type": "markdown",
   "id": "c4d3f91b-f4a0-4da0-a432-cf138f4e1098",
   "metadata": {
    "tags": []
   },
   "source": [
    "## Create"
   ]
  },
  {
   "cell_type": "markdown",
   "id": "aeaac4fc-017d-4829-86f2-1e8a631f0417",
   "metadata": {
    "tags": []
   },
   "source": [
    "#### Let's connect to database and check data"
   ]
  },
  {
   "cell_type": "code",
   "execution_count": 7,
   "id": "5bf88fc0-89b3-4ef8-9b5b-1ce51944efef",
   "metadata": {},
   "outputs": [],
   "source": [
    "product_db = client.productDB"
   ]
  },
  {
   "cell_type": "code",
   "execution_count": 8,
   "id": "89b7135d-034e-4543-81b1-4b610b94572c",
   "metadata": {},
   "outputs": [
    {
     "data": {
      "text/plain": [
       "['products']"
      ]
     },
     "execution_count": 8,
     "metadata": {},
     "output_type": "execute_result"
    }
   ],
   "source": [
    "#print collection names\n",
    "product_db.list_collection_names()"
   ]
  },
  {
   "cell_type": "code",
   "execution_count": 9,
   "id": "f02bf10e-e64c-4303-8b6c-4bf14758b7f7",
   "metadata": {},
   "outputs": [],
   "source": [
    "#store the collection products into a variable\n",
    "products = product_db.products"
   ]
  },
  {
   "cell_type": "code",
   "execution_count": 10,
   "id": "fc0402d9-bc3b-449f-b11a-2814b827a515",
   "metadata": {},
   "outputs": [
    {
     "data": {
      "text/plain": [
       "{'_id': ObjectId('6545f8e7211eef49f928942b'),\n",
       " 'ProductName': 'Six Pack Soda',\n",
       " 'Price': 3,\n",
       " 'Quantity': 3,\n",
       " 'Tags': '[\"soda\",\"pack\"]'}"
      ]
     },
     "execution_count": 10,
     "metadata": {},
     "output_type": "execute_result"
    }
   ],
   "source": [
    "#check one of the data here\n",
    "products.find_one({})"
   ]
  },
  {
   "cell_type": "markdown",
   "id": "b6cdec8d-19fc-44c0-8ad3-c8bc4b33d4d4",
   "metadata": {
    "tags": []
   },
   "source": [
    "#### Inserting data\n",
    "Let's add a new product to our store called `Mjöllnir`. It cost `30`€ but don't received it yet so `we don't have any of it` for the moment.\n"
   ]
  },
  {
   "cell_type": "code",
   "execution_count": 11,
   "id": "3c3dd80f-7879-44c3-9dcd-3d49e7bf6d33",
   "metadata": {},
   "outputs": [],
   "source": [
    "inserted_product = products.insert_one({\"ProductName\": \"Mjöllir\", \"Price\":30})"
   ]
  },
  {
   "cell_type": "code",
   "execution_count": 12,
   "id": "cf8b9082-d7e4-4bc7-be77-36b14517f183",
   "metadata": {},
   "outputs": [
    {
     "data": {
      "text/plain": [
       "True"
      ]
     },
     "execution_count": 12,
     "metadata": {},
     "output_type": "execute_result"
    }
   ],
   "source": [
    "#the attribute aknowleged let us know that the write has been applied in memory \n",
    "inserted_product.acknowledged"
   ]
  },
  {
   "cell_type": "code",
   "execution_count": 13,
   "id": "823574e2-b36a-477a-89bd-a8147cf50a27",
   "metadata": {},
   "outputs": [
    {
     "data": {
      "text/plain": [
       "ObjectId('6545fea0cc4d1cef8c7e5a28')"
      ]
     },
     "execution_count": 13,
     "metadata": {},
     "output_type": "execute_result"
    }
   ],
   "source": [
    "#after inserting data, we also have an id returned of the object\n",
    "inserted_product.inserted_id"
   ]
  },
  {
   "cell_type": "code",
   "execution_count": 14,
   "id": "73b2eb3c-3682-44ea-9bfd-d091d5721124",
   "metadata": {},
   "outputs": [
    {
     "data": {
      "text/plain": [
       "{'_id': ObjectId('6545fea0cc4d1cef8c7e5a28'),\n",
       " 'ProductName': 'Mjöllir',\n",
       " 'Price': 30}"
      ]
     },
     "execution_count": 14,
     "metadata": {},
     "output_type": "execute_result"
    }
   ],
   "source": [
    "#with this id, I can retrieve the document that I just inserted\n",
    "products.find_one({\"_id\": inserted_product.inserted_id})"
   ]
  },
  {
   "cell_type": "markdown",
   "id": "f6d58607-fbe4-43b8-8892-b53ff2373479",
   "metadata": {
    "tags": []
   },
   "source": [
    "#### Inserting data from a csv file"
   ]
  },
  {
   "cell_type": "code",
   "execution_count": 15,
   "id": "ea003a90-b793-4ef5-ae0d-8dfd8b4754cb",
   "metadata": {},
   "outputs": [],
   "source": [
    "import pandas as pd\n",
    "import numpy as np\n",
    "import datetime"
   ]
  },
  {
   "cell_type": "markdown",
   "id": "83c73392-ab84-40fe-ba73-483560675228",
   "metadata": {},
   "source": [
    "Lets create a new collection to backup the initial products collection"
   ]
  },
  {
   "cell_type": "code",
   "execution_count": 16,
   "id": "50e2f3d6-865d-4487-aabb-9720cb2838a5",
   "metadata": {},
   "outputs": [],
   "source": [
    "products_bup = product_db.products_backup\n",
    "#make sure that the collection is empty\n",
    "products_bup.drop()"
   ]
  },
  {
   "cell_type": "code",
   "execution_count": 22,
   "id": "44709ce8-8cf2-4131-bcde-0ec8de96b8b1",
   "metadata": {},
   "outputs": [
    {
     "data": {
      "text/plain": [
       "[{'ProductName': '1 Gallon Soy Milk',\n",
       "  'Price': 2.5,\n",
       "  'Quantity': 12,\n",
       "  'Tags': ['milk', 'soy']},\n",
       " {'ProductName': '1 Gallon Almond Milk',\n",
       "  'Price': 2.75,\n",
       "  'Quantity': 22,\n",
       "  'Tags': ['milk']},\n",
       " {'ProductName': 'Six Pack Soda',\n",
       "  'Price': 3.0,\n",
       "  'Quantity': 3,\n",
       "  'Tags': ['soda', 'pack']},\n",
       " {'ProductName': 'Chocolate Bar',\n",
       "  'Price': 1.0,\n",
       "  'Quantity': 4,\n",
       "  'Tags': ['cacao', 'chocolate']},\n",
       " {'ProductName': 'Paper Towels', 'Price': 1.25, 'Quantity': 8, 'Tags': []},\n",
       " {'ProductName': 'Red Wine',\n",
       "  'Price': 14.0,\n",
       "  'Quantity': 3,\n",
       "  'Tags': ['alcohol', 'wine']},\n",
       " {'ProductName': 'Salt and Vinegar Chips',\n",
       "  'Price': 2.25,\n",
       "  'Quantity': 22,\n",
       "  'Tags': ['salt', 'chips', 'apero']},\n",
       " {'ProductName': 'Barbecue Chips',\n",
       "  'Price': 2.25,\n",
       "  'Quantity': 1,\n",
       "  'Tags': ['apero', 'chips']},\n",
       " {'ProductName': 'Gatorade', 'Price': 2.0, 'Quantity': 21, 'Tags': []},\n",
       " {'ProductName': 'Breath Mints', 'Price': 0.5, 'Quantity': 11, 'Tags': []}]"
      ]
     },
     "execution_count": 22,
     "metadata": {},
     "output_type": "execute_result"
    }
   ],
   "source": [
    "#read the csv file as a list of dictionnaries\n",
    "product_df = pd.read_csv('mongo-data/products.csv', sep=\",\")\n",
    "product_df['Tags'] = product_df['Tags'].apply(eval)\n",
    "product_list = product_df.to_dict(orient=\"records\")\n",
    "product_list"
   ]
  },
  {
   "cell_type": "code",
   "execution_count": 23,
   "id": "4294aea7-7240-4ab3-a202-f749e7654927",
   "metadata": {},
   "outputs": [
    {
     "data": {
      "text/plain": [
       "InsertManyResult([ObjectId('6545fee3cc4d1cef8c7e5a29'), ObjectId('6545fee3cc4d1cef8c7e5a2a'), ObjectId('6545fee3cc4d1cef8c7e5a2b'), ObjectId('6545fee3cc4d1cef8c7e5a2c'), ObjectId('6545fee3cc4d1cef8c7e5a2d'), ObjectId('6545fee3cc4d1cef8c7e5a2e'), ObjectId('6545fee3cc4d1cef8c7e5a2f'), ObjectId('6545fee3cc4d1cef8c7e5a30'), ObjectId('6545fee3cc4d1cef8c7e5a31'), ObjectId('6545fee3cc4d1cef8c7e5a32')], acknowledged=True)"
      ]
     },
     "execution_count": 23,
     "metadata": {},
     "output_type": "execute_result"
    }
   ],
   "source": [
    "products_bup.insert_many(product_list)"
   ]
  },
  {
   "cell_type": "code",
   "execution_count": 24,
   "id": "410a7e87-29a3-40b2-b151-be810846b32b",
   "metadata": {},
   "outputs": [
    {
     "name": "stdout",
     "output_type": "stream",
     "text": [
      "{\n",
      "  \"_id\": {\n",
      "    \"$oid\": \"6545fee3cc4d1cef8c7e5a29\"\n",
      "  },\n",
      "  \"ProductName\": \"1 Gallon Soy Milk\",\n",
      "  \"Price\": 2.5,\n",
      "  \"Quantity\": 12,\n",
      "  \"Tags\": [\n",
      "    \"milk\",\n",
      "    \"soy\"\n",
      "  ]\n",
      "}\n"
     ]
    }
   ],
   "source": [
    "print(dumps(products_bup.find_one({}), indent=2))"
   ]
  },
  {
   "cell_type": "markdown",
   "id": "1b614d63-0c90-404a-9b91-12f62a649ebf",
   "metadata": {
    "tags": []
   },
   "source": [
    "## Update "
   ]
  },
  {
   "cell_type": "markdown",
   "id": "533b9694-c832-4da8-a185-c8e81a597c23",
   "metadata": {
    "tags": []
   },
   "source": [
    "#### Updating data\n",
    "We just received the products and we noticed that we put a wring name at the insertion of data. Let's update the document of this product."
   ]
  },
  {
   "cell_type": "code",
   "execution_count": 25,
   "id": "d42cfad1-2cb6-4244-8d0f-91e5c1ffa322",
   "metadata": {},
   "outputs": [],
   "source": [
    "#create a document with values to update/add\n",
    "mjollnir = {\"ProductName\": \"Mjöllnir\", \"Quantity\":100}"
   ]
  },
  {
   "cell_type": "code",
   "execution_count": 26,
   "id": "09705205-f9da-4227-a5f1-60cb9b33853a",
   "metadata": {},
   "outputs": [
    {
     "name": "stdout",
     "output_type": "stream",
     "text": [
      "Number of documents: 11\n",
      "{'n': 1, 'electionId': ObjectId('7fffffff00000000000000a7'), 'opTime': {'ts': Timestamp(1699086053, 9), 't': 167}, 'nModified': 1, 'ok': 1.0, '$clusterTime': {'clusterTime': Timestamp(1699086053, 9), 'signature': {'hash': b'(\\x95\\x84\\x0fI@\\x9a\\x1a\\xf4\\x1ab+\\xa6{y}+<\\x93\\xb0', 'keyId': 7263703769655803906}}, 'operationTime': Timestamp(1699086053, 9), 'updatedExisting': True}\n"
     ]
    }
   ],
   "source": [
    "update_result = products.update_one({\"ProductName\": \"Mjöllir\"},{\"$set\":mjollnir})\n",
    "print(f\"Number of documents: {products.count_documents({})}\")\n",
    "print(update_result.raw_result)"
   ]
  },
  {
   "cell_type": "markdown",
   "id": "0689a581-187e-4b27-8f3b-987032191560",
   "metadata": {
    "tags": []
   },
   "source": [
    "#### Upserting data\n",
    "Upsert is inserting data if not filter is doesn't find a match.<br>\n",
    "Let's take an example with a new product."
   ]
  },
  {
   "cell_type": "code",
   "execution_count": 27,
   "id": "354276e2-b4ec-428e-8e96-688c14cf962c",
   "metadata": {},
   "outputs": [],
   "source": [
    "#creating a document for stormbreaker\n",
    "stormbreaker = {\"ProductName\": \"Stormbreaker\", \"price\":50, \"Quantity\":100}"
   ]
  },
  {
   "cell_type": "code",
   "execution_count": 28,
   "id": "f1a32f63-f84e-437d-a6c5-4563ab43d91e",
   "metadata": {},
   "outputs": [
    {
     "name": "stdout",
     "output_type": "stream",
     "text": [
      "Number of documents: 11\n",
      "{'n': 0, 'electionId': ObjectId('7fffffff00000000000000a7'), 'opTime': {'ts': Timestamp(1699086055, 4), 't': 167}, 'nModified': 0, 'ok': 1.0, '$clusterTime': {'clusterTime': Timestamp(1699086055, 4), 'signature': {'hash': b'\\x01\\x8a!\\xe6\\xaaR\\n\\xdf\\xc8#z\\x92S)\\xc8\\xf6\\x90\\xa6 \\x92', 'keyId': 7263703769655803906}}, 'operationTime': Timestamp(1699086055, 4), 'updatedExisting': False}\n"
     ]
    }
   ],
   "source": [
    "stormbreaker_update = products.update_one({\"ProductName\": \"Stormbreaker\"},{\"$set\":stormbreaker})\n",
    "print(f\"Number of documents: {products.count_documents({})}\")\n",
    "print(stormbreaker_update.raw_result)"
   ]
  },
  {
   "cell_type": "markdown",
   "id": "675d9946-1fa2-4e80-ba8f-0def01fbd075",
   "metadata": {},
   "source": [
    "The number of documents didn't changed from the last time.\n",
    "Nothing happened in the update because this product doen't exist. In some case, we would like to insert the document if it doesn't exist. That's why we can use the attribute `upsert`."
   ]
  },
  {
   "cell_type": "code",
   "execution_count": 29,
   "id": "e05af2f4-c079-48ff-9fc7-0fe53734c990",
   "metadata": {},
   "outputs": [
    {
     "name": "stdout",
     "output_type": "stream",
     "text": [
      "Number of documents: 12\n",
      "{'n': 1, 'electionId': ObjectId('7fffffff00000000000000a7'), 'opTime': {'ts': Timestamp(1699086056, 2), 't': 167}, 'upserted': ObjectId('6545fee834f0a29c8b25b7ed'), 'nModified': 0, 'ok': 1.0, '$clusterTime': {'clusterTime': Timestamp(1699086056, 2), 'signature': {'hash': b'\\xd2=\\x1c\\x1aI\\xf5\\xa7\\xc0\\xe9\\xdb[:9\\x0f\\xea\\xed\\x95&L\\x85', 'keyId': 7263703769655803906}}, 'operationTime': Timestamp(1699086056, 2), 'updatedExisting': False}\n"
     ]
    }
   ],
   "source": [
    "stormbreaker_update = products.update_one({\"ProductName\": \"Stormbreaker\"},{\"$set\":stormbreaker}, \n",
    "                                          upsert=True)\n",
    "print(f\"Number of documents: {products.count_documents({})}\")\n",
    "print(stormbreaker_update.raw_result)"
   ]
  },
  {
   "cell_type": "markdown",
   "id": "4f5cdde3-2dfc-45ea-b35f-9986f5faffe0",
   "metadata": {},
   "source": [
    "The number of documents increased. In fact the non-existing document has been inserted."
   ]
  },
  {
   "cell_type": "markdown",
   "id": "8c3f1ad9-13b1-4ece-a597-d2a4f5e02061",
   "metadata": {
    "tags": []
   },
   "source": [
    "#### Updating some informations on products\n",
    "\n",
    "- **Numerical attribute**\n",
    "\n",
    "Let's say we want to add increase the quantity of a product with 10 units"
   ]
  },
  {
   "cell_type": "code",
   "execution_count": 30,
   "id": "5a91fa05-5f2f-4ffd-88e6-66f55fcacffd",
   "metadata": {},
   "outputs": [],
   "source": [
    "product_filter = {\"ProductName\": \"1 Gallon Soy Milk\"}"
   ]
  },
  {
   "cell_type": "code",
   "execution_count": 31,
   "id": "b28b0c26-f5eb-46a3-bc70-7f7f200093c2",
   "metadata": {},
   "outputs": [
    {
     "data": {
      "text/plain": [
       "UpdateResult({'n': 1, 'electionId': ObjectId('7fffffff00000000000000a7'), 'opTime': {'ts': Timestamp(1699086058, 2), 't': 167}, 'nModified': 1, 'ok': 1.0, '$clusterTime': {'clusterTime': Timestamp(1699086058, 2), 'signature': {'hash': b'7\\xfeW\\xe6\\xabv\\xc7\\xc9\\xdd\\xc8b\\x08] \\x02o\\xdc&\\xa1\\x82', 'keyId': 7263703769655803906}}, 'operationTime': Timestamp(1699086058, 2), 'updatedExisting': True}, acknowledged=True)"
      ]
     },
     "execution_count": 31,
     "metadata": {},
     "output_type": "execute_result"
    }
   ],
   "source": [
    "products_bup.update_one(product_filter, {\"$inc\": {\"Quantity\":10}})"
   ]
  },
  {
   "cell_type": "code",
   "execution_count": 32,
   "id": "1928c7bb-eb79-40a1-bb9d-f9117cbc8b80",
   "metadata": {},
   "outputs": [
    {
     "name": "stdout",
     "output_type": "stream",
     "text": [
      "{\n",
      "  \"_id\": {\n",
      "    \"$oid\": \"6545fee3cc4d1cef8c7e5a29\"\n",
      "  },\n",
      "  \"ProductName\": \"1 Gallon Soy Milk\",\n",
      "  \"Price\": 2.5,\n",
      "  \"Quantity\": 22,\n",
      "  \"Tags\": [\n",
      "    \"milk\",\n",
      "    \"soy\"\n",
      "  ]\n",
      "}\n"
     ]
    }
   ],
   "source": [
    "print(dumps(products_bup.find_one(product_filter), indent=2))"
   ]
  },
  {
   "cell_type": "markdown",
   "id": "06a3c017-30d2-4a00-b835-5dd8db5514e0",
   "metadata": {},
   "source": [
    "- **Array attribute** (add an item to an **existing** array)\n",
    "\n",
    "We'll use the product \"Red Wine for this example."
   ]
  },
  {
   "cell_type": "code",
   "execution_count": 33,
   "id": "f9b83de4-985b-40f6-9d4c-463f6f1d6891",
   "metadata": {},
   "outputs": [],
   "source": [
    "red_wine = {\"ProductName\": \"Red Wine\"}"
   ]
  },
  {
   "cell_type": "markdown",
   "id": "607ffdd4-b402-42e3-8176-7ae324c70d6a",
   "metadata": {},
   "source": [
    "Let's add a tag on it "
   ]
  },
  {
   "cell_type": "code",
   "execution_count": 34,
   "id": "55b43e2b-0c58-4fc3-83a9-777771fe8e56",
   "metadata": {},
   "outputs": [
    {
     "data": {
      "text/plain": [
       "UpdateResult({'n': 1, 'electionId': ObjectId('7fffffff00000000000000a7'), 'opTime': {'ts': Timestamp(1699086060, 3), 't': 167}, 'nModified': 1, 'ok': 1.0, '$clusterTime': {'clusterTime': Timestamp(1699086060, 3), 'signature': {'hash': b'\\xb8\\x06vp5%|P\\x9d\\xb5\\x02\\x1d\\xb5F\\x9cDp\\xe0\\xc5\\xf6', 'keyId': 7263703769655803906}}, 'operationTime': Timestamp(1699086060, 3), 'updatedExisting': True}, acknowledged=True)"
      ]
     },
     "execution_count": 34,
     "metadata": {},
     "output_type": "execute_result"
    }
   ],
   "source": [
    "products_bup.update_one(red_wine, {\"$push\": {\"Tags\": \"Happiness\"}})"
   ]
  },
  {
   "cell_type": "code",
   "execution_count": 35,
   "id": "71098fd6-b53a-4162-bc14-643bdfed7b91",
   "metadata": {},
   "outputs": [
    {
     "name": "stdout",
     "output_type": "stream",
     "text": [
      "{\n",
      "  \"_id\": {\n",
      "    \"$oid\": \"6545fee3cc4d1cef8c7e5a2e\"\n",
      "  },\n",
      "  \"ProductName\": \"Red Wine\",\n",
      "  \"Price\": 14.0,\n",
      "  \"Quantity\": 3,\n",
      "  \"Tags\": [\n",
      "    \"alcohol\",\n",
      "    \"wine\",\n",
      "    \"Happiness\"\n",
      "  ]\n",
      "}\n"
     ]
    }
   ],
   "source": [
    "print(dumps(products_bup.find_one(red_wine), indent=2))"
   ]
  },
  {
   "cell_type": "markdown",
   "id": "78ff5cd2-0b11-41a7-9439-b306a171e18f",
   "metadata": {},
   "source": [
    "- **Array attribute** (add an item to an **non-existing** array)\n",
    "\n",
    "We would like to add warning about some products like alocohol "
   ]
  },
  {
   "cell_type": "code",
   "execution_count": 36,
   "id": "ec77213d-024b-4485-ad87-148f08dbfa59",
   "metadata": {},
   "outputs": [
    {
     "data": {
      "text/plain": [
       "UpdateResult({'n': 1, 'electionId': ObjectId('7fffffff00000000000000a7'), 'opTime': {'ts': Timestamp(1699086061, 8), 't': 167}, 'nModified': 1, 'ok': 1.0, '$clusterTime': {'clusterTime': Timestamp(1699086061, 8), 'signature': {'hash': b\"'\\x7f+\\x89K\\t\\x9a\\xb6\\x9f\\xfd\\xcb\\xbc1\\x9a|B\\x01\\xd1\\x9b}\", 'keyId': 7263703769655803906}}, 'operationTime': Timestamp(1699086061, 8), 'updatedExisting': True}, acknowledged=True)"
      ]
     },
     "execution_count": 36,
     "metadata": {},
     "output_type": "execute_result"
    }
   ],
   "source": [
    "products_bup.update_one(red_wine, {\"$push\": {\"Warnings\": \"Prohibited under 18\"}})"
   ]
  },
  {
   "cell_type": "code",
   "execution_count": 37,
   "id": "dd4c8633-310e-4dfc-afc1-1a4bf1b3e1e9",
   "metadata": {},
   "outputs": [
    {
     "name": "stdout",
     "output_type": "stream",
     "text": [
      "{\n",
      "  \"_id\": {\n",
      "    \"$oid\": \"6545fee3cc4d1cef8c7e5a2e\"\n",
      "  },\n",
      "  \"ProductName\": \"Red Wine\",\n",
      "  \"Price\": 14.0,\n",
      "  \"Quantity\": 3,\n",
      "  \"Tags\": [\n",
      "    \"alcohol\",\n",
      "    \"wine\",\n",
      "    \"Happiness\"\n",
      "  ],\n",
      "  \"Warnings\": [\n",
      "    \"Prohibited under 18\"\n",
      "  ]\n",
      "}\n"
     ]
    }
   ],
   "source": [
    "print(dumps(products_bup.find_one(red_wine), indent=2))"
   ]
  },
  {
   "cell_type": "code",
   "execution_count": 38,
   "id": "d1f3d10d-33fb-4651-96be-482a82bf08c2",
   "metadata": {},
   "outputs": [],
   "source": [
    "#Let's say we would like to add an arrival date to all products\n",
    "arrival_update = products_bup.update_many({}, {\"$set\":{\"ArrivalDate\": datetime.datetime.now()}})"
   ]
  },
  {
   "cell_type": "code",
   "execution_count": 39,
   "id": "2c7d6f96-6793-4559-a230-4d0c3305c7bc",
   "metadata": {},
   "outputs": [
    {
     "name": "stdout",
     "output_type": "stream",
     "text": [
      "[\n",
      "  {\n",
      "    \"ProductName\": \"1 Gallon Soy Milk\",\n",
      "    \"ArrivalDate\": {\n",
      "      \"$date\": \"2023-11-04T08:21:02.921Z\"\n",
      "    }\n",
      "  },\n",
      "  {\n",
      "    \"ProductName\": \"1 Gallon Almond Milk\",\n",
      "    \"ArrivalDate\": {\n",
      "      \"$date\": \"2023-11-04T08:21:02.921Z\"\n",
      "    }\n",
      "  },\n",
      "  {\n",
      "    \"ProductName\": \"Six Pack Soda\",\n",
      "    \"ArrivalDate\": {\n",
      "      \"$date\": \"2023-11-04T08:21:02.921Z\"\n",
      "    }\n",
      "  },\n",
      "  {\n",
      "    \"ProductName\": \"Chocolate Bar\",\n",
      "    \"ArrivalDate\": {\n",
      "      \"$date\": \"2023-11-04T08:21:02.921Z\"\n",
      "    }\n",
      "  },\n",
      "  {\n",
      "    \"ProductName\": \"Paper Towels\",\n",
      "    \"ArrivalDate\": {\n",
      "      \"$date\": \"2023-11-04T08:21:02.921Z\"\n",
      "    }\n",
      "  },\n",
      "  {\n",
      "    \"ProductName\": \"Red Wine\",\n",
      "    \"ArrivalDate\": {\n",
      "      \"$date\": \"2023-11-04T08:21:02.921Z\"\n",
      "    }\n",
      "  },\n",
      "  {\n",
      "    \"ProductName\": \"Salt and Vinegar Chips\",\n",
      "    \"ArrivalDate\": {\n",
      "      \"$date\": \"2023-11-04T08:21:02.921Z\"\n",
      "    }\n",
      "  },\n",
      "  {\n",
      "    \"ProductName\": \"Barbecue Chips\",\n",
      "    \"ArrivalDate\": {\n",
      "      \"$date\": \"2023-11-04T08:21:02.921Z\"\n",
      "    }\n",
      "  },\n",
      "  {\n",
      "    \"ProductName\": \"Gatorade\",\n",
      "    \"ArrivalDate\": {\n",
      "      \"$date\": \"2023-11-04T08:21:02.921Z\"\n",
      "    }\n",
      "  },\n",
      "  {\n",
      "    \"ProductName\": \"Breath Mints\",\n",
      "    \"ArrivalDate\": {\n",
      "      \"$date\": \"2023-11-04T08:21:02.921Z\"\n",
      "    }\n",
      "  }\n",
      "]\n"
     ]
    }
   ],
   "source": [
    "print(dumps(products_bup.find({}, {\"_id\":0,\"ProductName\":1, \"ArrivalDate\":1}), indent=2))"
   ]
  },
  {
   "cell_type": "code",
   "execution_count": 40,
   "id": "6bf7a81a-dc2a-4afa-a195-5650990dfa02",
   "metadata": {},
   "outputs": [
    {
     "name": "stdout",
     "output_type": "stream",
     "text": [
      "Acknowledge: True\n",
      "Mached Count: 10\n",
      "Modified Count: 10\n",
      "Upserted Id: None\n"
     ]
    }
   ],
   "source": [
    "print(f\"Acknowledge: {arrival_update.acknowledged}\")\n",
    "print(f\"Mached Count: {arrival_update.matched_count}\")\n",
    "print(f\"Modified Count: {arrival_update.modified_count}\")\n",
    "print(f\"Upserted Id: {arrival_update.upserted_id}\")"
   ]
  },
  {
   "cell_type": "markdown",
   "id": "96bb5d9f-81e0-41ed-88b9-afb3ffd71f2c",
   "metadata": {
    "id": "96bb5d9f-81e0-41ed-88b9-afb3ffd71f2c",
    "tags": []
   },
   "source": [
    "## Delete "
   ]
  },
  {
   "cell_type": "markdown",
   "id": "0741fee9-1db2-47bc-a022-ed8be29d8ca4",
   "metadata": {},
   "source": [
    "Let's delete a specific product. "
   ]
  },
  {
   "cell_type": "code",
   "execution_count": 41,
   "id": "ac039cde-73a6-4c86-b414-2e8dee5353a2",
   "metadata": {},
   "outputs": [
    {
     "name": "stdout",
     "output_type": "stream",
     "text": [
      "Before Delete: The number of products is 1\n",
      "After Delete: The number of products is 0\n"
     ]
    }
   ],
   "source": [
    "product_filter = {\"ProductName\": \"Gatorade\"}\n",
    "print(f\"Before Delete: The number of products is {len(list(products_bup.find(product_filter)))}\")\n",
    "products_bup.delete_one(product_filter)\n",
    "print(f\"After Delete: The number of products is {len(list(products_bup.find(product_filter)))}\")"
   ]
  },
  {
   "cell_type": "markdown",
   "id": "d28854d7-a513-4aa5-8353-10a06a929e5a",
   "metadata": {},
   "source": [
    "We'll use products that have less than 10 items for our example."
   ]
  },
  {
   "cell_type": "code",
   "execution_count": 42,
   "id": "9edbfbc1-235f-4ed7-ace7-751873617985",
   "metadata": {},
   "outputs": [],
   "source": [
    "product_to_delete = {\"Quantity\": {\"$lte\":10}}"
   ]
  },
  {
   "cell_type": "markdown",
   "id": "f90961b3-6e23-46f1-8495-a9659c01ed09",
   "metadata": {},
   "source": [
    "Let's delete the first product matching this condition.<br>\n",
    "We can use the attribute deleted_count to check the number of deleted items."
   ]
  },
  {
   "cell_type": "code",
   "execution_count": 43,
   "id": "f58c1819-0105-4662-bc72-af9d3d0a4fa1",
   "metadata": {},
   "outputs": [
    {
     "name": "stdout",
     "output_type": "stream",
     "text": [
      "Before Delete: The number of products is 5\n",
      "After Delete: The number of products is 4\n",
      "The number of documents deleted is 1\n"
     ]
    }
   ],
   "source": [
    "print(f\"Before Delete: The number of products is {len(list(products_bup.find(product_to_delete)))}\")\n",
    "delete_one_operation = products_bup.delete_one(product_to_delete)\n",
    "print(f\"After Delete: The number of products is {len(list(products_bup.find(product_to_delete)))}\")\n",
    "print(f\"The number of documents deleted is {delete_one_operation.deleted_count}\")"
   ]
  },
  {
   "cell_type": "code",
   "execution_count": 44,
   "id": "2d43d2b0-2ad7-40e9-a599-2e967c108b8c",
   "metadata": {},
   "outputs": [
    {
     "name": "stdout",
     "output_type": "stream",
     "text": [
      "Before Delete: The number of products is 4\n",
      "After Delete: The number of products is 0\n",
      "The number of documents deleted is 4\n"
     ]
    }
   ],
   "source": [
    "print(f\"Before Delete: The number of products is {len(list(products_bup.find(product_to_delete)))}\")\n",
    "delete_many_operation = products_bup.delete_many(product_to_delete)\n",
    "print(f\"After Delete: The number of products is {len(list(products_bup.find(product_to_delete)))}\")\n",
    "print(f\"The number of documents deleted is {delete_many_operation.deleted_count}\")"
   ]
  },
  {
   "cell_type": "markdown",
   "id": "3f035c40-6c92-4bdd-8eb9-1b0dfe5630e4",
   "metadata": {
    "id": "3f035c40-6c92-4bdd-8eb9-1b0dfe5630e4",
    "tags": []
   },
   "source": [
    "## Read"
   ]
  },
  {
   "cell_type": "markdown",
   "id": "cb1f9365-6232-4c21-ab67-5fb887007173",
   "metadata": {},
   "source": [
    "#### Let's connect to database and check data"
   ]
  },
  {
   "cell_type": "code",
   "execution_count": 45,
   "id": "e3aaa515-e070-41f2-b364-9cf99819affc",
   "metadata": {
    "id": "e3aaa515-e070-41f2-b364-9cf99819affc"
   },
   "outputs": [],
   "source": [
    "mflix_db = client.sample_mflix"
   ]
  },
  {
   "cell_type": "code",
   "execution_count": 46,
   "id": "16770238-83a2-47bc-ab56-94ebd10cf046",
   "metadata": {
    "id": "16770238-83a2-47bc-ab56-94ebd10cf046",
    "outputId": "7b214b53-a960-4cfa-ae40-79c479667322"
   },
   "outputs": [
    {
     "data": {
      "text/plain": [
       "['users', 'embedded_movies', 'movies', 'sessions', 'comments', 'theaters']"
      ]
     },
     "execution_count": 46,
     "metadata": {},
     "output_type": "execute_result"
    }
   ],
   "source": [
    "# list the existing collections in MFlix\n",
    "mflix_db.list_collection_names()"
   ]
  },
  {
   "cell_type": "code",
   "execution_count": 47,
   "id": "1f3496c8-8d27-4aad-91bd-0765d579beef",
   "metadata": {
    "id": "1f3496c8-8d27-4aad-91bd-0765d579beef"
   },
   "outputs": [],
   "source": [
    "movies = mflix_db.movies"
   ]
  },
  {
   "cell_type": "code",
   "execution_count": 48,
   "id": "55ad7c12-db30-4b85-8db6-10ceff5e0eb2",
   "metadata": {
    "id": "55ad7c12-db30-4b85-8db6-10ceff5e0eb2",
    "outputId": "8be28b5d-6191-40d1-861d-f39277e6d765"
   },
   "outputs": [
    {
     "data": {
      "text/plain": [
       "21349"
      ]
     },
     "execution_count": 48,
     "metadata": {},
     "output_type": "execute_result"
    }
   ],
   "source": [
    "movies.count_documents({})"
   ]
  },
  {
   "cell_type": "markdown",
   "id": "8d8551a1-e36c-485f-94f0-8072af9b321b",
   "metadata": {
    "id": "8d8551a1-e36c-485f-94f0-8072af9b321b",
    "tags": []
   },
   "source": [
    "### First operations\n",
    "\n",
    "- Reading with find_one()\n",
    "- Reading with find\n",
    "    - Iterating through cursors\n",
    "- Field projection and filtering"
   ]
  },
  {
   "cell_type": "code",
   "execution_count": 49,
   "id": "8293f239-56a1-4367-8f57-9dcc1a0313ed",
   "metadata": {
    "id": "8293f239-56a1-4367-8f57-9dcc1a0313ed",
    "outputId": "b7eccaaa-4206-4aef-efbd-0eb219258a9a"
   },
   "outputs": [
    {
     "data": {
      "text/plain": [
       "{'_id': ObjectId('573a1390f29313caabcd42e8'),\n",
       " 'plot': 'A group of bandits stage a brazen train hold-up, only to find a determined posse hot on their heels.',\n",
       " 'genres': ['Short', 'Western'],\n",
       " 'runtime': 11,\n",
       " 'cast': ['A.C. Abadie',\n",
       "  \"Gilbert M. 'Broncho Billy' Anderson\",\n",
       "  'George Barnes',\n",
       "  'Justus D. Barnes'],\n",
       " 'poster': 'https://m.media-amazon.com/images/M/MV5BMTU3NjE5NzYtYTYyNS00MDVmLWIwYjgtMmYwYWIxZDYyNzU2XkEyXkFqcGdeQXVyNzQzNzQxNzI@._V1_SY1000_SX677_AL_.jpg',\n",
       " 'title': 'The Great Train Robbery',\n",
       " 'fullplot': \"Among the earliest existing films in American cinema - notable as the first film that presented a narrative story to tell - it depicts a group of cowboy outlaws who hold up a train and rob the passengers. They are then pursued by a Sheriff's posse. Several scenes have color included - all hand tinted.\",\n",
       " 'languages': ['English'],\n",
       " 'released': datetime.datetime(1903, 12, 1, 0, 0),\n",
       " 'directors': ['Edwin S. Porter'],\n",
       " 'rated': 'TV-G',\n",
       " 'awards': {'wins': 1, 'nominations': 0, 'text': '1 win.'},\n",
       " 'lastupdated': '2015-08-13 00:27:59.177000000',\n",
       " 'year': 1903,\n",
       " 'imdb': {'rating': 7.4, 'votes': 9847, 'id': 439},\n",
       " 'countries': ['USA'],\n",
       " 'type': 'movie',\n",
       " 'tomatoes': {'viewer': {'rating': 3.7, 'numReviews': 2559, 'meter': 75},\n",
       "  'fresh': 6,\n",
       "  'critic': {'rating': 7.6, 'numReviews': 6, 'meter': 100},\n",
       "  'rotten': 0,\n",
       "  'lastUpdated': datetime.datetime(2015, 8, 8, 19, 16, 10)},\n",
       " 'num_mflix_comments': 0}"
      ]
     },
     "execution_count": 49,
     "metadata": {},
     "output_type": "execute_result"
    }
   ],
   "source": [
    "# find one movie record\n",
    "movies.find_one({})"
   ]
  },
  {
   "cell_type": "code",
   "execution_count": 50,
   "id": "09c05d7e-a677-4acb-82ce-d0c426ca10e7",
   "metadata": {
    "id": "09c05d7e-a677-4acb-82ce-d0c426ca10e7",
    "outputId": "e8aacca3-99e0-4756-f5ab-1cc2bd13fd3d"
   },
   "outputs": [
    {
     "data": {
      "text/plain": [
       "{'_id': ObjectId('573a1399f29313caabceea6d'),\n",
       " 'plot': \"Cynical look at a 50's rebellious Rocker who has to confront his future, thugs with knives, and the crooked town sheriff.\",\n",
       " 'genres': ['Action', 'Drama'],\n",
       " 'runtime': 95,\n",
       " 'rated': 'R',\n",
       " 'cast': ['David Arquette', 'John Hawkes', 'Salma Hayek', 'Jason Wiles'],\n",
       " 'num_mflix_comments': 1,\n",
       " 'poster': 'https://m.media-amazon.com/images/M/MV5BMTgwMzU3MDI1NF5BMl5BanBnXkFtZTcwMDUwMTIyMQ@@._V1_SY1000_SX677_AL_.jpg',\n",
       " 'title': 'Roadracers',\n",
       " 'fullplot': \"Cynical look at a 50's rebellious Rocker who has to confront his future, thugs with knives, and the crooked town sheriff.\",\n",
       " 'languages': ['English'],\n",
       " 'released': datetime.datetime(1994, 7, 22, 0, 0),\n",
       " 'directors': ['Robert Rodriguez'],\n",
       " 'writers': ['Robert Rodriguez', 'Tommy Nix'],\n",
       " 'awards': {'wins': 0, 'nominations': 1, 'text': '1 nomination.'},\n",
       " 'lastupdated': '2015-09-01 00:53:54.567000000',\n",
       " 'year': 1994,\n",
       " 'imdb': {'rating': 6.7, 'votes': 2036, 'id': 111002},\n",
       " 'countries': ['USA'],\n",
       " 'type': 'movie',\n",
       " 'tomatoes': {'viewer': {'rating': 2.8, 'numReviews': 7487, 'meter': 31},\n",
       "  'dvd': datetime.datetime(2002, 9, 3, 0, 0),\n",
       "  'critic': {'rating': 4.9, 'numReviews': 23, 'meter': 26},\n",
       "  'lastUpdated': datetime.datetime(2015, 9, 11, 18, 0, 30),\n",
       "  'rotten': 17,\n",
       "  'production': 'Hollywood Pictures',\n",
       "  'fresh': 6}}"
      ]
     },
     "execution_count": 50,
     "metadata": {},
     "output_type": "execute_result"
    }
   ],
   "source": [
    "# find one movie record with Salma Hayek as an actor\n",
    "movies.find_one({\"cast\": \"Salma Hayek\"})"
   ]
  },
  {
   "cell_type": "code",
   "execution_count": 51,
   "id": "9e856797-3889-4543-b5ea-3a28b0cc3236",
   "metadata": {
    "collapsed": true,
    "id": "9e856797-3889-4543-b5ea-3a28b0cc3236",
    "jupyter": {
     "outputs_hidden": true
    },
    "tags": []
   },
   "outputs": [
    {
     "name": "stdout",
     "output_type": "stream",
     "text": [
      "[\n",
      "  {\n",
      "    \"_id\": {\n",
      "      \"$oid\": \"573a1399f29313caabceea6d\"\n",
      "    },\n",
      "    \"plot\": \"Cynical look at a 50's rebellious Rocker who has to confront his future, thugs with knives, and the crooked town sheriff.\",\n",
      "    \"genres\": [\n",
      "      \"Action\",\n",
      "      \"Drama\"\n",
      "    ],\n",
      "    \"runtime\": 95,\n",
      "    \"rated\": \"R\",\n",
      "    \"cast\": [\n",
      "      \"David Arquette\",\n",
      "      \"John Hawkes\",\n",
      "      \"Salma Hayek\",\n",
      "      \"Jason Wiles\"\n",
      "    ],\n",
      "    \"num_mflix_comments\": 1,\n",
      "    \"poster\": \"https://m.media-amazon.com/images/M/MV5BMTgwMzU3MDI1NF5BMl5BanBnXkFtZTcwMDUwMTIyMQ@@._V1_SY1000_SX677_AL_.jpg\",\n",
      "    \"title\": \"Roadracers\",\n",
      "    \"fullplot\": \"Cynical look at a 50's rebellious Rocker who has to confront his future, thugs with knives, and the crooked town sheriff.\",\n",
      "    \"languages\": [\n",
      "      \"English\"\n",
      "    ],\n",
      "    \"released\": {\n",
      "      \"$date\": \"1994-07-22T00:00:00Z\"\n",
      "    },\n",
      "    \"directors\": [\n",
      "      \"Robert Rodriguez\"\n",
      "    ],\n",
      "    \"writers\": [\n",
      "      \"Robert Rodriguez\",\n",
      "      \"Tommy Nix\"\n",
      "    ],\n",
      "    \"awards\": {\n",
      "      \"wins\": 0,\n",
      "      \"nominations\": 1,\n",
      "      \"text\": \"1 nomination.\"\n",
      "    },\n",
      "    \"lastupdated\": \"2015-09-01 00:53:54.567000000\",\n",
      "    \"year\": 1994,\n",
      "    \"imdb\": {\n",
      "      \"rating\": 6.7,\n",
      "      \"votes\": 2036,\n",
      "      \"id\": 111002\n",
      "    },\n",
      "    \"countries\": [\n",
      "      \"USA\"\n",
      "    ],\n",
      "    \"type\": \"movie\",\n",
      "    \"tomatoes\": {\n",
      "      \"viewer\": {\n",
      "        \"rating\": 2.8,\n",
      "        \"numReviews\": 7487,\n",
      "        \"meter\": 31\n",
      "      },\n",
      "      \"dvd\": {\n",
      "        \"$date\": \"2002-09-03T00:00:00Z\"\n",
      "      },\n",
      "      \"critic\": {\n",
      "        \"rating\": 4.9,\n",
      "        \"numReviews\": 23,\n",
      "        \"meter\": 26\n",
      "      },\n",
      "      \"lastUpdated\": {\n",
      "        \"$date\": \"2015-09-11T18:00:30Z\"\n",
      "      },\n",
      "      \"rotten\": 17,\n",
      "      \"production\": \"Hollywood Pictures\",\n",
      "      \"fresh\": 6\n",
      "    }\n",
      "  },\n",
      "  {\n",
      "    \"_id\": {\n",
      "      \"$oid\": \"573a139af29313caabcef179\"\n",
      "    },\n",
      "    \"fullplot\": \"With this sequel to his prize-winning independent previous film, \\\"El Mariachi,\\\" director Robert Rodriquez joins the ranks of Sam Peckinpah and John Woo as a master of slick, glamorized ultra-violence. We pick up the story as a continuation of \\\"El Mariachi,\\\" where an itinerant musician, looking for work, gets mistaken for a hitman and thereby entangled in a web of love, corruption, and death. This time, he is out to avenge the murder of his lover and the maiming of his fretting hand, which occurred at the end of the earlier movie. However, the plot is recapitulated, and again, a case of mistaken identity leads to a very high body count, involvement with a beautiful woman who works for the local drug lord, and finally, the inevitable face-to-face confrontation and bloody showdown.\",\n",
      "    \"imdb\": {\n",
      "      \"rating\": 7.2,\n",
      "      \"votes\": 127966,\n",
      "      \"id\": 112851\n",
      "    },\n",
      "    \"year\": 1995,\n",
      "    \"plot\": \"A gunslinger is embroiled in a war with a local drug runner.\",\n",
      "    \"genres\": [\n",
      "      \"Action\",\n",
      "      \"Crime\",\n",
      "      \"Thriller\"\n",
      "    ],\n",
      "    \"rated\": \"R\",\n",
      "    \"metacritic\": 55,\n",
      "    \"title\": \"Desperado\",\n",
      "    \"lastupdated\": \"2015-08-29 00:25:05.467000000\",\n",
      "    \"languages\": [\n",
      "      \"English\"\n",
      "    ],\n",
      "    \"writers\": [\n",
      "      \"Robert Rodriguez\"\n",
      "    ],\n",
      "    \"type\": \"movie\",\n",
      "    \"tomatoes\": {\n",
      "      \"viewer\": {\n",
      "        \"rating\": 3.5,\n",
      "        \"numReviews\": 187644,\n",
      "        \"meter\": 80\n",
      "      },\n",
      "      \"dvd\": {\n",
      "        \"$date\": \"1997-06-25T00:00:00Z\"\n",
      "      },\n",
      "      \"critic\": {\n",
      "        \"rating\": 6.4,\n",
      "        \"numReviews\": 39,\n",
      "        \"meter\": 62\n",
      "      },\n",
      "      \"lastUpdated\": {\n",
      "        \"$date\": \"2015-09-13T17:30:57Z\"\n",
      "      },\n",
      "      \"rotten\": 15,\n",
      "      \"production\": \"Sony Pictures Home Entertainment\",\n",
      "      \"fresh\": 24\n",
      "    },\n",
      "    \"poster\": \"https://m.media-amazon.com/images/M/MV5BYjA0NDMyYTgtMDgxOC00NGE0LWJkOTQtNDRjMjEzZmU0ZTQ3XkEyXkFqcGdeQXVyMTQxNzMzNDI@._V1_SY1000_SX677_AL_.jpg\",\n",
      "    \"num_mflix_comments\": 0,\n",
      "    \"released\": {\n",
      "      \"$date\": \"1995-08-25T00:00:00Z\"\n",
      "    },\n",
      "    \"awards\": {\n",
      "      \"wins\": 0,\n",
      "      \"nominations\": 4,\n",
      "      \"text\": \"4 nominations.\"\n",
      "    },\n",
      "    \"countries\": [\n",
      "      \"USA\"\n",
      "    ],\n",
      "    \"cast\": [\n",
      "      \"Antonio Banderas\",\n",
      "      \"Salma Hayek\",\n",
      "      \"Joaquim de Almeida\",\n",
      "      \"Cheech Marin\"\n",
      "    ],\n",
      "    \"directors\": [\n",
      "      \"Robert Rodriguez\"\n",
      "    ],\n",
      "    \"runtime\": 104\n",
      "  },\n",
      "  {\n",
      "    \"_id\": {\n",
      "      \"$oid\": \"573a139af29313caabcf092d\"\n",
      "    },\n",
      "    \"plot\": \"After a one night stand with Isabel, Alex realizes that she is pregnant and they decide to get married. However, along with the marriage comes compromise of one's own cultural traditions.\",\n",
      "    \"genres\": [\n",
      "      \"Comedy\",\n",
      "      \"Drama\",\n",
      "      \"Romance\"\n",
      "    ],\n",
      "    \"runtime\": 109,\n",
      "    \"metacritic\": 37,\n",
      "    \"rated\": \"PG-13\",\n",
      "    \"cast\": [\n",
      "      \"Matthew Perry\",\n",
      "      \"Salma Hayek\",\n",
      "      \"Jon Tenney\",\n",
      "      \"Carlos G\\u00e8mez\"\n",
      "    ],\n",
      "    \"poster\": \"https://m.media-amazon.com/images/M/MV5BM2Q3MzA3YmYtNzUzNS00NDhhLTkyZmYtMDU2YmE1ODY5MjdmXkEyXkFqcGdeQXVyNjQ2MjQ5NzM@._V1_SY1000_SX677_AL_.jpg\",\n",
      "    \"title\": \"Fools Rush In\",\n",
      "    \"fullplot\": \"Sparks fly and cultures collide in this romantic comedy about a casual night of passion that turns into the love of a lifetime. Alex Whitman is a New Yorker sent to Las Vegas to oversee a construction project. There he meets Isabel Fuentes, and some serious chemistry brings them together for one night. But Alex doesn't see Isabel again until three months later, when he learns she is pregnant. On a whim and prayer, he proposes. However, there's more to marriage than a Vegas chapel and an Elvis impersonator, as Alex and Isabel soon learn.\",\n",
      "    \"languages\": [\n",
      "      \"English\",\n",
      "      \"Spanish\"\n",
      "    ],\n",
      "    \"released\": {\n",
      "      \"$date\": \"1997-02-14T00:00:00Z\"\n",
      "    },\n",
      "    \"directors\": [\n",
      "      \"Andy Tennant\"\n",
      "    ],\n",
      "    \"writers\": [\n",
      "      \"Joan Taylor (story)\",\n",
      "      \"Katherine Reback (story)\",\n",
      "      \"Katherine Reback (screenplay)\"\n",
      "    ],\n",
      "    \"awards\": {\n",
      "      \"wins\": 0,\n",
      "      \"nominations\": 2,\n",
      "      \"text\": \"2 nominations.\"\n",
      "    },\n",
      "    \"lastupdated\": \"2015-09-07 00:52:44.310000000\",\n",
      "    \"year\": 1997,\n",
      "    \"imdb\": {\n",
      "      \"rating\": 6.0,\n",
      "      \"votes\": 26104,\n",
      "      \"id\": 119141\n",
      "    },\n",
      "    \"countries\": [\n",
      "      \"USA\"\n",
      "    ],\n",
      "    \"type\": \"movie\",\n",
      "    \"tomatoes\": {\n",
      "      \"viewer\": {\n",
      "        \"rating\": 3.0,\n",
      "        \"numReviews\": 62870,\n",
      "        \"meter\": 64\n",
      "      },\n",
      "      \"dvd\": {\n",
      "        \"$date\": \"1998-02-10T00:00:00Z\"\n",
      "      },\n",
      "      \"critic\": {\n",
      "        \"rating\": 4.8,\n",
      "        \"numReviews\": 27,\n",
      "        \"meter\": 33\n",
      "      },\n",
      "      \"lastUpdated\": {\n",
      "        \"$date\": \"2015-08-18T18:51:54Z\"\n",
      "      },\n",
      "      \"rotten\": 18,\n",
      "      \"production\": \"Sony Pictures Home Entertainment\",\n",
      "      \"fresh\": 9\n",
      "    },\n",
      "    \"num_mflix_comments\": 0\n",
      "  },\n",
      "  {\n",
      "    \"_id\": {\n",
      "      \"$oid\": \"573a139af29313caabcf09f1\"\n",
      "    },\n",
      "    \"plot\": \"Based on the novel, a young gypsy becomes a Minister's obsession in 1483. Only the bell ringer and her husband and the court of miracles can save her.\",\n",
      "    \"genres\": [\n",
      "      \"Drama\",\n",
      "      \"Horror\",\n",
      "      \"Romance\"\n",
      "    ],\n",
      "    \"runtime\": 98,\n",
      "    \"cast\": [\n",
      "      \"Mandy Patinkin\",\n",
      "      \"Richard Harris\",\n",
      "      \"Salma Hayek\",\n",
      "      \"Edward Atterton\"\n",
      "    ],\n",
      "    \"poster\": \"https://m.media-amazon.com/images/M/MV5BMTMxNTk1MTEyNV5BMl5BanBnXkFtZTcwMDk3MjYyMQ@@._V1_SY1000_SX677_AL_.jpg\",\n",
      "    \"title\": \"The Hunchback\",\n",
      "    \"fullplot\": \"Based on the novel, a young gypsy becomes a Minister's obsession in 1483. Only the bell ringer and her husband and the court of miracles can save her.\",\n",
      "    \"languages\": [\n",
      "      \"English\"\n",
      "    ],\n",
      "    \"released\": {\n",
      "      \"$date\": \"1997-03-16T00:00:00Z\"\n",
      "    },\n",
      "    \"directors\": [\n",
      "      \"Peter Medak\"\n",
      "    ],\n",
      "    \"writers\": [\n",
      "      \"Victor Hugo (novel)\",\n",
      "      \"John Fasano (teleplay)\"\n",
      "    ],\n",
      "    \"awards\": {\n",
      "      \"wins\": 0,\n",
      "      \"nominations\": 12,\n",
      "      \"text\": \"Nominated for 4 Primetime Emmys. Another 8 nominations.\"\n",
      "    },\n",
      "    \"lastupdated\": \"2015-08-12 00:16:56.157000000\",\n",
      "    \"year\": 1997,\n",
      "    \"imdb\": {\n",
      "      \"rating\": 6.2,\n",
      "      \"votes\": 1129,\n",
      "      \"id\": 119329\n",
      "    },\n",
      "    \"countries\": [\n",
      "      \"USA\",\n",
      "      \"Hungary\",\n",
      "      \"Canada\",\n",
      "      \"Czech Republic\"\n",
      "    ],\n",
      "    \"type\": \"movie\",\n",
      "    \"tomatoes\": {\n",
      "      \"viewer\": {\n",
      "        \"rating\": 2.9,\n",
      "        \"numReviews\": 50,\n",
      "        \"meter\": 39\n",
      "      },\n",
      "      \"dvd\": {\n",
      "        \"$date\": \"1998-05-19T00:00:00Z\"\n",
      "      },\n",
      "      \"lastUpdated\": {\n",
      "        \"$date\": \"2015-07-31T18:05:19Z\"\n",
      "      }\n",
      "    },\n",
      "    \"num_mflix_comments\": 0\n",
      "  },\n",
      "  {\n",
      "    \"_id\": {\n",
      "      \"$oid\": \"573a139af29313caabcf0e4f\"\n",
      "    },\n",
      "    \"plot\": \"Famous 70s NYC nightclub seen and told through the eyes of a young employee.\",\n",
      "    \"genres\": [\n",
      "      \"Drama\",\n",
      "      \"Music\"\n",
      "    ],\n",
      "    \"runtime\": 93,\n",
      "    \"metacritic\": 33,\n",
      "    \"rated\": \"R\",\n",
      "    \"cast\": [\n",
      "      \"Ryan Phillippe\",\n",
      "      \"Salma Hayek\",\n",
      "      \"Neve Campbell\",\n",
      "      \"Mike Myers\"\n",
      "    ],\n",
      "    \"num_mflix_comments\": 1,\n",
      "    \"poster\": \"https://m.media-amazon.com/images/M/MV5BYTIzNzIxMjEtZDNiZS00Y2E1LTkwOTItZGJjOTMwYzU4YzVmXkEyXkFqcGdeQXVyNDk3NzU2MTQ@._V1_SY1000_SX677_AL_.jpg\",\n",
      "    \"title\": \"54\",\n",
      "    \"lastupdated\": \"2015-09-16 12:22:02.100000000\",\n",
      "    \"languages\": [\n",
      "      \"English\"\n",
      "    ],\n",
      "    \"released\": {\n",
      "      \"$date\": \"1998-08-28T00:00:00Z\"\n",
      "    },\n",
      "    \"directors\": [\n",
      "      \"Mark Christopher\"\n",
      "    ],\n",
      "    \"writers\": [\n",
      "      \"Mark Christopher\"\n",
      "    ],\n",
      "    \"awards\": {\n",
      "      \"wins\": 0,\n",
      "      \"nominations\": 7,\n",
      "      \"text\": \"7 nominations.\"\n",
      "    },\n",
      "    \"year\": 1998,\n",
      "    \"imdb\": {\n",
      "      \"rating\": 5.8,\n",
      "      \"votes\": 26612,\n",
      "      \"id\": 120577\n",
      "    },\n",
      "    \"countries\": [\n",
      "      \"USA\"\n",
      "    ],\n",
      "    \"type\": \"movie\",\n",
      "    \"tomatoes\": {\n",
      "      \"website\": \"http://www.miramax.com/movie/54\",\n",
      "      \"viewer\": {\n",
      "        \"rating\": 2.8,\n",
      "        \"numReviews\": 31237,\n",
      "        \"meter\": 44\n",
      "      },\n",
      "      \"dvd\": {\n",
      "        \"$date\": \"2001-04-03T00:00:00Z\"\n",
      "      },\n",
      "      \"critic\": {\n",
      "        \"rating\": 4.2,\n",
      "        \"numReviews\": 66,\n",
      "        \"meter\": 15\n",
      "      },\n",
      "      \"lastUpdated\": {\n",
      "        \"$date\": \"2015-08-22T19:09:51Z\"\n",
      "      },\n",
      "      \"consensus\": \"Poor plot development and slow pacing keep 54 from capturing the energy of it's legendary namesake.\",\n",
      "      \"rotten\": 56,\n",
      "      \"production\": \"Miramax Films\",\n",
      "      \"fresh\": 10\n",
      "    }\n",
      "  },\n",
      "  {\n",
      "    \"_id\": {\n",
      "      \"$oid\": \"573a139af29313caabcf0ea6\"\n",
      "    },\n",
      "    \"fullplot\": \"\\\"Frida\\\" chronicles the life Frida Kahlo shared unflinchingly and openly with Diego Rivera, as the young couple took the art world by storm. From her complex and enduring relationship with her mentor and husband to her illicit and controversial affair with Leon Trotsky, to her provocative and romantic entanglements with women, Frida Kahlo lived a bold and uncompromising life as a political, artistic, and sexual revolutionary.\",\n",
      "    \"imdb\": {\n",
      "      \"rating\": 7.4,\n",
      "      \"votes\": 57256,\n",
      "      \"id\": 120679\n",
      "    },\n",
      "    \"year\": 2002,\n",
      "    \"plot\": \"A biography of artist Frida Kahlo, who channeled the pain of a crippling injury and her tempestuous marriage into her work.\",\n",
      "    \"genres\": [\n",
      "      \"Biography\",\n",
      "      \"Drama\",\n",
      "      \"Romance\"\n",
      "    ],\n",
      "    \"rated\": \"R\",\n",
      "    \"metacritic\": 61,\n",
      "    \"title\": \"Frida\",\n",
      "    \"lastupdated\": \"2015-09-12 00:33:36.510000000\",\n",
      "    \"languages\": [\n",
      "      \"English\",\n",
      "      \"French\",\n",
      "      \"Russian\"\n",
      "    ],\n",
      "    \"writers\": [\n",
      "      \"Hayden Herrera (book)\",\n",
      "      \"Clancy Sigal (screenplay)\",\n",
      "      \"Diane Lake (screenplay)\",\n",
      "      \"Gregory Nava (screenplay)\",\n",
      "      \"Anna Thomas (screenplay)\"\n",
      "    ],\n",
      "    \"type\": \"movie\",\n",
      "    \"tomatoes\": {\n",
      "      \"website\": \"http://www.miramax.com/frida/\",\n",
      "      \"viewer\": {\n",
      "        \"rating\": 3.7,\n",
      "        \"numReviews\": 53261,\n",
      "        \"meter\": 86\n",
      "      },\n",
      "      \"dvd\": {\n",
      "        \"$date\": \"2003-06-10T00:00:00Z\"\n",
      "      },\n",
      "      \"critic\": {\n",
      "        \"rating\": 6.9,\n",
      "        \"numReviews\": 151,\n",
      "        \"meter\": 76\n",
      "      },\n",
      "      \"boxOffice\": \"$25.7M\",\n",
      "      \"consensus\": \"Frida is a passionate, visually striking biopic about the larger-than-life artist.\",\n",
      "      \"rotten\": 36,\n",
      "      \"production\": \"Miramax Films\",\n",
      "      \"lastUpdated\": {\n",
      "        \"$date\": \"2015-09-13T18:08:34Z\"\n",
      "      },\n",
      "      \"fresh\": 115\n",
      "    },\n",
      "    \"poster\": \"https://m.media-amazon.com/images/M/MV5BYzUxMTU0ZmEtZWE0Ni00NzJlLThhZTUtNDA1ZDZjZDUxYThiXkEyXkFqcGdeQXVyNjk1Njg5NTA@._V1_SY1000_SX677_AL_.jpg\",\n",
      "    \"num_mflix_comments\": 1,\n",
      "    \"released\": {\n",
      "      \"$date\": \"2002-11-22T00:00:00Z\"\n",
      "    },\n",
      "    \"awards\": {\n",
      "      \"wins\": 19,\n",
      "      \"nominations\": 33,\n",
      "      \"text\": \"Won 2 Oscars. Another 17 wins & 33 nominations.\"\n",
      "    },\n",
      "    \"countries\": [\n",
      "      \"USA\",\n",
      "      \"Canada\",\n",
      "      \"Mexico\"\n",
      "    ],\n",
      "    \"cast\": [\n",
      "      \"Salma Hayek\",\n",
      "      \"M\\u00e8a Maestro\",\n",
      "      \"Alfred Molina\",\n",
      "      \"Antonio Banderas\"\n",
      "    ],\n",
      "    \"directors\": [\n",
      "      \"Julie Taymor\"\n",
      "    ],\n",
      "    \"runtime\": 123\n",
      "  },\n",
      "  {\n",
      "    \"_id\": {\n",
      "      \"$oid\": \"573a139af29313caabcf0f48\"\n",
      "    },\n",
      "    \"fullplot\": \"Jim West is a guns-a-blazing former Civil War hero. Artemus Gordon is an inventive U.S. Marshal who excels in disguise. When the United States is threatened by psychotic Confederate Arliss Loveless, President Ulysses Grant teams the duo up to bring him to justice. On a hazard-packed train journey from Washington D.C. to Utah, West and Gordon must combine their skills to best Loveless and his diabolical machines.\",\n",
      "    \"imdb\": {\n",
      "      \"rating\": 4.8,\n",
      "      \"votes\": 122655,\n",
      "      \"id\": 120891\n",
      "    },\n",
      "    \"year\": 1999,\n",
      "    \"plot\": \"The two best hired guns in the West must save President Grant from the clutches of a nineteenth-century inventor-villain.\",\n",
      "    \"genres\": [\n",
      "      \"Action\",\n",
      "      \"Western\",\n",
      "      \"Comedy\"\n",
      "    ],\n",
      "    \"rated\": \"PG-13\",\n",
      "    \"metacritic\": 38,\n",
      "    \"title\": \"Wild Wild West\",\n",
      "    \"lastupdated\": \"2015-09-10 17:48:40.287000000\",\n",
      "    \"languages\": [\n",
      "      \"English\"\n",
      "    ],\n",
      "    \"writers\": [\n",
      "      \"Jim Thomas (story)\",\n",
      "      \"John Thomas (story)\",\n",
      "      \"S.S. Wilson (screenplay)\",\n",
      "      \"Brent Maddock (screenplay)\",\n",
      "      \"Jeffrey Price (screenplay)\",\n",
      "      \"Peter S. Seaman (screenplay)\"\n",
      "    ],\n",
      "    \"type\": \"movie\",\n",
      "    \"tomatoes\": {\n",
      "      \"website\": \"http://wildwildwest.warnerbros.com\",\n",
      "      \"viewer\": {\n",
      "        \"rating\": 2.7,\n",
      "        \"numReviews\": 463636,\n",
      "        \"meter\": 28\n",
      "      },\n",
      "      \"dvd\": {\n",
      "        \"$date\": \"1999-11-30T00:00:00Z\"\n",
      "      },\n",
      "      \"critic\": {\n",
      "        \"rating\": 4.1,\n",
      "        \"numReviews\": 130,\n",
      "        \"meter\": 17\n",
      "      },\n",
      "      \"lastUpdated\": {\n",
      "        \"$date\": \"2015-09-12T18:14:42Z\"\n",
      "      },\n",
      "      \"consensus\": \"Bombastic, manic, and largely laugh-free, Wild Wild West is a bizarre misfire in which greater care was lavished upon the special effects than on the script.\",\n",
      "      \"rotten\": 108,\n",
      "      \"production\": \"Warner Bros. Pictures\",\n",
      "      \"fresh\": 22\n",
      "    },\n",
      "    \"poster\": \"https://m.media-amazon.com/images/M/MV5BYmYyMTc4YjItMGNhNC00OWQwLWJhMWUtNTdjZDgxMDI5MjE2L2ltYWdlXkEyXkFqcGdeQXVyMTQxNzMzNDI@._V1_SY1000_SX677_AL_.jpg\",\n",
      "    \"num_mflix_comments\": 1,\n",
      "    \"released\": {\n",
      "      \"$date\": \"1999-06-30T00:00:00Z\"\n",
      "    },\n",
      "    \"awards\": {\n",
      "      \"wins\": 10,\n",
      "      \"nominations\": 11,\n",
      "      \"text\": \"10 wins & 11 nominations.\"\n",
      "    },\n",
      "    \"countries\": [\n",
      "      \"USA\"\n",
      "    ],\n",
      "    \"cast\": [\n",
      "      \"Will Smith\",\n",
      "      \"Kevin Kline\",\n",
      "      \"Kenneth Branagh\",\n",
      "      \"Salma Hayek\"\n",
      "    ],\n",
      "    \"directors\": [\n",
      "      \"Barry Sonnenfeld\"\n",
      "    ],\n",
      "    \"runtime\": 106\n",
      "  },\n",
      "  {\n",
      "    \"_id\": {\n",
      "      \"$oid\": \"573a139bf29313caabcf3c57\"\n",
      "    },\n",
      "    \"plot\": \"Every Friday, the Colonel puts on his only suit and goes to the dock to await a letter announcing the arrival of his pension. But the townsfolk all know that this pension will never come. ...\",\n",
      "    \"genres\": [\n",
      "      \"Drama\"\n",
      "    ],\n",
      "    \"runtime\": 118,\n",
      "    \"cast\": [\n",
      "      \"Fernando Luj\\u00e8n\",\n",
      "      \"Marisa Paredes\",\n",
      "      \"Salma Hayek\",\n",
      "      \"Rafael Incl\\u00e8n\"\n",
      "    ],\n",
      "    \"poster\": \"https://m.media-amazon.com/images/M/MV5BMTQxNjc2Njk1NV5BMl5BanBnXkFtZTcwOTY2MTU1MQ@@._V1_SY1000_SX677_AL_.jpg\",\n",
      "    \"title\": \"No One Writes to the Colonel\",\n",
      "    \"fullplot\": \"Every Friday, the Colonel puts on his only suit and goes to the dock to await a letter announcing the arrival of his pension. But the townsfolk all know that this pension will never come. His wife also knows it, and even he knows it. But he is still waiting, living with the pain of the death of his son.\",\n",
      "    \"languages\": [\n",
      "      \"Spanish\"\n",
      "    ],\n",
      "    \"released\": {\n",
      "      \"$date\": \"1999-06-02T00:00:00Z\"\n",
      "    },\n",
      "    \"directors\": [\n",
      "      \"Arturo Ripstein\"\n",
      "    ],\n",
      "    \"writers\": [\n",
      "      \"Paz Alicia Garciadiego\",\n",
      "      \"Gabriel Garc\\u00e8a M\\u00e8rquez (novel)\"\n",
      "    ],\n",
      "    \"awards\": {\n",
      "      \"wins\": 1,\n",
      "      \"nominations\": 2,\n",
      "      \"text\": \"1 win & 2 nominations.\"\n",
      "    },\n",
      "    \"lastupdated\": \"2015-07-30 00:34:51.927000000\",\n",
      "    \"year\": 1999,\n",
      "    \"imdb\": {\n",
      "      \"rating\": 6.9,\n",
      "      \"votes\": 821,\n",
      "      \"id\": 132905\n",
      "    },\n",
      "    \"countries\": [\n",
      "      \"Mexico\",\n",
      "      \"France\",\n",
      "      \"Spain\"\n",
      "    ],\n",
      "    \"type\": \"movie\",\n",
      "    \"tomatoes\": {\n",
      "      \"viewer\": {\n",
      "        \"rating\": 3.3,\n",
      "        \"numReviews\": 1004,\n",
      "        \"meter\": 62\n",
      "      },\n",
      "      \"dvd\": {\n",
      "        \"$date\": \"2003-06-10T00:00:00Z\"\n",
      "      },\n",
      "      \"production\": \"Latin Crush\",\n",
      "      \"lastUpdated\": {\n",
      "        \"$date\": \"2015-09-12T19:21:42Z\"\n",
      "      }\n",
      "    },\n",
      "    \"num_mflix_comments\": 0\n",
      "  },\n",
      "  {\n",
      "    \"_id\": {\n",
      "      \"$oid\": \"573a139ef29313caabcfba16\"\n",
      "    },\n",
      "    \"fullplot\": \"An anthology film retelling the story of the famous Studio 54, a hot disco hangout for the social elite of New York. The movie follows several characters at once, some of whom are in desperate straits and on the verge of crashing.\",\n",
      "    \"imdb\": {\n",
      "      \"rating\": 5.8,\n",
      "      \"votes\": 26552,\n",
      "      \"id\": 120577\n",
      "    },\n",
      "    \"year\": 1998,\n",
      "    \"plot\": \"Famous 70s NYC nightclub seen and told through the eyes of a young employee.\",\n",
      "    \"genres\": [\n",
      "      \"Drama\",\n",
      "      \"Music\"\n",
      "    ],\n",
      "    \"rated\": \"R\",\n",
      "    \"metacritic\": 33,\n",
      "    \"title\": \"54\",\n",
      "    \"lastupdated\": \"2015-08-30 02:17:08.113000000\",\n",
      "    \"languages\": [\n",
      "      \"English\"\n",
      "    ],\n",
      "    \"writers\": [\n",
      "      \"Mark Christopher\"\n",
      "    ],\n",
      "    \"type\": \"movie\",\n",
      "    \"tomatoes\": {\n",
      "      \"website\": \"http://www.miramax.com/movie/54\",\n",
      "      \"viewer\": {\n",
      "        \"rating\": 2.8,\n",
      "        \"numReviews\": 31237,\n",
      "        \"meter\": 44\n",
      "      },\n",
      "      \"dvd\": {\n",
      "        \"$date\": \"2001-04-03T00:00:00Z\"\n",
      "      },\n",
      "      \"critic\": {\n",
      "        \"rating\": 4.2,\n",
      "        \"numReviews\": 66,\n",
      "        \"meter\": 15\n",
      "      },\n",
      "      \"lastUpdated\": {\n",
      "        \"$date\": \"2015-08-22T19:09:51Z\"\n",
      "      },\n",
      "      \"consensus\": \"Poor plot development and slow pacing keep 54 from capturing the energy of it's legendary namesake.\",\n",
      "      \"rotten\": 56,\n",
      "      \"production\": \"Miramax Films\",\n",
      "      \"fresh\": 10\n",
      "    },\n",
      "    \"poster\": \"https://m.media-amazon.com/images/M/MV5BYTIzNzIxMjEtZDNiZS00Y2E1LTkwOTItZGJjOTMwYzU4YzVmXkEyXkFqcGdeQXVyNDk3NzU2MTQ@._V1_SY1000_SX677_AL_.jpg\",\n",
      "    \"num_mflix_comments\": 0,\n",
      "    \"released\": {\n",
      "      \"$date\": \"1998-08-28T00:00:00Z\"\n",
      "    },\n",
      "    \"awards\": {\n",
      "      \"wins\": 0,\n",
      "      \"nominations\": 7,\n",
      "      \"text\": \"7 nominations.\"\n",
      "    },\n",
      "    \"countries\": [\n",
      "      \"USA\"\n",
      "    ],\n",
      "    \"cast\": [\n",
      "      \"Ryan Phillippe\",\n",
      "      \"Salma Hayek\",\n",
      "      \"Neve Campbell\",\n",
      "      \"Mike Myers\"\n",
      "    ],\n",
      "    \"directors\": [\n",
      "      \"Mark Christopher\"\n",
      "    ],\n",
      "    \"runtime\": 93\n",
      "  },\n",
      "  {\n",
      "    \"_id\": {\n",
      "      \"$oid\": \"573a13a4f29313caabd1276d\"\n",
      "    },\n",
      "    \"plot\": \"In the Time of the Butterflies is inspired by the true story of the three Mirabal sisters who, in 1960, were murdered for their part in an underground plot to overthrow the government.\",\n",
      "    \"genres\": [\n",
      "      \"Crime\",\n",
      "      \"Drama\",\n",
      "      \"History\"\n",
      "    ],\n",
      "    \"runtime\": 95,\n",
      "    \"rated\": \"PG-13\",\n",
      "    \"cast\": [\n",
      "      \"Salma Hayek\",\n",
      "      \"Edward James Olmos\",\n",
      "      \"M\\u00e8a Maestro\",\n",
      "      \"Demian Bichir\"\n",
      "    ],\n",
      "    \"num_mflix_comments\": 0,\n",
      "    \"poster\": \"https://m.media-amazon.com/images/M/MV5BMTQyNzc0NDExN15BMl5BanBnXkFtZTcwOTYwOTAyMQ@@._V1_SY1000_SX677_AL_.jpg\",\n",
      "    \"title\": \"In the Time of the Butterflies\",\n",
      "    \"fullplot\": \"On November 25, 1960, the bodies of three sisters were found near the bottom of a cliff on the north coast of the Dominican Republic. The official daily 'El Caribe' reports that it had been an accident, but it does not mention that a fourth sister lives. Nor does it mention the sisters' fierce opposition to the General Trujillo's dictatorship. This is their story: how Minerva started the tragedy by refusing Trujillo; how Patria became an opponent from the church itself; how Maria Teresa joined the revolution through the love. And how they lost their wings, but not their courage. They were Las Mariposas - \\\"The Butterflies\\\".\",\n",
      "    \"languages\": [\n",
      "      \"English\"\n",
      "    ],\n",
      "    \"released\": {\n",
      "      \"$date\": \"2004-08-19T00:00:00Z\"\n",
      "    },\n",
      "    \"directors\": [\n",
      "      \"Mariano Barroso\"\n",
      "    ],\n",
      "    \"writers\": [\n",
      "      \"Julia \\u00e8lvarez (novel)\",\n",
      "      \"Judy Klass (teleplay)\",\n",
      "      \"David Klass (teleplay)\"\n",
      "    ],\n",
      "    \"awards\": {\n",
      "      \"wins\": 2,\n",
      "      \"nominations\": 2,\n",
      "      \"text\": \"2 wins & 2 nominations.\"\n",
      "    },\n",
      "    \"lastupdated\": \"2015-08-28 00:32:45.503000000\",\n",
      "    \"year\": 2001,\n",
      "    \"imdb\": {\n",
      "      \"rating\": 6.8,\n",
      "      \"votes\": 1648,\n",
      "      \"id\": 263467\n",
      "    },\n",
      "    \"countries\": [\n",
      "      \"USA\",\n",
      "      \"Mexico\"\n",
      "    ],\n",
      "    \"type\": \"movie\",\n",
      "    \"tomatoes\": {\n",
      "      \"viewer\": {\n",
      "        \"rating\": 3.8,\n",
      "        \"numReviews\": 3826,\n",
      "        \"meter\": 78\n",
      "      },\n",
      "      \"dvd\": {\n",
      "        \"$date\": \"2002-05-07T00:00:00Z\"\n",
      "      },\n",
      "      \"production\": \"MGM\",\n",
      "      \"lastUpdated\": {\n",
      "        \"$date\": \"2015-07-21T18:53:16Z\"\n",
      "      }\n",
      "    }\n",
      "  },\n",
      "  {\n",
      "    \"_id\": {\n",
      "      \"$oid\": \"573a13a6f29313caabd17bd5\"\n",
      "    },\n",
      "    \"fullplot\": \"In the third movie of Rodriguez's \\\"Mariachi\\\" trilogy, a Mexican drug lord pretends to overthrow the Mexican government, and is connected to a corrupt CIA agent who at that time, demands retribution from his worst enemy to carry out the drug lord's uprising against the government.\",\n",
      "    \"imdb\": {\n",
      "      \"rating\": 6.4,\n",
      "      \"votes\": 122029,\n",
      "      \"id\": 285823\n",
      "    },\n",
      "    \"year\": 2003,\n",
      "    \"plot\": \"Hitman \\\"El Mariachi\\\" becomes involved in international espionage involving a psychotic CIA agent and a corrupt Mexican general.\",\n",
      "    \"genres\": [\n",
      "      \"Action\",\n",
      "      \"Thriller\"\n",
      "    ],\n",
      "    \"rated\": \"R\",\n",
      "    \"metacritic\": 56,\n",
      "    \"title\": \"Once Upon a Time in Mexico\",\n",
      "    \"lastupdated\": \"2015-09-07 00:09:02.457000000\",\n",
      "    \"languages\": [\n",
      "      \"English\",\n",
      "      \"Spanish\"\n",
      "    ],\n",
      "    \"writers\": [\n",
      "      \"Robert Rodriguez\"\n",
      "    ],\n",
      "    \"type\": \"movie\",\n",
      "    \"tomatoes\": {\n",
      "      \"website\": \"http://www.sonypictures.com/movies/onceuponatimeinmexico/\",\n",
      "      \"viewer\": {\n",
      "        \"rating\": 3.2,\n",
      "        \"numReviews\": 284917,\n",
      "        \"meter\": 64\n",
      "      },\n",
      "      \"dvd\": {\n",
      "        \"$date\": \"2004-01-20T00:00:00Z\"\n",
      "      },\n",
      "      \"critic\": {\n",
      "        \"rating\": 6.3,\n",
      "        \"numReviews\": 163,\n",
      "        \"meter\": 68\n",
      "      },\n",
      "      \"boxOffice\": \"$55.8M\",\n",
      "      \"consensus\": \"Violent, pulpy, loopy fun, with Depp stealing the show.\",\n",
      "      \"rotten\": 52,\n",
      "      \"production\": \"Sony Pictures Releasing\",\n",
      "      \"lastUpdated\": {\n",
      "        \"$date\": \"2015-09-14T18:03:16Z\"\n",
      "      },\n",
      "      \"fresh\": 111\n",
      "    },\n",
      "    \"poster\": \"https://m.media-amazon.com/images/M/MV5BMTU5MDg5OTcwOV5BMl5BanBnXkFtZTcwMjI1MTIzMw@@._V1_SY1000_SX677_AL_.jpg\",\n",
      "    \"num_mflix_comments\": 0,\n",
      "    \"released\": {\n",
      "      \"$date\": \"2003-09-12T00:00:00Z\"\n",
      "    },\n",
      "    \"awards\": {\n",
      "      \"wins\": 3,\n",
      "      \"nominations\": 4,\n",
      "      \"text\": \"3 wins & 4 nominations.\"\n",
      "    },\n",
      "    \"countries\": [\n",
      "      \"USA\"\n",
      "    ],\n",
      "    \"cast\": [\n",
      "      \"Antonio Banderas\",\n",
      "      \"Salma Hayek\",\n",
      "      \"Johnny Depp\",\n",
      "      \"Mickey Rourke\"\n",
      "    ],\n",
      "    \"directors\": [\n",
      "      \"Robert Rodriguez\"\n",
      "    ],\n",
      "    \"runtime\": 102\n",
      "  },\n",
      "  {\n",
      "    \"_id\": {\n",
      "      \"$oid\": \"573a13adf29313caabd2af88\"\n",
      "    },\n",
      "    \"plot\": \"The story of what happens after a master thief achieves his last big score, when the FBI agent who promised he'd capture him is about to do just that.\",\n",
      "    \"genres\": [\n",
      "      \"Action\",\n",
      "      \"Comedy\",\n",
      "      \"Crime\"\n",
      "    ],\n",
      "    \"runtime\": 97,\n",
      "    \"metacritic\": 38,\n",
      "    \"rated\": \"PG-13\",\n",
      "    \"cast\": [\n",
      "      \"Pierce Brosnan\",\n",
      "      \"Salma Hayek\",\n",
      "      \"Woody Harrelson\",\n",
      "      \"Don Cheadle\"\n",
      "    ],\n",
      "    \"poster\": \"https://m.media-amazon.com/images/M/MV5BN2YyMmE1MTUtNTg2OS00ZWRiLWFhZTQtZDViM2MyOGJhZDY3XkEyXkFqcGdeQXVyMTQxNzMzNDI@._V1_SY1000_SX677_AL_.jpg\",\n",
      "    \"title\": \"After the Sunset\",\n",
      "    \"fullplot\": \"After a successful last score, a master thief retires to an island paradise. His lifelong nemesis, a crafty FBI agent, washes ashore to ensure he's making good on his promise. The pair soon enters into a new game of cat-and-mouse.\",\n",
      "    \"languages\": [\n",
      "      \"English\"\n",
      "    ],\n",
      "    \"released\": {\n",
      "      \"$date\": \"2004-11-12T00:00:00Z\"\n",
      "    },\n",
      "    \"directors\": [\n",
      "      \"Brett Ratner\"\n",
      "    ],\n",
      "    \"writers\": [\n",
      "      \"Paul Zbyszewski (story)\",\n",
      "      \"Paul Zbyszewski (screenplay)\",\n",
      "      \"Craig Rosenberg (screenplay)\"\n",
      "    ],\n",
      "    \"awards\": {\n",
      "      \"wins\": 0,\n",
      "      \"nominations\": 1,\n",
      "      \"text\": \"1 nomination.\"\n",
      "    },\n",
      "    \"lastupdated\": \"2015-08-21 00:50:02.187000000\",\n",
      "    \"year\": 2004,\n",
      "    \"imdb\": {\n",
      "      \"rating\": 6.3,\n",
      "      \"votes\": 36636,\n",
      "      \"id\": 367479\n",
      "    },\n",
      "    \"countries\": [\n",
      "      \"USA\"\n",
      "    ],\n",
      "    \"type\": \"movie\",\n",
      "    \"num_mflix_comments\": 0\n",
      "  },\n",
      "  {\n",
      "    \"_id\": {\n",
      "      \"$oid\": \"573a13aff29313caabd2f0a5\"\n",
      "    },\n",
      "    \"plot\": \"Mexican beauty Camilla hopes to rise above her station by marrying a wealthy American. That is complicated by meeting Arturo Bandini, a first-generation Italian hoping to land a writing career and a blue-eyed blonde on his arm.\",\n",
      "    \"genres\": [\n",
      "      \"Drama\",\n",
      "      \"Romance\"\n",
      "    ],\n",
      "    \"runtime\": 117,\n",
      "    \"metacritic\": 58,\n",
      "    \"rated\": \"R\",\n",
      "    \"cast\": [\n",
      "      \"Colin Farrell\",\n",
      "      \"Salma Hayek\",\n",
      "      \"Donald Sutherland\",\n",
      "      \"Eileen Atkins\"\n",
      "    ],\n",
      "    \"poster\": \"https://m.media-amazon.com/images/M/MV5BZDc0ZWFmYjAtMTc2ZS00MzdlLThkZjAtM2I5ZGZlZjYzZDRlXkEyXkFqcGdeQXVyMTMxMTY0OTQ@._V1_SY1000_SX677_AL_.jpg\",\n",
      "    \"title\": \"Ask the Dust\",\n",
      "    \"fullplot\": \"L.A. in the early 1930's: racism, poverty, and disease color the Bunker Hill neighborhood where Arturo Bandini, a lover of men and beasts alike, has arrived from Colorado to write the great Los Angeles novel. After six months and down to his last nickel, he orders a cup of coffee, served by Camilla Lopez, beautiful, self-possessed, and Mexican. Arturo gets advice, encouragement, and an occasional check from H.L. Mencken, so he keeps writing and he keeps seeing Camilla. But, he's mean to her for no apparent reason, so the relationship sputters. A housekeeper from back East suggests a way out of his jealously and fears. \\\"Camilla Bandini\\\": is it in the cards?\",\n",
      "    \"languages\": [\n",
      "      \"English\",\n",
      "      \"Spanish\"\n",
      "    ],\n",
      "    \"released\": {\n",
      "      \"$date\": \"2006-04-13T00:00:00Z\"\n",
      "    },\n",
      "    \"directors\": [\n",
      "      \"Robert Towne\"\n",
      "    ],\n",
      "    \"writers\": [\n",
      "      \"Robert Towne (screenplay)\",\n",
      "      \"John Fante (novel)\"\n",
      "    ],\n",
      "    \"awards\": {\n",
      "      \"wins\": 0,\n",
      "      \"nominations\": 1,\n",
      "      \"text\": \"1 nomination.\"\n",
      "    },\n",
      "    \"lastupdated\": \"2015-08-14 01:31:42.053000000\",\n",
      "    \"year\": 2006,\n",
      "    \"imdb\": {\n",
      "      \"rating\": 5.8,\n",
      "      \"votes\": 7690,\n",
      "      \"id\": 384814\n",
      "    },\n",
      "    \"countries\": [\n",
      "      \"USA\",\n",
      "      \"Germany\"\n",
      "    ],\n",
      "    \"type\": \"movie\",\n",
      "    \"num_mflix_comments\": 0\n",
      "  },\n",
      "  {\n",
      "    \"_id\": {\n",
      "      \"$oid\": \"573a13b3f29313caabd3c2c0\"\n",
      "    },\n",
      "    \"plot\": \"Based on the true story, two homicide detectives track Martha Beck and Raymond Martinez Fernandez, a murderous pair known as the \\\"Lonely Hearts Killers\\\" who lured their victims through the personals.\",\n",
      "    \"genres\": [\n",
      "      \"Crime\",\n",
      "      \"Drama\",\n",
      "      \"Romance\"\n",
      "    ],\n",
      "    \"runtime\": 108,\n",
      "    \"metacritic\": 60,\n",
      "    \"rated\": \"R\",\n",
      "    \"cast\": [\n",
      "      \"John Travolta\",\n",
      "      \"James Gandolfini\",\n",
      "      \"Jared Leto\",\n",
      "      \"Salma Hayek\"\n",
      "    ],\n",
      "    \"poster\": \"https://m.media-amazon.com/images/M/MV5BYTIxNGNjZTMtMGM5Ny00MmQ5LWEwODQtYTZkNGY2MjQ1MGM3XkEyXkFqcGdeQXVyNTIzOTk5ODM@._V1_SY1000_SX677_AL_.jpg\",\n",
      "    \"title\": \"Lonely Hearts\",\n",
      "    \"fullplot\": \"In the late 1940's, Martha Beck and Raymond Fernandez were America's notorious \\\"Lonely Hearts Killers\\\". Their lethal scam was simple; they would swindle and then viciously murder lovelorn war widows who would answer their personal ads in which Ray would describe himself as a sexy Latin Lover. Ironically, Ray's initial introduction to Martha was as a prospective mark. But when they met, it was love at first sight, perhaps as a result of their penchant for kinky sex and their mutual love for duplicity and easy money. With Martha posing as Ray's sister, they bilked elderly spinsters and widows of their savings and then viciously murdered them in a bloodbath of sexual frenzy. When they were arrested, Martha and Ray confessed to 12 killings, although it is believed the actual number is closer to 20. At their sensational trial, Martha and Ray cooed, held hands and seemed as though they could not get enough of each other. Their plea of not guilty by reason of insanity was rejected, and on August 22, 1949, the homicidal lovers were sentenced to death. After numerous appeals, they were electrocuted on March 8, 1951, side-by-side in Sing Sing prison.\",\n",
      "    \"languages\": [\n",
      "      \"English\"\n",
      "    ],\n",
      "    \"released\": {\n",
      "      \"$date\": \"2006-10-21T00:00:00Z\"\n",
      "    },\n",
      "    \"directors\": [\n",
      "      \"Todd Robinson\"\n",
      "    ],\n",
      "    \"writers\": [\n",
      "      \"Todd Robinson\"\n",
      "    ],\n",
      "    \"awards\": {\n",
      "      \"wins\": 0,\n",
      "      \"nominations\": 1,\n",
      "      \"text\": \"1 nomination.\"\n",
      "    },\n",
      "    \"lastupdated\": \"2015-08-28 00:31:01.910000000\",\n",
      "    \"year\": 2006,\n",
      "    \"imdb\": {\n",
      "      \"rating\": 6.5,\n",
      "      \"votes\": 16744,\n",
      "      \"id\": 441774\n",
      "    },\n",
      "    \"countries\": [\n",
      "      \"Germany\",\n",
      "      \"USA\"\n",
      "    ],\n",
      "    \"type\": \"movie\",\n",
      "    \"tomatoes\": {\n",
      "      \"website\": \"http://www.cstar.com/lonelyhearts/\",\n",
      "      \"viewer\": {\n",
      "        \"rating\": 3.2,\n",
      "        \"numReviews\": 9726,\n",
      "        \"meter\": 49\n",
      "      },\n",
      "      \"dvd\": {\n",
      "        \"$date\": \"2007-07-31T00:00:00Z\"\n",
      "      },\n",
      "      \"critic\": {\n",
      "        \"rating\": 5.6,\n",
      "        \"numReviews\": 42,\n",
      "        \"meter\": 48\n",
      "      },\n",
      "      \"boxOffice\": \"$0.1M\",\n",
      "      \"consensus\": \"Several genres and plotlines intertwine in Lonely Hearts but don't connect, creating an uneven and unsatisfying film.\",\n",
      "      \"rotten\": 22,\n",
      "      \"production\": \"Samuel Goldwyn/Roadside\",\n",
      "      \"lastUpdated\": {\n",
      "        \"$date\": \"2015-08-19T19:12:53Z\"\n",
      "      },\n",
      "      \"fresh\": 20\n",
      "    },\n",
      "    \"num_mflix_comments\": 0\n",
      "  },\n",
      "  {\n",
      "    \"_id\": {\n",
      "      \"$oid\": \"573a13b3f29313caabd3dccc\"\n",
      "    },\n",
      "    \"plot\": \"The events leading up to the sword fighting cat's meeting with Shrek and his friends.\",\n",
      "    \"genres\": [\n",
      "      \"Animation\",\n",
      "      \"Adventure\",\n",
      "      \"Comedy\"\n",
      "    ],\n",
      "    \"runtime\": 90,\n",
      "    \"metacritic\": 65,\n",
      "    \"rated\": \"PG\",\n",
      "    \"cast\": [\n",
      "      \"Antonio Banderas\",\n",
      "      \"Salma Hayek\",\n",
      "      \"Zach Galifianakis\",\n",
      "      \"Billy Bob Thornton\"\n",
      "    ],\n",
      "    \"poster\": \"https://m.media-amazon.com/images/M/MV5BMTMxMTU5MTY4MV5BMl5BanBnXkFtZTcwNzgyNjg2NQ@@._V1_SY1000_SX677_AL_.jpg\",\n",
      "    \"title\": \"Puss in Boots\",\n",
      "    \"fullplot\": \"Years before meeting Shrek and Donkey, the adorable but tricky Puss in Boots must clear his name from all charges making him a wanted fugitive. While trying to steal magic beans from the infamous criminals Jack and Jill, the hero crosses paths with his female match, Kitty Softpaws, who leads Puss to his old friend, but now enemy, Humpty Dumpty. Memories of friendship and betrayal enlarges Puss' doubt, but he eventually agrees to help the egg get the magic beans. Together, the three plan to steal the beans, get to the Giant's castle, nab the golden goose, and clear Puss' name.\",\n",
      "    \"languages\": [\n",
      "      \"English\",\n",
      "      \"Spanish\"\n",
      "    ],\n",
      "    \"released\": {\n",
      "      \"$date\": \"2011-10-28T00:00:00Z\"\n",
      "    },\n",
      "    \"directors\": [\n",
      "      \"Chris Miller\"\n",
      "    ],\n",
      "    \"writers\": [\n",
      "      \"Charles Perrault (character)\",\n",
      "      \"Tom Wheeler (screenplay)\",\n",
      "      \"Brian Lynch (story)\",\n",
      "      \"William Davies (story)\",\n",
      "      \"Tom Wheeler (story)\"\n",
      "    ],\n",
      "    \"awards\": {\n",
      "      \"wins\": 7,\n",
      "      \"nominations\": 41,\n",
      "      \"text\": \"Nominated for 1 Oscar. Another 6 wins & 41 nominations.\"\n",
      "    },\n",
      "    \"lastupdated\": \"2015-08-23 00:38:10.813000000\",\n",
      "    \"year\": 2011,\n",
      "    \"imdb\": {\n",
      "      \"rating\": 6.7,\n",
      "      \"votes\": 104860,\n",
      "      \"id\": 448694\n",
      "    },\n",
      "    \"countries\": [\n",
      "      \"USA\"\n",
      "    ],\n",
      "    \"type\": \"movie\",\n",
      "    \"tomatoes\": {\n",
      "      \"website\": \"http://www.pussinbootsthemovie.com/\",\n",
      "      \"viewer\": {\n",
      "        \"rating\": 3.6,\n",
      "        \"numReviews\": 77938,\n",
      "        \"meter\": 68\n",
      "      },\n",
      "      \"dvd\": {\n",
      "        \"$date\": \"2012-02-24T00:00:00Z\"\n",
      "      },\n",
      "      \"critic\": {\n",
      "        \"rating\": 6.8,\n",
      "        \"numReviews\": 142,\n",
      "        \"meter\": 84\n",
      "      },\n",
      "      \"boxOffice\": \"$149.2M\",\n",
      "      \"consensus\": \"It isn't deep or groundbreaking, but what it lacks in profundity, Puss in Boots more than makes up for with an abundance of wit, visual sparkle, and effervescent charm.\",\n",
      "      \"rotten\": 23,\n",
      "      \"production\": \"Paramount/Dreamworks\",\n",
      "      \"lastUpdated\": {\n",
      "        \"$date\": \"2015-09-12T18:19:37Z\"\n",
      "      },\n",
      "      \"fresh\": 119\n",
      "    },\n",
      "    \"num_mflix_comments\": 0\n",
      "  },\n",
      "  {\n",
      "    \"_id\": {\n",
      "      \"$oid\": \"573a13ccf29313caabd82d05\"\n",
      "    },\n",
      "    \"plot\": \"Exiled artist and poet Mustafa embarks on a journey home with his housekeeper and her daughter; together the trio must evade the authorities who fear that the truth in Mustafa's words will incite rebellion.\",\n",
      "    \"genres\": [\n",
      "      \"Animation\"\n",
      "    ],\n",
      "    \"runtime\": 84,\n",
      "    \"metacritic\": 61,\n",
      "    \"rated\": \"PG\",\n",
      "    \"cast\": [\n",
      "      \"Salma Hayek\",\n",
      "      \"Liam Neeson\",\n",
      "      \"John Krasinski\",\n",
      "      \"Quvenzhan\\u00e8 Wallis\"\n",
      "    ],\n",
      "    \"num_mflix_comments\": 1,\n",
      "    \"poster\": \"https://m.media-amazon.com/images/M/MV5BMTY5NzI4MjE2OV5BMl5BanBnXkFtZTgwMDg3OTU5NTE@._V1_SY1000_SX677_AL_.jpg\",\n",
      "    \"title\": \"The Prophet\",\n",
      "    \"fullplot\": \"Exiled artist and poet Mustafa embarks on a journey home with his housekeeper and her daughter; together the trio must evade the authorities who fear that the truth in Mustafa's words will incite rebellion.\",\n",
      "    \"languages\": [\n",
      "      \"English\"\n",
      "    ],\n",
      "    \"released\": {\n",
      "      \"$date\": \"2015-08-07T00:00:00Z\"\n",
      "    },\n",
      "    \"directors\": [\n",
      "      \"Roger Allers\",\n",
      "      \"Ga\\u00e8tan Brizzi\",\n",
      "      \"Paul Brizzi\",\n",
      "      \"Joan C. Gratz\",\n",
      "      \"Mohammed Saeed Harib\",\n",
      "      \"Tomm Moore\",\n",
      "      \"Nina Paley\",\n",
      "      \"Bill Plympton\",\n",
      "      \"Joann Sfar\",\n",
      "      \"Michal Socha\"\n",
      "    ],\n",
      "    \"writers\": [\n",
      "      \"Roger Allers (screenplay)\",\n",
      "      \"Kahlil Gibran (novel)\",\n",
      "      \"Irene Mecchi (Additional Story & Dialogue)\",\n",
      "      \"Hanna Weg (additional writing)\",\n",
      "      \"Douglas Wood (additional story and dialogue)\"\n",
      "    ],\n",
      "    \"awards\": {\n",
      "      \"wins\": 0,\n",
      "      \"nominations\": 2,\n",
      "      \"text\": \"2 nominations.\"\n",
      "    },\n",
      "    \"lastupdated\": \"2015-08-29 00:02:18.623000000\",\n",
      "    \"year\": 2014,\n",
      "    \"imdb\": {\n",
      "      \"rating\": 6.8,\n",
      "      \"votes\": 618,\n",
      "      \"id\": 1640718\n",
      "    },\n",
      "    \"countries\": [\n",
      "      \"USA\",\n",
      "      \"France\",\n",
      "      \"Canada\",\n",
      "      \"Lebanon\",\n",
      "      \"Qatar\"\n",
      "    ],\n",
      "    \"type\": \"movie\"\n",
      "  },\n",
      "  {\n",
      "    \"_id\": {\n",
      "      \"$oid\": \"573a13ccf29313caabd833ed\"\n",
      "    },\n",
      "    \"plot\": \"A high school biology teacher looks to become a successful mixed-martial arts fighter in an effort to raise money to prevent extra-curricular activities from being axed at his cash-strapped school.\",\n",
      "    \"genres\": [\n",
      "      \"Action\",\n",
      "      \"Comedy\",\n",
      "      \"Sport\"\n",
      "    ],\n",
      "    \"runtime\": 105,\n",
      "    \"metacritic\": 40,\n",
      "    \"rated\": \"PG\",\n",
      "    \"cast\": [\n",
      "      \"Kevin James\",\n",
      "      \"Salma Hayek\",\n",
      "      \"Henry Winkler\",\n",
      "      \"Greg Germann\"\n",
      "    ],\n",
      "    \"num_mflix_comments\": 0,\n",
      "    \"poster\": \"https://m.media-amazon.com/images/M/MV5BMTUxMzEzNDQ0Nl5BMl5BanBnXkFtZTcwMDI2NTY1OA@@._V1_SY1000_SX677_AL_.jpg\",\n",
      "    \"title\": \"Here Comes the Boom\",\n",
      "    \"fullplot\": \"A high school biology teacher looks to become a successful mixed-martial arts fighter in an effort to raise money to prevent extra-curricular activities from being axed at his cash-strapped school.\",\n",
      "    \"languages\": [\n",
      "      \"English\",\n",
      "      \"Dutch\"\n",
      "    ],\n",
      "    \"released\": {\n",
      "      \"$date\": \"2012-10-12T00:00:00Z\"\n",
      "    },\n",
      "    \"directors\": [\n",
      "      \"Frank Coraci\"\n",
      "    ],\n",
      "    \"writers\": [\n",
      "      \"Allan Loeb\",\n",
      "      \"Kevin James\"\n",
      "    ],\n",
      "    \"awards\": {\n",
      "      \"wins\": 0,\n",
      "      \"nominations\": 3,\n",
      "      \"text\": \"3 nominations.\"\n",
      "    },\n",
      "    \"lastupdated\": \"2015-09-05 00:38:20.260000000\",\n",
      "    \"year\": 2012,\n",
      "    \"imdb\": {\n",
      "      \"rating\": 6.5,\n",
      "      \"votes\": 69939,\n",
      "      \"id\": 1648179\n",
      "    },\n",
      "    \"countries\": [\n",
      "      \"USA\"\n",
      "    ],\n",
      "    \"type\": \"movie\"\n",
      "  },\n",
      "  {\n",
      "    \"_id\": {\n",
      "      \"$oid\": \"573a13cff29313caabd88de0\"\n",
      "    },\n",
      "    \"plot\": \"A high school biology teacher looks to become a successful mixed-martial arts fighter in an effort to raise money to prevent extra-curricular activities from being axed at his cash-strapped school.\",\n",
      "    \"genres\": [\n",
      "      \"Action\",\n",
      "      \"Comedy\",\n",
      "      \"Sport\"\n",
      "    ],\n",
      "    \"runtime\": 105,\n",
      "    \"metacritic\": 40,\n",
      "    \"rated\": \"PG\",\n",
      "    \"cast\": [\n",
      "      \"Kevin James\",\n",
      "      \"Salma Hayek\",\n",
      "      \"Henry Winkler\",\n",
      "      \"Greg Germann\"\n",
      "    ],\n",
      "    \"num_mflix_comments\": 0,\n",
      "    \"poster\": \"https://m.media-amazon.com/images/M/MV5BMTUxMzEzNDQ0Nl5BMl5BanBnXkFtZTcwMDI2NTY1OA@@._V1_SY1000_SX677_AL_.jpg\",\n",
      "    \"title\": \"Here Comes the Boom\",\n",
      "    \"fullplot\": \"A high school biology teacher looks to become a successful mixed-martial arts fighter in an effort to raise money to prevent extra-curricular activities from being axed at his cash-strapped school.\",\n",
      "    \"languages\": [\n",
      "      \"English\",\n",
      "      \"Dutch\"\n",
      "    ],\n",
      "    \"released\": {\n",
      "      \"$date\": \"2012-10-12T00:00:00Z\"\n",
      "    },\n",
      "    \"directors\": [\n",
      "      \"Frank Coraci\"\n",
      "    ],\n",
      "    \"writers\": [\n",
      "      \"Allan Loeb\",\n",
      "      \"Kevin James\"\n",
      "    ],\n",
      "    \"awards\": {\n",
      "      \"wins\": 0,\n",
      "      \"nominations\": 3,\n",
      "      \"text\": \"3 nominations.\"\n",
      "    },\n",
      "    \"lastupdated\": \"2015-09-12 06:11:27.110000000\",\n",
      "    \"year\": 2012,\n",
      "    \"imdb\": {\n",
      "      \"rating\": 6.5,\n",
      "      \"votes\": 70090,\n",
      "      \"id\": 1648179\n",
      "    },\n",
      "    \"countries\": [\n",
      "      \"USA\"\n",
      "    ],\n",
      "    \"type\": \"movie\"\n",
      "  },\n",
      "  {\n",
      "    \"_id\": {\n",
      "      \"$oid\": \"573a13d1f29313caabd8ec00\"\n",
      "    },\n",
      "    \"plot\": \"An out-of-work publicist who suffers an accident looks to sell the exclusive interview rights to the highest bidder in an attempt to provide for his family.\",\n",
      "    \"genres\": [\n",
      "      \"Drama\"\n",
      "    ],\n",
      "    \"runtime\": 94,\n",
      "    \"metacritic\": 32,\n",
      "    \"cast\": [\n",
      "      \"Jos\\u00e8 Mota\",\n",
      "      \"Salma Hayek\",\n",
      "      \"Blanca Portillo\",\n",
      "      \"Juan Luis Galiardo\"\n",
      "    ],\n",
      "    \"num_mflix_comments\": 0,\n",
      "    \"poster\": \"https://m.media-amazon.com/images/M/MV5BNzY4NTEyMjMzOF5BMl5BanBnXkFtZTcwNjEzNzIwOQ@@._V1_SY1000_SX677_AL_.jpg\",\n",
      "    \"title\": \"As Luck Would Have It\",\n",
      "    \"fullplot\": \"An out-of-work publicist who suffers an accident looks to sell the exclusive interview rights to the highest bidder in an attempt to provide for his family.\",\n",
      "    \"languages\": [\n",
      "      \"Spanish\"\n",
      "    ],\n",
      "    \"released\": {\n",
      "      \"$date\": \"2012-01-13T00:00:00Z\"\n",
      "    },\n",
      "    \"directors\": [\n",
      "      \"\\u00e8lex de la Iglesia\"\n",
      "    ],\n",
      "    \"writers\": [\n",
      "      \"Randy Feldman (screenplay)\"\n",
      "    ],\n",
      "    \"awards\": {\n",
      "      \"wins\": 0,\n",
      "      \"nominations\": 3,\n",
      "      \"text\": \"3 nominations.\"\n",
      "    },\n",
      "    \"lastupdated\": \"2015-08-08 00:39:36.037000000\",\n",
      "    \"year\": 2011,\n",
      "    \"imdb\": {\n",
      "      \"rating\": 6.2,\n",
      "      \"votes\": 1786,\n",
      "      \"id\": 1808240\n",
      "    },\n",
      "    \"countries\": [\n",
      "      \"Spain\",\n",
      "      \"France\",\n",
      "      \"USA\"\n",
      "    ],\n",
      "    \"type\": \"movie\",\n",
      "    \"tomatoes\": {\n",
      "      \"website\": \"http://www.ifcfilms.com/films/as-luck-would-have-it\",\n",
      "      \"viewer\": {\n",
      "        \"rating\": 3.2,\n",
      "        \"numReviews\": 302,\n",
      "        \"meter\": 48\n",
      "      },\n",
      "      \"critic\": {\n",
      "        \"rating\": 4.6,\n",
      "        \"numReviews\": 5,\n",
      "        \"meter\": 40\n",
      "      },\n",
      "      \"lastUpdated\": {\n",
      "        \"$date\": \"2015-06-15T18:02:26Z\"\n",
      "      },\n",
      "      \"rotten\": 3,\n",
      "      \"production\": \"Independent Pictures\",\n",
      "      \"fresh\": 2\n",
      "    }\n",
      "  },\n",
      "  {\n",
      "    \"_id\": {\n",
      "      \"$oid\": \"573a13e9f29313caabdcc159\"\n",
      "    },\n",
      "    \"plot\": \"The film serves as Garrone's English-language debut and will interweave three separate story strands bookended by brief bits in which Italians Alba Rohrwacher and Massimo Ceccherini will ...\",\n",
      "    \"genres\": [\n",
      "      \"Fantasy\",\n",
      "      \"Romance\"\n",
      "    ],\n",
      "    \"runtime\": 125,\n",
      "    \"metacritic\": 80,\n",
      "    \"cast\": [\n",
      "      \"Salma Hayek\",\n",
      "      \"Vincent Cassel\",\n",
      "      \"Toby Jones\",\n",
      "      \"John C. Reilly\"\n",
      "    ],\n",
      "    \"num_mflix_comments\": 0,\n",
      "    \"poster\": \"https://m.media-amazon.com/images/M/MV5BOTBiY2U2MTctNTA4Ni00MDBkLTk5MjItZWUxNDk5YmFlMTliL2ltYWdlXkEyXkFqcGdeQXVyNDUxNjc5NjY@._V1_SY1000_SX677_AL_.jpg\",\n",
      "    \"title\": \"Tale of Tales\",\n",
      "    \"fullplot\": \"The film serves as Garrone's English-language debut and will interweave three separate story strands bookended by brief bits in which Italians Alba Rohrwacher and Massimo Ceccherini will play a street circus family. In one tale Salma Hayek will play a jealous queen who forfeits her husband's life. In another, Vincent Cassel plays a king whose passion is stoked by two mysterious sisters.\",\n",
      "    \"languages\": [\n",
      "      \"English\"\n",
      "    ],\n",
      "    \"released\": {\n",
      "      \"$date\": \"2015-05-14T00:00:00Z\"\n",
      "    },\n",
      "    \"directors\": [\n",
      "      \"Matteo Garrone\"\n",
      "    ],\n",
      "    \"writers\": [\n",
      "      \"Giambattista Basile (book)\",\n",
      "      \"Edoardo Albinati (screenplay)\",\n",
      "      \"Ugo Chiti (screenplay)\",\n",
      "      \"Matteo Garrone (screenplay)\",\n",
      "      \"Massimo Gaudioso (screenplay)\"\n",
      "    ],\n",
      "    \"awards\": {\n",
      "      \"wins\": 3,\n",
      "      \"nominations\": 4,\n",
      "      \"text\": \"3 wins & 4 nominations.\"\n",
      "    },\n",
      "    \"lastupdated\": \"2015-09-01 00:07:19.663000000\",\n",
      "    \"year\": 2015,\n",
      "    \"imdb\": {\n",
      "      \"rating\": 6.7,\n",
      "      \"votes\": 1961,\n",
      "      \"id\": 3278330\n",
      "    },\n",
      "    \"countries\": [\n",
      "      \"Italy\",\n",
      "      \"France\",\n",
      "      \"UK\"\n",
      "    ],\n",
      "    \"type\": \"movie\"\n",
      "  }\n",
      "]\n"
     ]
    }
   ],
   "source": [
    "# display the movies in which Salma Hayek acted\n",
    "salma = movies.find({\"cast\": \"Salma Hayek\"})\n",
    "print(dumps(salma, indent=2))"
   ]
  },
  {
   "cell_type": "code",
   "execution_count": 52,
   "id": "4182af9d-f91e-4821-83ac-90b2263582d3",
   "metadata": {
    "id": "4182af9d-f91e-4821-83ac-90b2263582d3",
    "tags": []
   },
   "outputs": [
    {
     "ename": "SyntaxError",
     "evalue": "incomplete input (3947782361.py, line 3)",
     "output_type": "error",
     "traceback": [
      "\u001b[0;36m  Cell \u001b[0;32mIn[52], line 3\u001b[0;36m\u001b[0m\n\u001b[0;31m    print(dumps(salma_movies_titles, indent=2))\u001b[0m\n\u001b[0m                                               ^\u001b[0m\n\u001b[0;31mSyntaxError\u001b[0m\u001b[0;31m:\u001b[0m incomplete input\n"
     ]
    }
   ],
   "source": [
    "# display the titles of movies in which Salma Hayek acted\n",
    "salma_movies_titles = movies.find(#to complete)\n",
    "print(dumps(salma_movies_titles, indent=2))"
   ]
  },
  {
   "cell_type": "code",
   "execution_count": 53,
   "id": "dbb4d585-ee24-4e29-ba79-39f25707f9ff",
   "metadata": {
    "id": "dbb4d585-ee24-4e29-ba79-39f25707f9ff",
    "tags": []
   },
   "outputs": [
    {
     "ename": "SyntaxError",
     "evalue": "incomplete input (203231294.py, line 3)",
     "output_type": "error",
     "traceback": [
      "\u001b[0;36m  Cell \u001b[0;32mIn[53], line 3\u001b[0;36m\u001b[0m\n\u001b[0;31m    print(dumps(salma_movies, indent=2))\u001b[0m\n\u001b[0m                                        ^\u001b[0m\n\u001b[0;31mSyntaxError\u001b[0m\u001b[0;31m:\u001b[0m incomplete input\n"
     ]
    }
   ],
   "source": [
    "# display ONLY the titles of movies in which Salma Hayek acted\n",
    "salma_movies = movies.find(#to complete)\n",
    "print(dumps(salma_movies, indent=2))"
   ]
  },
  {
   "cell_type": "markdown",
   "id": "c29fa533-49f4-44f7-92cc-90adeab3bb20",
   "metadata": {
    "id": "c29fa533-49f4-44f7-92cc-90adeab3bb20",
    "tags": []
   },
   "source": [
    "### Operations on cusrsor and aggregations\n",
    "Documentation for aggregation pipeline: \n",
    "- https://www.mongodb.com/docs/manual/core/aggregation-pipeline/\n",
    "- https://pymongo.readthedocs.io/en/stable/examples/aggregation.html"
   ]
  },
  {
   "cell_type": "markdown",
   "id": "53f73f42-ee19-4dd0-a46d-6f894987afe0",
   "metadata": {
    "id": "53f73f42-ee19-4dd0-a46d-6f894987afe0",
    "tags": []
   },
   "source": [
    "#### Limiting"
   ]
  },
  {
   "cell_type": "code",
   "execution_count": 54,
   "id": "8fd7a024-25c0-4e64-b7cc-dbf152efdb06",
   "metadata": {
    "id": "8fd7a024-25c0-4e64-b7cc-dbf152efdb06",
    "outputId": "4d9ad99b-1cc7-4711-a792-322884530631",
    "tags": []
   },
   "outputs": [
    {
     "name": "stdout",
     "output_type": "stream",
     "text": [
      "[\n",
      "  {\n",
      "    \"title\": \"Darkman\",\n",
      "    \"cast\": [\n",
      "      \"Liam Neeson\",\n",
      "      \"Frances McDormand\",\n",
      "      \"Colin Friels\",\n",
      "      \"Larry Drake\"\n",
      "    ]\n",
      "  },\n",
      "  {\n",
      "    \"cast\": [\n",
      "      \"Bruce Campbell\",\n",
      "      \"Embeth Davidtz\",\n",
      "      \"Marcus Gilbert\",\n",
      "      \"Ian Abercrombie\"\n",
      "    ],\n",
      "    \"title\": \"Army of Darkness\"\n",
      "  }\n",
      "]\n"
     ]
    }
   ],
   "source": [
    "limited = movies.find(\n",
    "{\"directors\": \"Sam Raimi\"},\n",
    "{\"_id\":0, \"title\": 1, \"cast\":1}\n",
    ").limit(2)\n",
    "print(dumps(limited, indent=2))"
   ]
  },
  {
   "cell_type": "code",
   "execution_count": 55,
   "id": "2b4f51a6-5b69-45b9-b63f-5dce5a1edff7",
   "metadata": {
    "id": "2b4f51a6-5b69-45b9-b63f-5dce5a1edff7"
   },
   "outputs": [],
   "source": [
    "pipeline = [\n",
    "{\"$match\" : {\"directors\": \"Sam Raimi\"}},\n",
    "{\"$project\": {\"_id\": 0, \"title\":1, \"cast\":1}},\n",
    "{\"$limit\": 2}\n",
    "]"
   ]
  },
  {
   "cell_type": "code",
   "execution_count": 56,
   "id": "1c2f3f03-d3f5-426f-adaf-3d4bdd5eb368",
   "metadata": {
    "id": "1c2f3f03-d3f5-426f-adaf-3d4bdd5eb368",
    "outputId": "ce248c7b-5314-4653-a913-4029d3529a94",
    "tags": []
   },
   "outputs": [
    {
     "name": "stdout",
     "output_type": "stream",
     "text": [
      "[\n",
      "  {\n",
      "    \"title\": \"Darkman\",\n",
      "    \"cast\": [\n",
      "      \"Liam Neeson\",\n",
      "      \"Frances McDormand\",\n",
      "      \"Colin Friels\",\n",
      "      \"Larry Drake\"\n",
      "    ]\n",
      "  },\n",
      "  {\n",
      "    \"cast\": [\n",
      "      \"Bruce Campbell\",\n",
      "      \"Embeth Davidtz\",\n",
      "      \"Marcus Gilbert\",\n",
      "      \"Ian Abercrombie\"\n",
      "    ],\n",
      "    \"title\": \"Army of Darkness\"\n",
      "  }\n",
      "]\n"
     ]
    }
   ],
   "source": [
    "limited_agg = movies.aggregate(pipeline)\n",
    "print(dumps(limited_agg, indent=2))"
   ]
  },
  {
   "cell_type": "markdown",
   "id": "01d732c9-5430-4f0d-860e-f9d797c260a3",
   "metadata": {
    "id": "01d732c9-5430-4f0d-860e-f9d797c260a3",
    "tags": []
   },
   "source": [
    "#### Sorting"
   ]
  },
  {
   "cell_type": "code",
   "execution_count": 57,
   "id": "84a6d2a4-b49b-4181-9758-9367a4465d1d",
   "metadata": {
    "id": "84a6d2a4-b49b-4181-9758-9367a4465d1d",
    "outputId": "fcd7fd8c-13e5-4d0e-fba0-0ababb06b996",
    "tags": []
   },
   "outputs": [
    {
     "name": "stdout",
     "output_type": "stream",
     "text": [
      "[\n",
      "  {\n",
      "    \"year\": 1990,\n",
      "    \"title\": \"Darkman\",\n",
      "    \"cast\": [\n",
      "      \"Liam Neeson\",\n",
      "      \"Frances McDormand\",\n",
      "      \"Colin Friels\",\n",
      "      \"Larry Drake\"\n",
      "    ]\n",
      "  },\n",
      "  {\n",
      "    \"cast\": [\n",
      "      \"Bruce Campbell\",\n",
      "      \"Embeth Davidtz\",\n",
      "      \"Marcus Gilbert\",\n",
      "      \"Ian Abercrombie\"\n",
      "    ],\n",
      "    \"title\": \"Army of Darkness\",\n",
      "    \"year\": 1992\n",
      "  },\n",
      "  {\n",
      "    \"cast\": [\n",
      "      \"Sharon Stone\",\n",
      "      \"Gene Hackman\",\n",
      "      \"Russell Crowe\",\n",
      "      \"Leonardo DiCaprio\"\n",
      "    ],\n",
      "    \"title\": \"The Quick and the Dead\",\n",
      "    \"year\": 1995\n",
      "  },\n",
      "  {\n",
      "    \"cast\": [\n",
      "      \"Bill Paxton\",\n",
      "      \"Bridget Fonda\",\n",
      "      \"Billy Bob Thornton\",\n",
      "      \"Brent Briscoe\"\n",
      "    ],\n",
      "    \"title\": \"A Simple Plan\",\n",
      "    \"year\": 1998\n",
      "  },\n",
      "  {\n",
      "    \"year\": 1999,\n",
      "    \"title\": \"For Love of the Game\",\n",
      "    \"cast\": [\n",
      "      \"Kevin Costner\",\n",
      "      \"Kelly Preston\",\n",
      "      \"John C. Reilly\",\n",
      "      \"Jena Malone\"\n",
      "    ]\n",
      "  },\n",
      "  {\n",
      "    \"cast\": [\n",
      "      \"Cate Blanchett\",\n",
      "      \"Giovanni Ribisi\",\n",
      "      \"Keanu Reeves\",\n",
      "      \"Katie Holmes\"\n",
      "    ],\n",
      "    \"title\": \"The Gift\",\n",
      "    \"year\": 2000\n",
      "  },\n",
      "  {\n",
      "    \"cast\": [\n",
      "      \"Tobey Maguire\",\n",
      "      \"Willem Dafoe\",\n",
      "      \"Kirsten Dunst\",\n",
      "      \"James Franco\"\n",
      "    ],\n",
      "    \"title\": \"Spider-Man\",\n",
      "    \"year\": 2002\n",
      "  },\n",
      "  {\n",
      "    \"year\": 2004,\n",
      "    \"title\": \"Spider-Man 2\",\n",
      "    \"cast\": [\n",
      "      \"Tobey Maguire\",\n",
      "      \"Kirsten Dunst\",\n",
      "      \"James Franco\",\n",
      "      \"Alfred Molina\"\n",
      "    ]\n",
      "  },\n",
      "  {\n",
      "    \"year\": 2007,\n",
      "    \"title\": \"Spider-Man 3\",\n",
      "    \"cast\": [\n",
      "      \"Tobey Maguire\",\n",
      "      \"Kirsten Dunst\",\n",
      "      \"James Franco\",\n",
      "      \"Thomas Haden Church\"\n",
      "    ]\n",
      "  },\n",
      "  {\n",
      "    \"year\": 2009,\n",
      "    \"title\": \"Drag Me to Hell\",\n",
      "    \"cast\": [\n",
      "      \"Alison Lohman\",\n",
      "      \"Justin Long\",\n",
      "      \"Lorna Raver\",\n",
      "      \"Dileep Rao\"\n",
      "    ]\n",
      "  },\n",
      "  {\n",
      "    \"cast\": [\n",
      "      \"James Franco\",\n",
      "      \"Mila Kunis\",\n",
      "      \"Rachel Weisz\",\n",
      "      \"Michelle Williams\"\n",
      "    ],\n",
      "    \"title\": \"Oz the Great and Powerful\",\n",
      "    \"year\": 2013\n",
      "  }\n",
      "]\n"
     ]
    }
   ],
   "source": [
    "sorted_cursor = movies.find(\n",
    "    {\"directors\": \"Sam Raimi\"},\n",
    "    {\"_id\":0, \"year\":1, \"title\":1, \"cast\": 1}\n",
    ").sort(\"year\", ASCENDING)\n",
    "print(dumps(sorted_cursor, indent=2))"
   ]
  },
  {
   "cell_type": "code",
   "execution_count": 58,
   "id": "84aabcb0-9818-45ec-8766-4845a71572e6",
   "metadata": {
    "id": "84aabcb0-9818-45ec-8766-4845a71572e6"
   },
   "outputs": [],
   "source": [
    "pipeline = [\n",
    "{\"$match\" : {\"directors\": \"Sam Raimi\"}},\n",
    "{\"$project\": {\"_id\": 0, \"year\":1, \"title\":1, \"cast\":1}},\n",
    "{\"$sort\": {\"year\": DESCENDING}}\n",
    "]"
   ]
  },
  {
   "cell_type": "code",
   "execution_count": 59,
   "id": "c2335cfb-ef70-43fe-a026-d7135bd7d7de",
   "metadata": {
    "id": "c2335cfb-ef70-43fe-a026-d7135bd7d7de",
    "outputId": "0eb17d7f-0367-4889-ad3d-2effadaba97f",
    "tags": []
   },
   "outputs": [
    {
     "name": "stdout",
     "output_type": "stream",
     "text": [
      "[\n",
      "  {\n",
      "    \"cast\": [\n",
      "      \"James Franco\",\n",
      "      \"Mila Kunis\",\n",
      "      \"Rachel Weisz\",\n",
      "      \"Michelle Williams\"\n",
      "    ],\n",
      "    \"title\": \"Oz the Great and Powerful\",\n",
      "    \"year\": 2013\n",
      "  },\n",
      "  {\n",
      "    \"year\": 2009,\n",
      "    \"title\": \"Drag Me to Hell\",\n",
      "    \"cast\": [\n",
      "      \"Alison Lohman\",\n",
      "      \"Justin Long\",\n",
      "      \"Lorna Raver\",\n",
      "      \"Dileep Rao\"\n",
      "    ]\n",
      "  },\n",
      "  {\n",
      "    \"year\": 2007,\n",
      "    \"title\": \"Spider-Man 3\",\n",
      "    \"cast\": [\n",
      "      \"Tobey Maguire\",\n",
      "      \"Kirsten Dunst\",\n",
      "      \"James Franco\",\n",
      "      \"Thomas Haden Church\"\n",
      "    ]\n",
      "  },\n",
      "  {\n",
      "    \"year\": 2004,\n",
      "    \"title\": \"Spider-Man 2\",\n",
      "    \"cast\": [\n",
      "      \"Tobey Maguire\",\n",
      "      \"Kirsten Dunst\",\n",
      "      \"James Franco\",\n",
      "      \"Alfred Molina\"\n",
      "    ]\n",
      "  },\n",
      "  {\n",
      "    \"cast\": [\n",
      "      \"Tobey Maguire\",\n",
      "      \"Willem Dafoe\",\n",
      "      \"Kirsten Dunst\",\n",
      "      \"James Franco\"\n",
      "    ],\n",
      "    \"title\": \"Spider-Man\",\n",
      "    \"year\": 2002\n",
      "  },\n",
      "  {\n",
      "    \"cast\": [\n",
      "      \"Cate Blanchett\",\n",
      "      \"Giovanni Ribisi\",\n",
      "      \"Keanu Reeves\",\n",
      "      \"Katie Holmes\"\n",
      "    ],\n",
      "    \"title\": \"The Gift\",\n",
      "    \"year\": 2000\n",
      "  },\n",
      "  {\n",
      "    \"year\": 1999,\n",
      "    \"title\": \"For Love of the Game\",\n",
      "    \"cast\": [\n",
      "      \"Kevin Costner\",\n",
      "      \"Kelly Preston\",\n",
      "      \"John C. Reilly\",\n",
      "      \"Jena Malone\"\n",
      "    ]\n",
      "  },\n",
      "  {\n",
      "    \"cast\": [\n",
      "      \"Bill Paxton\",\n",
      "      \"Bridget Fonda\",\n",
      "      \"Billy Bob Thornton\",\n",
      "      \"Brent Briscoe\"\n",
      "    ],\n",
      "    \"title\": \"A Simple Plan\",\n",
      "    \"year\": 1998\n",
      "  },\n",
      "  {\n",
      "    \"cast\": [\n",
      "      \"Sharon Stone\",\n",
      "      \"Gene Hackman\",\n",
      "      \"Russell Crowe\",\n",
      "      \"Leonardo DiCaprio\"\n",
      "    ],\n",
      "    \"title\": \"The Quick and the Dead\",\n",
      "    \"year\": 1995\n",
      "  },\n",
      "  {\n",
      "    \"cast\": [\n",
      "      \"Bruce Campbell\",\n",
      "      \"Embeth Davidtz\",\n",
      "      \"Marcus Gilbert\",\n",
      "      \"Ian Abercrombie\"\n",
      "    ],\n",
      "    \"title\": \"Army of Darkness\",\n",
      "    \"year\": 1992\n",
      "  },\n",
      "  {\n",
      "    \"year\": 1990,\n",
      "    \"title\": \"Darkman\",\n",
      "    \"cast\": [\n",
      "      \"Liam Neeson\",\n",
      "      \"Frances McDormand\",\n",
      "      \"Colin Friels\",\n",
      "      \"Larry Drake\"\n",
      "    ]\n",
      "  }\n",
      "]\n"
     ]
    }
   ],
   "source": [
    "sorted_agg = movies.aggregate(pipeline)\n",
    "print(dumps(sorted_agg, indent=2))"
   ]
  },
  {
   "cell_type": "markdown",
   "id": "561c6557-288c-42e5-89e1-dd5548135e0b",
   "metadata": {},
   "source": [
    "##### List movies in which Tom Hanks acted sorted by year and title"
   ]
  },
  {
   "cell_type": "code",
   "execution_count": 60,
   "id": "9aa1f36a-c457-48ee-8844-e1e4a44d2696",
   "metadata": {
    "id": "9aa1f36a-c457-48ee-8844-e1e4a44d2696",
    "outputId": "bc5117b6-0a64-4f9c-9d00-922a719a6a34",
    "tags": []
   },
   "outputs": [
    {
     "name": "stdout",
     "output_type": "stream",
     "text": [
      "[]\n"
     ]
    }
   ],
   "source": [
    "tom_hanks_cursor = movies.find()\n",
    "print(dumps(sorted_cursor, indent=2))"
   ]
  },
  {
   "cell_type": "code",
   "execution_count": 61,
   "id": "5766440b-95ce-4eea-846f-fff2356c7ee5",
   "metadata": {
    "id": "5766440b-95ce-4eea-846f-fff2356c7ee5",
    "outputId": "a807e07e-fed4-498c-db2f-a2e22e13baa3",
    "tags": []
   },
   "outputs": [
    {
     "name": "stdout",
     "output_type": "stream",
     "text": [
      "[]\n"
     ]
    }
   ],
   "source": [
    "pipeline = []\n",
    "print(dumps(sorted_agg, indent=2))"
   ]
  },
  {
   "cell_type": "markdown",
   "id": "0276fd35-13ab-4291-afb7-cfb4d44457f7",
   "metadata": {
    "id": "0276fd35-13ab-4291-afb7-cfb4d44457f7",
    "tags": []
   },
   "source": [
    "#### Skipping"
   ]
  },
  {
   "cell_type": "code",
   "execution_count": 62,
   "id": "45dbfd13-eff3-464d-af58-4301360e3c0a",
   "metadata": {
    "id": "45dbfd13-eff3-464d-af58-4301360e3c0a",
    "outputId": "a475ba4b-b1fa-4a2f-bce6-0f0fd0d7648d",
    "tags": []
   },
   "outputs": [
    {
     "name": "stdout",
     "output_type": "stream",
     "text": [
      "[\n",
      "  {\n",
      "    \"num_movies\": 11\n",
      "  }\n",
      "]\n"
     ]
    }
   ],
   "source": [
    "#count the number of documents in which Sam Raimi acted\n",
    "pipeline = [\n",
    "    {\"$match\": {\"directors\": \"Sam Raimi\"}},\n",
    "    {\"$count\": \"num_movies\"}\n",
    "]\n",
    "aggregation = movies.aggregate(pipeline)\n",
    "print(dumps(aggregation,indent=2))"
   ]
  },
  {
   "cell_type": "markdown",
   "id": "c6378700-ac0d-45ca-9f82-288382433288",
   "metadata": {},
   "source": [
    "##### Skip records and take only the last one"
   ]
  },
  {
   "cell_type": "code",
   "execution_count": 63,
   "id": "a4adeac5-91dd-46a6-a004-299754c41f6d",
   "metadata": {
    "id": "a4adeac5-91dd-46a6-a004-299754c41f6d",
    "outputId": "50a4af1a-eca4-402e-98e8-0e8e8e865eb8",
    "tags": []
   },
   "outputs": [
    {
     "name": "stdout",
     "output_type": "stream",
     "text": [
      "[]\n"
     ]
    }
   ],
   "source": [
    "skipped = movies.find({\"directors\": \"Sam Raimi\"},{\"_id\": 0, \"title\":1, \"cast\":1}).skip(12)\n",
    "print(dumps(skipped, indent=2))"
   ]
  },
  {
   "cell_type": "markdown",
   "id": "f315c4bb-0014-41d0-b1ae-93447c3ce314",
   "metadata": {},
   "source": [
    "##### Skip records and take only the 3 last ones"
   ]
  },
  {
   "cell_type": "code",
   "execution_count": 64,
   "id": "d712e4b5-bc0f-4b1d-9fc9-2e2d776cf70c",
   "metadata": {
    "id": "d712e4b5-bc0f-4b1d-9fc9-2e2d776cf70c",
    "outputId": "348caecc-7f6a-40cf-a5cf-5a379ab8b747",
    "tags": []
   },
   "outputs": [
    {
     "name": "stdout",
     "output_type": "stream",
     "text": [
      "[\n",
      "  {\n",
      "    \"cast\": [\n",
      "      \"James Franco\",\n",
      "      \"Mila Kunis\",\n",
      "      \"Rachel Weisz\",\n",
      "      \"Michelle Williams\"\n",
      "    ],\n",
      "    \"title\": \"Oz the Great and Powerful\"\n",
      "  }\n",
      "]\n"
     ]
    }
   ],
   "source": [
    "skipped_sorted = movies.find({\"directors\": \"Sam Raimi\"},{\"_id\": 0, \"title\":1, \"cast\":1}).sort(\"year\").skip(10)\n",
    "print(dumps(skipped_sorted, indent=2))"
   ]
  },
  {
   "cell_type": "code",
   "execution_count": 65,
   "id": "b594cd2b-2b54-4d49-8287-f7c4b94d4376",
   "metadata": {
    "id": "b594cd2b-2b54-4d49-8287-f7c4b94d4376",
    "outputId": "bc58927c-7644-44a7-e562-ebee8d2229c7",
    "tags": []
   },
   "outputs": [
    {
     "name": "stdout",
     "output_type": "stream",
     "text": [
      "[\n",
      "  {\n",
      "    \"cast\": [\n",
      "      \"James Franco\",\n",
      "      \"Mila Kunis\",\n",
      "      \"Rachel Weisz\",\n",
      "      \"Michelle Williams\"\n",
      "    ],\n",
      "    \"title\": \"Oz the Great and Powerful\",\n",
      "    \"year\": 2013\n",
      "  }\n",
      "]\n"
     ]
    }
   ],
   "source": [
    "pipeline = [\n",
    "{\"$match\": {\"directors\": \"Sam Raimi\"}},\n",
    "{\"$project\": {\"_id\":0, \"year\":1, \"title\":1,\"cast\":1}},\n",
    "{\"$sort\": {\"year\": ASCENDING}},\n",
    "{\"$skip\": 10}]\n",
    "\n",
    "sorted_skipped_agg = movies.aggregate(pipeline)\n",
    "print(dumps(sorted_skipped_agg, indent=2))"
   ]
  }
 ],
 "metadata": {
  "colab": {
   "provenance": []
  },
  "kernelspec": {
   "display_name": "Python 3 (ipykernel)",
   "language": "python",
   "name": "python3"
  },
  "language_info": {
   "codemirror_mode": {
    "name": "ipython",
    "version": 3
   },
   "file_extension": ".py",
   "mimetype": "text/x-python",
   "name": "python",
   "nbconvert_exporter": "python",
   "pygments_lexer": "ipython3",
   "version": "3.11.6"
  }
 },
 "nbformat": 4,
 "nbformat_minor": 5
}
