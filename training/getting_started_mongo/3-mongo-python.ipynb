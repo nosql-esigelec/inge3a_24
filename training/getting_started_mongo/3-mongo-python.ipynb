{
 "cells": [
  {
   "cell_type": "markdown",
   "id": "3b84a7a9-2905-4f35-898b-5893ec631972",
   "metadata": {},
   "source": [
    "# Getting start with PyMongo"
   ]
  },
  {
   "cell_type": "markdown",
   "id": "4f29b9b4-cdbd-4d96-b2de-bbdac18eca00",
   "metadata": {
    "id": "4f29b9b4-cdbd-4d96-b2de-bbdac18eca00",
    "tags": []
   },
   "source": [
    "## Install the MongoDB python driver PyMongo"
   ]
  },
  {
   "cell_type": "code",
   "execution_count": null,
   "id": "cc1fde98-f543-4abc-b453-1a4f7bd72378",
   "metadata": {
    "id": "cc1fde98-f543-4abc-b453-1a4f7bd72378",
    "outputId": "cb3f7ce4-71d5-4c51-f03b-9fec943875c5"
   },
   "outputs": [],
   "source": [
    "!pip install  pymongo"
   ]
  },
  {
   "cell_type": "markdown",
   "id": "c8458df0-7dcc-42d9-b2fd-79e6eec466bf",
   "metadata": {
    "id": "c8458df0-7dcc-42d9-b2fd-79e6eec466bf",
    "tags": []
   },
   "source": [
    "## Import packages"
   ]
  },
  {
   "cell_type": "code",
   "execution_count": null,
   "id": "18012691-29ce-4eb7-a597-8b0a098f6540",
   "metadata": {
    "id": "18012691-29ce-4eb7-a597-8b0a098f6540"
   },
   "outputs": [],
   "source": [
    "import os\n",
    "import pymongo\n",
    "from pymongo import DESCENDING, ASCENDING\n",
    "from bson.json_util import dumps"
   ]
  },
  {
   "cell_type": "markdown",
   "id": "992501a8-a3cb-4947-aec7-1b46705d8cb3",
   "metadata": {
    "id": "992501a8-a3cb-4947-aec7-1b46705d8cb3",
    "tags": []
   },
   "source": [
    "## Connection"
   ]
  },
  {
   "cell_type": "markdown",
   "id": "781e402b-a126-4039-86d2-1747bc8000b9",
   "metadata": {
    "id": "781e402b-a126-4039-86d2-1747bc8000b9"
   },
   "source": [
    "#### Before connecting to your Atlas cluster, make sure your loaded sample data into it. \n",
    "\n",
    "If you didn't, please follow this [tutorial](https://github.com/nosql-esigelec/inge3a_23/blob/main/tp_1/configurations.md#cr%C3%A9er-une-sandbox-ou-bac-%C3%A0-sable).<br>\n",
    "After doing it, get your connection string and let's continue."
   ]
  },
  {
   "cell_type": "code",
   "execution_count": null,
   "id": "b3760e83-230b-44ec-8d4b-1fc751621688",
   "metadata": {
    "id": "b3760e83-230b-44ec-8d4b-1fc751621688"
   },
   "outputs": [],
   "source": [
    "# set username, password and host name for your Atlas cluster\n",
    "# create ENV variables or set directly your username and password\n",
    "username = os.getenv('USERNAME', 'stechos')\n",
    "password = os.getenv('PASSWORD', 'stechos')\n",
    "host = \"serial-techos.hxiqgqy.mongodb.net\""
   ]
  },
  {
   "cell_type": "markdown",
   "id": "be6dd1ea-7a97-4060-945b-1e5c2cc771de",
   "metadata": {},
   "source": [
    "`os.getenv` allows you to get environment variables that you set previously. <br>\n",
    "The first argument is the name of the variable.<br>\n",
    "The second argument is the default value to use if the variable doens't exist"
   ]
  },
  {
   "cell_type": "code",
   "execution_count": null,
   "id": "cab2f026-63bb-40e0-a2fe-a2be1ece0c52",
   "metadata": {},
   "outputs": [],
   "source": [
    "client = pymongo.MongoClient(f\"mongodb+srv://{username}:{password}@{host}/?retryWrites=true&w=majority\")"
   ]
  },
  {
   "cell_type": "code",
   "execution_count": null,
   "id": "42434b63-5605-4844-9942-47808226d3dd",
   "metadata": {
    "id": "42434b63-5605-4844-9942-47808226d3dd",
    "outputId": "32da19a3-f480-44b9-8eae-1abd99ff8ec6"
   },
   "outputs": [],
   "source": [
    "client.stats"
   ]
  },
  {
   "cell_type": "code",
   "execution_count": null,
   "id": "9f269d9b-b0b7-467d-acca-2fa4eabe8e7c",
   "metadata": {
    "id": "9f269d9b-b0b7-467d-acca-2fa4eabe8e7c",
    "outputId": "d21f79e0-0172-4c3c-e979-c33553dd7653"
   },
   "outputs": [],
   "source": [
    "# list the existing databases\n",
    "client.list_database_names()"
   ]
  },
  {
   "cell_type": "markdown",
   "id": "811a4dc4-78b9-4847-b761-d3fa67076ce9",
   "metadata": {
    "id": "811a4dc4-78b9-4847-b761-d3fa67076ce9",
    "tags": []
   },
   "source": [
    "## CRUD: Create, Read, Update, Delete"
   ]
  },
  {
   "cell_type": "markdown",
   "id": "c4d3f91b-f4a0-4da0-a432-cf138f4e1098",
   "metadata": {
    "tags": []
   },
   "source": [
    "## Create"
   ]
  },
  {
   "cell_type": "markdown",
   "id": "aeaac4fc-017d-4829-86f2-1e8a631f0417",
   "metadata": {
    "tags": []
   },
   "source": [
    "#### Let's connect to database and check data"
   ]
  },
  {
   "cell_type": "code",
   "execution_count": null,
   "id": "5bf88fc0-89b3-4ef8-9b5b-1ce51944efef",
   "metadata": {},
   "outputs": [],
   "source": [
    "product_db = client.productDB"
   ]
  },
  {
   "cell_type": "code",
   "execution_count": null,
   "id": "89b7135d-034e-4543-81b1-4b610b94572c",
   "metadata": {},
   "outputs": [],
   "source": [
    "#print collection names\n",
    "product_db.list_collection_names()"
   ]
  },
  {
   "cell_type": "code",
   "execution_count": null,
   "id": "f02bf10e-e64c-4303-8b6c-4bf14758b7f7",
   "metadata": {},
   "outputs": [],
   "source": [
    "#store the collection products into a variable\n",
    "products = product_db.products"
   ]
  },
  {
   "cell_type": "code",
   "execution_count": null,
   "id": "fc0402d9-bc3b-449f-b11a-2814b827a515",
   "metadata": {},
   "outputs": [],
   "source": [
    "#check one of the data here\n",
    "products.find_one({})"
   ]
  },
  {
   "cell_type": "markdown",
   "id": "b6cdec8d-19fc-44c0-8ad3-c8bc4b33d4d4",
   "metadata": {
    "tags": []
   },
   "source": [
    "#### Inserting data\n",
    "Let's add a new product to our store called `Mjöllnir`. It cost `30`€ but don't received it yet so `we don't have any of it` for the moment.\n"
   ]
  },
  {
   "cell_type": "code",
   "execution_count": null,
   "id": "3c3dd80f-7879-44c3-9dcd-3d49e7bf6d33",
   "metadata": {},
   "outputs": [],
   "source": [
    "inserted_product = products.insert_one({\"ProductName\": \"Mjöllir\", \"Price\":30})"
   ]
  },
  {
   "cell_type": "code",
   "execution_count": null,
   "id": "cf8b9082-d7e4-4bc7-be77-36b14517f183",
   "metadata": {},
   "outputs": [],
   "source": [
    "#the attribute aknowleged let us know that the write has been applied in memory \n",
    "inserted_product.acknowledged"
   ]
  },
  {
   "cell_type": "code",
   "execution_count": null,
   "id": "823574e2-b36a-477a-89bd-a8147cf50a27",
   "metadata": {},
   "outputs": [],
   "source": [
    "#after inserting data, we also have an id returned of the object\n",
    "inserted_product.inserted_id"
   ]
  },
  {
   "cell_type": "code",
   "execution_count": null,
   "id": "73b2eb3c-3682-44ea-9bfd-d091d5721124",
   "metadata": {},
   "outputs": [],
   "source": [
    "#with this id, I can retrieve the document that I just inserted\n",
    "products.find_one({\"_id\": inserted_product.inserted_id})"
   ]
  },
  {
   "cell_type": "markdown",
   "id": "f6d58607-fbe4-43b8-8892-b53ff2373479",
   "metadata": {
    "tags": []
   },
   "source": [
    "#### Inserting data from a csv file"
   ]
  },
  {
   "cell_type": "code",
   "execution_count": null,
   "id": "ea003a90-b793-4ef5-ae0d-8dfd8b4754cb",
   "metadata": {},
   "outputs": [],
   "source": [
    "import pandas as pd\n",
    "import numpy as np\n",
    "import datetime"
   ]
  },
  {
   "cell_type": "markdown",
   "id": "83c73392-ab84-40fe-ba73-483560675228",
   "metadata": {},
   "source": [
    "Lets create a new collection to backup the initial products collection"
   ]
  },
  {
   "cell_type": "code",
   "execution_count": null,
   "id": "50e2f3d6-865d-4487-aabb-9720cb2838a5",
   "metadata": {},
   "outputs": [],
   "source": [
    "products_bup = product_db.products_backup\n",
    "#make sure that the collection is empty\n",
    "products_bup.drop()"
   ]
  },
  {
   "cell_type": "code",
   "execution_count": null,
   "id": "44709ce8-8cf2-4131-bcde-0ec8de96b8b1",
   "metadata": {},
   "outputs": [],
   "source": [
    "#read the csv file as a list of dictionnaries\n",
    "product_df = pd.read_csv('mongo-data/products.csv', sep=\",\")\n",
    "product_df['Tags'] = product_df['Tags'].apply(eval)\n",
    "product_list = product_df.to_dict(orient=\"records\")\n",
    "product_list"
   ]
  },
  {
   "cell_type": "code",
   "execution_count": null,
   "id": "4294aea7-7240-4ab3-a202-f749e7654927",
   "metadata": {},
   "outputs": [],
   "source": [
    "products_bup.insert_many(product_list)"
   ]
  },
  {
   "cell_type": "code",
   "execution_count": null,
   "id": "410a7e87-29a3-40b2-b151-be810846b32b",
   "metadata": {},
   "outputs": [],
   "source": [
    "print(dumps(products_bup.find_one({}), indent=2))"
   ]
  },
  {
   "cell_type": "markdown",
   "id": "1b614d63-0c90-404a-9b91-12f62a649ebf",
   "metadata": {
    "tags": []
   },
   "source": [
    "## Update "
   ]
  },
  {
   "cell_type": "markdown",
   "id": "533b9694-c832-4da8-a185-c8e81a597c23",
   "metadata": {
    "tags": []
   },
   "source": [
    "#### Updating data\n",
    "We just received the products and we noticed that we put a wring name at the insertion of data. Let's update the document of this product."
   ]
  },
  {
   "cell_type": "code",
   "execution_count": null,
   "id": "d42cfad1-2cb6-4244-8d0f-91e5c1ffa322",
   "metadata": {},
   "outputs": [],
   "source": [
    "#create a document with values to update/add\n",
    "mjollnir = {\"ProductName\": \"Mjöllnir\", \"Quantity\":100}"
   ]
  },
  {
   "cell_type": "code",
   "execution_count": null,
   "id": "09705205-f9da-4227-a5f1-60cb9b33853a",
   "metadata": {},
   "outputs": [],
   "source": [
    "update_result = products.update_one({\"ProductName\": \"Mjöllir\"},{\"$set\":mjollnir})\n",
    "print(f\"Number of documents: {products.count_documents({})}\")\n",
    "print(update_result.raw_result)"
   ]
  },
  {
   "cell_type": "markdown",
   "id": "0689a581-187e-4b27-8f3b-987032191560",
   "metadata": {
    "tags": []
   },
   "source": [
    "#### Upserting data\n",
    "Upsert is inserting data if not filter is doesn't find a match.<br>\n",
    "Let's take an example with a new product."
   ]
  },
  {
   "cell_type": "code",
   "execution_count": null,
   "id": "354276e2-b4ec-428e-8e96-688c14cf962c",
   "metadata": {},
   "outputs": [],
   "source": [
    "#creating a document for stormbreaker\n",
    "stormbreaker = {\"ProductName\": \"Stormbreaker\", \"price\":50, \"Quantity\":100}"
   ]
  },
  {
   "cell_type": "code",
   "execution_count": null,
   "id": "f1a32f63-f84e-437d-a6c5-4563ab43d91e",
   "metadata": {},
   "outputs": [],
   "source": [
    "stormbreaker_update = products.update_one({\"ProductName\": \"Stormbreaker\"},{\"$set\":stormbreaker})\n",
    "print(f\"Number of documents: {products.count_documents({})}\")\n",
    "print(stormbreaker_update.raw_result)"
   ]
  },
  {
   "cell_type": "markdown",
   "id": "675d9946-1fa2-4e80-ba8f-0def01fbd075",
   "metadata": {},
   "source": [
    "The number of documents didn't changed from the last time.\n",
    "Nothing happened in the update because this product doen't exist. In some case, we would like to insert the document if it doesn't exist. That's why we can use the attribute `upsert`."
   ]
  },
  {
   "cell_type": "code",
   "execution_count": null,
   "id": "e05af2f4-c079-48ff-9fc7-0fe53734c990",
   "metadata": {},
   "outputs": [],
   "source": [
    "stormbreaker_update = products.update_one({\"ProductName\": \"Stormbreaker\"},{\"$set\":stormbreaker}, \n",
    "                                          upsert=True)\n",
    "print(f\"Number of documents: {products.count_documents({})}\")\n",
    "print(stormbreaker_update.raw_result)"
   ]
  },
  {
   "cell_type": "markdown",
   "id": "4f5cdde3-2dfc-45ea-b35f-9986f5faffe0",
   "metadata": {},
   "source": [
    "The number of documents increased. In fact the non-existing document has been inserted."
   ]
  },
  {
   "cell_type": "markdown",
   "id": "8c3f1ad9-13b1-4ece-a597-d2a4f5e02061",
   "metadata": {
    "tags": []
   },
   "source": [
    "#### Updating some informations on products\n",
    "\n",
    "- **Numerical attribute**\n",
    "\n",
    "Let's say we want to add increase the quantity of a product with 10 units"
   ]
  },
  {
   "cell_type": "code",
   "execution_count": null,
   "id": "5a91fa05-5f2f-4ffd-88e6-66f55fcacffd",
   "metadata": {},
   "outputs": [],
   "source": [
    "product_filter = {\"ProductName\": \"1 Gallon Soy Milk\"}"
   ]
  },
  {
   "cell_type": "code",
   "execution_count": null,
   "id": "b28b0c26-f5eb-46a3-bc70-7f7f200093c2",
   "metadata": {},
   "outputs": [],
   "source": [
    "products_bup.update_one(product_filter, {\"$inc\": {\"Quantity\":10}})"
   ]
  },
  {
   "cell_type": "code",
   "execution_count": null,
   "id": "1928c7bb-eb79-40a1-bb9d-f9117cbc8b80",
   "metadata": {},
   "outputs": [],
   "source": [
    "print(dumps(products_bup.find_one(product_filter), indent=2))"
   ]
  },
  {
   "cell_type": "markdown",
   "id": "06a3c017-30d2-4a00-b835-5dd8db5514e0",
   "metadata": {},
   "source": [
    "- **Array attribute** (add an item to an **existing** array)\n",
    "\n",
    "We'll use the product \"Red Wine for this example."
   ]
  },
  {
   "cell_type": "code",
   "execution_count": null,
   "id": "f9b83de4-985b-40f6-9d4c-463f6f1d6891",
   "metadata": {},
   "outputs": [],
   "source": [
    "red_wine = {\"ProductName\": \"Red Wine\"}"
   ]
  },
  {
   "cell_type": "markdown",
   "id": "607ffdd4-b402-42e3-8176-7ae324c70d6a",
   "metadata": {},
   "source": [
    "Let's add a tag on it "
   ]
  },
  {
   "cell_type": "code",
   "execution_count": null,
   "id": "55b43e2b-0c58-4fc3-83a9-777771fe8e56",
   "metadata": {},
   "outputs": [],
   "source": [
    "products_bup.update_one(red_wine, {\"$push\": {\"Tags\": \"Happiness\"}})"
   ]
  },
  {
   "cell_type": "code",
   "execution_count": null,
   "id": "71098fd6-b53a-4162-bc14-643bdfed7b91",
   "metadata": {},
   "outputs": [],
   "source": [
    "print(dumps(products_bup.find_one(red_wine), indent=2))"
   ]
  },
  {
   "cell_type": "markdown",
   "id": "78ff5cd2-0b11-41a7-9439-b306a171e18f",
   "metadata": {},
   "source": [
    "- **Array attribute** (add an item to an **non-existing** array)\n",
    "\n",
    "We would like to add warning about some products like alocohol "
   ]
  },
  {
   "cell_type": "code",
   "execution_count": null,
   "id": "ec77213d-024b-4485-ad87-148f08dbfa59",
   "metadata": {},
   "outputs": [],
   "source": [
    "products_bup.update_one(red_wine, {\"$push\": {\"Warnings\": \"Prohibited under 18\"}})"
   ]
  },
  {
   "cell_type": "code",
   "execution_count": null,
   "id": "dd4c8633-310e-4dfc-afc1-1a4bf1b3e1e9",
   "metadata": {},
   "outputs": [],
   "source": [
    "print(dumps(products_bup.find_one(red_wine), indent=2))"
   ]
  },
  {
   "cell_type": "code",
   "execution_count": null,
   "id": "d1f3d10d-33fb-4651-96be-482a82bf08c2",
   "metadata": {},
   "outputs": [],
   "source": [
    "#Let's say we would like to add an arrival date to all products\n",
    "arrival_update = products_bup.update_many({}, {\"$set\":{\"ArrivalDate\": datetime.datetime.now()}})"
   ]
  },
  {
   "cell_type": "code",
   "execution_count": null,
   "id": "2c7d6f96-6793-4559-a230-4d0c3305c7bc",
   "metadata": {},
   "outputs": [],
   "source": [
    "print(dumps(products_bup.find({}, {\"_id\":0,\"ProductName\":1, \"ArrivalDate\":1}), indent=2))"
   ]
  },
  {
   "cell_type": "code",
   "execution_count": null,
   "id": "6bf7a81a-dc2a-4afa-a195-5650990dfa02",
   "metadata": {},
   "outputs": [],
   "source": [
    "print(f\"Acknowledge: {arrival_update.acknowledged}\")\n",
    "print(f\"Mached Count: {arrival_update.matched_count}\")\n",
    "print(f\"Modified Count: {arrival_update.modified_count}\")\n",
    "print(f\"Upserted Id: {arrival_update.upserted_id}\")"
   ]
  },
  {
   "cell_type": "markdown",
   "id": "96bb5d9f-81e0-41ed-88b9-afb3ffd71f2c",
   "metadata": {
    "id": "96bb5d9f-81e0-41ed-88b9-afb3ffd71f2c",
    "tags": []
   },
   "source": [
    "## Delete "
   ]
  },
  {
   "cell_type": "markdown",
   "id": "0741fee9-1db2-47bc-a022-ed8be29d8ca4",
   "metadata": {},
   "source": [
    "Let's delete a specific product. "
   ]
  },
  {
   "cell_type": "code",
   "execution_count": null,
   "id": "ac039cde-73a6-4c86-b414-2e8dee5353a2",
   "metadata": {},
   "outputs": [],
   "source": [
    "product_filter = {\"ProductName\": \"Gatorade\"}\n",
    "print(f\"Before Delete: The number of products is {len(list(products_bup.find(product_filter)))}\")\n",
    "products_bup.delete_one(product_filter)\n",
    "print(f\"After Delete: The number of products is {len(list(products_bup.find(product_filter)))}\")"
   ]
  },
  {
   "cell_type": "markdown",
   "id": "d28854d7-a513-4aa5-8353-10a06a929e5a",
   "metadata": {},
   "source": [
    "We'll use products that have less than 10 items for our example."
   ]
  },
  {
   "cell_type": "code",
   "execution_count": null,
   "id": "9edbfbc1-235f-4ed7-ace7-751873617985",
   "metadata": {},
   "outputs": [],
   "source": [
    "product_to_delete = {\"Quantity\": {\"$lte\":10}}"
   ]
  },
  {
   "cell_type": "markdown",
   "id": "f90961b3-6e23-46f1-8495-a9659c01ed09",
   "metadata": {},
   "source": [
    "Let's delete the first product matching this condition.<br>\n",
    "We can use the attribute deleted_count to check the number of deleted items."
   ]
  },
  {
   "cell_type": "code",
   "execution_count": null,
   "id": "f58c1819-0105-4662-bc72-af9d3d0a4fa1",
   "metadata": {},
   "outputs": [],
   "source": [
    "print(f\"Before Delete: The number of products is {len(list(products_bup.find(product_to_delete)))}\")\n",
    "delete_one_operation = products_bup.delete_one(product_to_delete)\n",
    "print(f\"After Delete: The number of products is {len(list(products_bup.find(product_to_delete)))}\")\n",
    "print(f\"The number of documents deleted is {delete_one_operation.deleted_count}\")"
   ]
  },
  {
   "cell_type": "code",
   "execution_count": null,
   "id": "2d43d2b0-2ad7-40e9-a599-2e967c108b8c",
   "metadata": {},
   "outputs": [],
   "source": [
    "print(f\"Before Delete: The number of products is {len(list(products_bup.find(product_to_delete)))}\")\n",
    "delete_many_operation = products_bup.delete_many(product_to_delete)\n",
    "print(f\"After Delete: The number of products is {len(list(products_bup.find(product_to_delete)))}\")\n",
    "print(f\"The number of documents deleted is {delete_many_operation.deleted_count}\")"
   ]
  },
  {
   "cell_type": "markdown",
   "id": "3f035c40-6c92-4bdd-8eb9-1b0dfe5630e4",
   "metadata": {
    "id": "3f035c40-6c92-4bdd-8eb9-1b0dfe5630e4",
    "tags": []
   },
   "source": [
    "## Read"
   ]
  },
  {
   "cell_type": "markdown",
   "id": "cb1f9365-6232-4c21-ab67-5fb887007173",
   "metadata": {},
   "source": [
    "#### Let's connect to database and check data"
   ]
  },
  {
   "cell_type": "code",
   "execution_count": null,
   "id": "e3aaa515-e070-41f2-b364-9cf99819affc",
   "metadata": {
    "id": "e3aaa515-e070-41f2-b364-9cf99819affc"
   },
   "outputs": [],
   "source": [
    "mflix_db = client.sample_mflix"
   ]
  },
  {
   "cell_type": "code",
   "execution_count": null,
   "id": "16770238-83a2-47bc-ab56-94ebd10cf046",
   "metadata": {
    "id": "16770238-83a2-47bc-ab56-94ebd10cf046",
    "outputId": "7b214b53-a960-4cfa-ae40-79c479667322"
   },
   "outputs": [],
   "source": [
    "# list the existing collections in MFlix\n",
    "mflix_db.list_collection_names()"
   ]
  },
  {
   "cell_type": "code",
   "execution_count": null,
   "id": "1f3496c8-8d27-4aad-91bd-0765d579beef",
   "metadata": {
    "id": "1f3496c8-8d27-4aad-91bd-0765d579beef"
   },
   "outputs": [],
   "source": [
    "movies = mflix_db.movies"
   ]
  },
  {
   "cell_type": "code",
   "execution_count": null,
   "id": "55ad7c12-db30-4b85-8db6-10ceff5e0eb2",
   "metadata": {
    "id": "55ad7c12-db30-4b85-8db6-10ceff5e0eb2",
    "outputId": "8be28b5d-6191-40d1-861d-f39277e6d765"
   },
   "outputs": [],
   "source": [
    "movies.count_documents({})"
   ]
  },
  {
   "cell_type": "markdown",
   "id": "8d8551a1-e36c-485f-94f0-8072af9b321b",
   "metadata": {
    "id": "8d8551a1-e36c-485f-94f0-8072af9b321b",
    "tags": []
   },
   "source": [
    "### First operations\n",
    "\n",
    "- Reading with find_one()\n",
    "- Reading with find\n",
    "    - Iterating through cursors\n",
    "- Field projection and filtering"
   ]
  },
  {
   "cell_type": "code",
   "execution_count": null,
   "id": "8293f239-56a1-4367-8f57-9dcc1a0313ed",
   "metadata": {
    "id": "8293f239-56a1-4367-8f57-9dcc1a0313ed",
    "outputId": "b7eccaaa-4206-4aef-efbd-0eb219258a9a"
   },
   "outputs": [],
   "source": [
    "# find one movie record\n",
    "movies.find_one({})"
   ]
  },
  {
   "cell_type": "code",
   "execution_count": null,
   "id": "09c05d7e-a677-4acb-82ce-d0c426ca10e7",
   "metadata": {
    "id": "09c05d7e-a677-4acb-82ce-d0c426ca10e7",
    "outputId": "e8aacca3-99e0-4756-f5ab-1cc2bd13fd3d"
   },
   "outputs": [],
   "source": [
    "# find one movie record with Salma Hayek as an actor\n",
    "movies.find_one({\"cast\": \"Salma Hayek\"})"
   ]
  },
  {
   "cell_type": "code",
   "execution_count": null,
   "id": "9e856797-3889-4543-b5ea-3a28b0cc3236",
   "metadata": {
    "collapsed": true,
    "id": "9e856797-3889-4543-b5ea-3a28b0cc3236",
    "jupyter": {
     "outputs_hidden": true
    },
    "tags": []
   },
   "outputs": [],
   "source": [
    "# display the movies in which Salma Hayek acted\n",
    "salma = movies.find({\"cast\": \"Salma Hayek\"})\n",
    "print(dumps(salma, indent=2))"
   ]
  },
  {
   "cell_type": "code",
   "execution_count": null,
   "id": "4182af9d-f91e-4821-83ac-90b2263582d3",
   "metadata": {
    "id": "4182af9d-f91e-4821-83ac-90b2263582d3",
    "tags": []
   },
   "outputs": [],
   "source": [
    "# display the titles of movies in which Salma Hayek acted\n",
    "salma_movies_titles = movies.find(#to complete)\n",
    "print(dumps(salma_movies_titles, indent=2))"
   ]
  },
  {
   "cell_type": "code",
   "execution_count": null,
   "id": "dbb4d585-ee24-4e29-ba79-39f25707f9ff",
   "metadata": {
    "id": "dbb4d585-ee24-4e29-ba79-39f25707f9ff",
    "tags": []
   },
   "outputs": [],
   "source": [
    "# display ONLY the titles of movies in which Salma Hayek acted\n",
    "salma_movies = movies.find(#to complete)\n",
    "print(dumps(salma_movies, indent=2))"
   ]
  },
  {
   "cell_type": "markdown",
   "id": "c29fa533-49f4-44f7-92cc-90adeab3bb20",
   "metadata": {
    "id": "c29fa533-49f4-44f7-92cc-90adeab3bb20",
    "tags": []
   },
   "source": [
    "### Operations on cusrsor and aggregations\n",
    "Documentation for aggregation pipeline: \n",
    "- https://www.mongodb.com/docs/manual/core/aggregation-pipeline/\n",
    "- https://pymongo.readthedocs.io/en/stable/examples/aggregation.html"
   ]
  },
  {
   "cell_type": "markdown",
   "id": "53f73f42-ee19-4dd0-a46d-6f894987afe0",
   "metadata": {
    "id": "53f73f42-ee19-4dd0-a46d-6f894987afe0",
    "tags": []
   },
   "source": [
    "#### Limiting"
   ]
  },
  {
   "cell_type": "code",
   "execution_count": null,
   "id": "8fd7a024-25c0-4e64-b7cc-dbf152efdb06",
   "metadata": {
    "id": "8fd7a024-25c0-4e64-b7cc-dbf152efdb06",
    "outputId": "4d9ad99b-1cc7-4711-a792-322884530631",
    "tags": []
   },
   "outputs": [],
   "source": [
    "limited = movies.find(\n",
    "{\"directors\": \"Sam Raimi\"},\n",
    "{\"_id\":0, \"title\": 1, \"cast\":1}\n",
    ").limit(2)\n",
    "print(dumps(limited, indent=2))"
   ]
  },
  {
   "cell_type": "code",
   "execution_count": null,
   "id": "2b4f51a6-5b69-45b9-b63f-5dce5a1edff7",
   "metadata": {
    "id": "2b4f51a6-5b69-45b9-b63f-5dce5a1edff7"
   },
   "outputs": [],
   "source": [
    "pipeline = [\n",
    "{\"$match\" : {\"directors\": \"Sam Raimi\"}},\n",
    "{\"$project\": {\"_id\": 0, \"title\":1, \"cast\":1}},\n",
    "{\"$limit\": 2}\n",
    "]"
   ]
  },
  {
   "cell_type": "code",
   "execution_count": null,
   "id": "1c2f3f03-d3f5-426f-adaf-3d4bdd5eb368",
   "metadata": {
    "id": "1c2f3f03-d3f5-426f-adaf-3d4bdd5eb368",
    "outputId": "ce248c7b-5314-4653-a913-4029d3529a94",
    "tags": []
   },
   "outputs": [],
   "source": [
    "limited_agg = movies.aggregate(pipeline)\n",
    "print(dumps(limited_agg, indent=2))"
   ]
  },
  {
   "cell_type": "markdown",
   "id": "01d732c9-5430-4f0d-860e-f9d797c260a3",
   "metadata": {
    "id": "01d732c9-5430-4f0d-860e-f9d797c260a3",
    "tags": []
   },
   "source": [
    "#### Sorting"
   ]
  },
  {
   "cell_type": "code",
   "execution_count": null,
   "id": "84a6d2a4-b49b-4181-9758-9367a4465d1d",
   "metadata": {
    "id": "84a6d2a4-b49b-4181-9758-9367a4465d1d",
    "outputId": "fcd7fd8c-13e5-4d0e-fba0-0ababb06b996",
    "tags": []
   },
   "outputs": [],
   "source": [
    "sorted_cursor = movies.find(\n",
    "    {\"directors\": \"Sam Raimi\"},\n",
    "    {\"_id\":0, \"year\":1, \"title\":1, \"cast\": 1}\n",
    ").sort(\"year\", ASCENDING)\n",
    "print(dumps(sorted_cursor, indent=2))"
   ]
  },
  {
   "cell_type": "code",
   "execution_count": null,
   "id": "84aabcb0-9818-45ec-8766-4845a71572e6",
   "metadata": {
    "id": "84aabcb0-9818-45ec-8766-4845a71572e6"
   },
   "outputs": [],
   "source": [
    "pipeline = [\n",
    "{\"$match\" : {\"directors\": \"Sam Raimi\"}},\n",
    "{\"$project\": {\"_id\": 0, \"year\":1, \"title\":1, \"cast\":1}},\n",
    "{\"$sort\": {\"year\": DESCENDING}}\n",
    "]"
   ]
  },
  {
   "cell_type": "code",
   "execution_count": null,
   "id": "c2335cfb-ef70-43fe-a026-d7135bd7d7de",
   "metadata": {
    "id": "c2335cfb-ef70-43fe-a026-d7135bd7d7de",
    "outputId": "0eb17d7f-0367-4889-ad3d-2effadaba97f",
    "tags": []
   },
   "outputs": [],
   "source": [
    "sorted_agg = movies.aggregate(pipeline)\n",
    "print(dumps(sorted_agg, indent=2))"
   ]
  },
  {
   "cell_type": "markdown",
   "id": "561c6557-288c-42e5-89e1-dd5548135e0b",
   "metadata": {},
   "source": [
    "##### List movies in which Tom Hanks acted sorted by year and title"
   ]
  },
  {
   "cell_type": "code",
   "execution_count": null,
   "id": "9aa1f36a-c457-48ee-8844-e1e4a44d2696",
   "metadata": {
    "id": "9aa1f36a-c457-48ee-8844-e1e4a44d2696",
    "outputId": "bc5117b6-0a64-4f9c-9d00-922a719a6a34",
    "tags": []
   },
   "outputs": [],
   "source": [
    "tom_hanks_cursor = movies.find()\n",
    "print(dumps(sorted_cursor, indent=2))"
   ]
  },
  {
   "cell_type": "code",
   "execution_count": null,
   "id": "5766440b-95ce-4eea-846f-fff2356c7ee5",
   "metadata": {
    "id": "5766440b-95ce-4eea-846f-fff2356c7ee5",
    "outputId": "a807e07e-fed4-498c-db2f-a2e22e13baa3",
    "tags": []
   },
   "outputs": [],
   "source": [
    "pipeline = []\n",
    "print(dumps(sorted_agg, indent=2))"
   ]
  },
  {
   "cell_type": "markdown",
   "id": "0276fd35-13ab-4291-afb7-cfb4d44457f7",
   "metadata": {
    "id": "0276fd35-13ab-4291-afb7-cfb4d44457f7",
    "tags": []
   },
   "source": [
    "#### Skipping"
   ]
  },
  {
   "cell_type": "code",
   "execution_count": null,
   "id": "45dbfd13-eff3-464d-af58-4301360e3c0a",
   "metadata": {
    "id": "45dbfd13-eff3-464d-af58-4301360e3c0a",
    "outputId": "a475ba4b-b1fa-4a2f-bce6-0f0fd0d7648d",
    "tags": []
   },
   "outputs": [],
   "source": [
    "#count the number of documents in which Sam Raimi acted\n",
    "pipeline = [\n",
    "    {\"$match\": {\"directors\": \"Sam Raimi\"}},\n",
    "    {\"$count\": \"num_movies\"}\n",
    "]\n",
    "aggregation = movies.aggregate(pipeline)\n",
    "print(dumps(aggregation,indent=2))"
   ]
  },
  {
   "cell_type": "markdown",
   "id": "c6378700-ac0d-45ca-9f82-288382433288",
   "metadata": {},
   "source": [
    "##### Skip records and take only the last one"
   ]
  },
  {
   "cell_type": "code",
   "execution_count": null,
   "id": "a4adeac5-91dd-46a6-a004-299754c41f6d",
   "metadata": {
    "id": "a4adeac5-91dd-46a6-a004-299754c41f6d",
    "outputId": "50a4af1a-eca4-402e-98e8-0e8e8e865eb8",
    "tags": []
   },
   "outputs": [],
   "source": [
    "skipped = movies.find({\"directors\": \"Sam Raimi\"},{\"_id\": 0, \"title\":1, \"cast\":1}).skip(12)\n",
    "print(dumps(skipped, indent=2))"
   ]
  },
  {
   "cell_type": "markdown",
   "id": "f315c4bb-0014-41d0-b1ae-93447c3ce314",
   "metadata": {},
   "source": [
    "##### Skip records and take only the 3 last ones"
   ]
  },
  {
   "cell_type": "code",
   "execution_count": null,
   "id": "d712e4b5-bc0f-4b1d-9fc9-2e2d776cf70c",
   "metadata": {
    "id": "d712e4b5-bc0f-4b1d-9fc9-2e2d776cf70c",
    "outputId": "348caecc-7f6a-40cf-a5cf-5a379ab8b747",
    "tags": []
   },
   "outputs": [],
   "source": [
    "skipped_sorted = movies.find({\"directors\": \"Sam Raimi\"},{\"_id\": 0, \"title\":1, \"cast\":1}).sort(\"year\").skip(10)\n",
    "print(dumps(skipped_sorted, indent=2))"
   ]
  },
  {
   "cell_type": "code",
   "execution_count": null,
   "id": "b594cd2b-2b54-4d49-8287-f7c4b94d4376",
   "metadata": {
    "id": "b594cd2b-2b54-4d49-8287-f7c4b94d4376",
    "outputId": "bc58927c-7644-44a7-e562-ebee8d2229c7",
    "tags": []
   },
   "outputs": [],
   "source": [
    "pipeline = [\n",
    "{\"$match\": {\"directors\": \"Sam Raimi\"}},\n",
    "{\"$project\": {\"_id\":0, \"year\":1, \"title\":1,\"cast\":1}},\n",
    "{\"$sort\": {\"year\": ASCENDING}},\n",
    "{\"$skip\": 10}]\n",
    "\n",
    "sorted_skipped_agg = movies.aggregate(pipeline)\n",
    "print(dumps(sorted_skipped_agg, indent=2))"
   ]
  }
 ],
 "metadata": {
  "colab": {
   "provenance": []
  },
  "kernelspec": {
   "display_name": "Python 3 (ipykernel)",
   "language": "python",
   "name": "python3"
  },
  "language_info": {
   "codemirror_mode": {
    "name": "ipython",
    "version": 3
   },
   "file_extension": ".py",
   "mimetype": "text/x-python",
   "name": "python",
   "nbconvert_exporter": "python",
   "pygments_lexer": "ipython3",
   "version": "3.11.6"
  }
 },
 "nbformat": 4,
 "nbformat_minor": 5
}
