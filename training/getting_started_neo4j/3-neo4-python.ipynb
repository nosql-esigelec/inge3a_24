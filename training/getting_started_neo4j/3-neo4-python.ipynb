{
 "cells": [
  {
   "cell_type": "markdown",
   "id": "26adac41-2fcb-492f-9ee6-1c9064939315",
   "metadata": {},
   "source": [
    "# Validalab, s'informer en confiance"
   ]
  },
  {
   "cell_type": "markdown",
   "id": "c7e346f7-952f-436f-bd3d-e2481fe37fbd",
   "metadata": {},
   "source": [
    "Dans ce **TP**, nous allons exploiter la base de données de **Validalab**. <br>\n",
    "Une organisation à but non lucratif donc le but est d'aider les citoyens à mieux s'informer et à être acteurs de leur consommation d'informations.<br>\n",
    "Elle a été initiée par **Jean-Marc Guerin**\n",
    "\n",
    "\n",
    "Plutôt que de faire du fact-checking, **Validalab** prend le parti d'informer les utilisateurs sur la source d'information. <br>\n",
    "Ainsi, sur cette [application](http://app.validalab.fr/), on peut retrouver différentes informations agrégées sur les médias français.<br>\n",
    ">Les données ont été scrappées sur différents dites et ingérés dans une base de données **Neo4j**. Le [dictionnaire des données](https://docs.google.com/spreadsheets/d/17iylS3y-xRVZLFMOuyz-o5Oy_MSlO_jvQoY8LBmH1LQ/edit#gid=1217348665) décrit les **types de données**, les **propriétés** et les **relations** du graphe de Validalab."
   ]
  },
  {
   "cell_type": "markdown",
   "id": "b7f328a0-9b4c-4e12-b197-ea7882b678f3",
   "metadata": {},
   "source": [
    "## Installation du Driver python de Neo4j "
   ]
  },
  {
   "cell_type": "code",
   "execution_count": null,
   "id": "563b81c4-d33f-4c28-a0ab-7e94eb8fd59f",
   "metadata": {},
   "outputs": [],
   "source": [
    "!pip install neo4j"
   ]
  },
  {
   "cell_type": "markdown",
   "id": "075d79ac-f06d-4c72-9b0f-6214d6714ad1",
   "metadata": {},
   "source": [
    "## Importation des packages "
   ]
  },
  {
   "cell_type": "code",
   "execution_count": 3,
   "id": "75677ea3-7390-44c3-beb4-7cfed06b3232",
   "metadata": {},
   "outputs": [],
   "source": [
    "from neo4j import GraphDatabase, basic_auth"
   ]
  },
  {
   "cell_type": "markdown",
   "id": "ede41e8e-8e6a-4872-a389-5a8304bc1232",
   "metadata": {},
   "source": [
    "## Informations de connexion à la base de données"
   ]
  },
  {
   "cell_type": "code",
   "execution_count": 4,
   "id": "85d4ba89-2b36-4abf-971f-d997cef9a0cb",
   "metadata": {},
   "outputs": [],
   "source": [
    "password = \"\"\n",
    "uri = \"neo4j+s://5074307c.databases.neo4j.io\"\n",
    "driver = GraphDatabase.driver(uri,auth=basic_auth(\"neo4j\", password))"
   ]
  },
  {
   "cell_type": "code",
   "execution_count": 5,
   "id": "fa962c4d-c32c-461d-9482-5d500be3a86b",
   "metadata": {},
   "outputs": [],
   "source": [
    "db = driver.session(database='neo4j')"
   ]
  },
  {
   "cell_type": "markdown",
   "id": "83ebcf4d-cc64-4026-a98a-4392eceb5e55",
   "metadata": {},
   "source": [
    "### 1- Introduction\n",
    "Pour exécuter une requête **CYPHER** via le driver python de Neo4j, on utilise la méthode `run` de l'ojbet `Session`, soit `db` dans notre cas."
   ]
  },
  {
   "cell_type": "code",
   "execution_count": null,
   "id": "a66d3833-889a-4f64-8243-3dd534c2fa9a",
   "metadata": {
    "tags": []
   },
   "outputs": [],
   "source": [
    "# Lister les différents type de données\n",
    "results = db.run(\"\"\"\n",
    "MATCH (n) RETURN DISTINCT labels(n)\n",
    "\"\"\")\n",
    "results.data()"
   ]
  },
  {
   "cell_type": "markdown",
   "id": "49a6643b-2889-4c87-a340-e5db3a32db76",
   "metadata": {},
   "source": [
    "#### Help\n",
    "Consultons l'aide de la méthode run."
   ]
  },
  {
   "cell_type": "code",
   "execution_count": null,
   "id": "95c3a60b-11ee-4085-ae6d-f1cdafe845d4",
   "metadata": {},
   "outputs": [],
   "source": [
    "help(db.run)"
   ]
  },
  {
   "cell_type": "markdown",
   "id": "2006bc96-6214-40e8-8211-dae30d6d7c2d",
   "metadata": {},
   "source": [
    "Elle a 2 principaux arguments(`query` et `parameters`) et des arguments indéfinis `**kwargs`.\n",
    "\n",
    "- `query`: comme l'indique la docstring, c'est tout simplement la requête CYPHER\n",
    "- `parameters`: il s'agit d'un dictionnaire de paramètres utilisables dans la requête précédente"
   ]
  },
  {
   "cell_type": "code",
   "execution_count": null,
   "id": "b5be7a6b-2306-4c5c-adc5-411d7149ad52",
   "metadata": {},
   "outputs": [],
   "source": [
    "# Afficher les informations sur l'entité pertant le nom \"Le Monde SA\"\n",
    "results = db.run(\"\"\"\n",
    "    MATCH (n:Entity {name: $entity_name})\n",
    "    RETURN n\n",
    "    \"\"\", {\"entity_name\": \"Le Monde SA\"})\n",
    "results.data()"
   ]
  },
  {
   "cell_type": "markdown",
   "id": "68c11248-43ec-415c-8965-70c3b8d0c2ef",
   "metadata": {},
   "source": [
    "### 2- Clause MATCH"
   ]
  },
  {
   "cell_type": "markdown",
   "id": "f66eb13c-6002-4970-ab46-f6cc3bb2b422",
   "metadata": {},
   "source": [
    "Combien de nœuds de type **Entity**, **Website**, **Wikipedia** y a-t-il dans la base de données ?\n",
    "> Créer une fonction permettant de compter le nombre de noeuds pour un Label donné.\n",
    "\n",
    "**Lien utile :** https://neo4j.com/docs/cypher-manual/current/clauses/match/#basic-node-finding"
   ]
  },
  {
   "cell_type": "code",
   "execution_count": null,
   "id": "683c6521-da88-4a23-8ec1-cf37f0b675f4",
   "metadata": {},
   "outputs": [],
   "source": [
    "def count_nodes(entity_type):\n",
    "    results = db.run(f\"\"\"\n",
    "    #TO COMPLETE\n",
    "    \"\"\")\n",
    "    return results.data()[0].get('count')"
   ]
  },
  {
   "cell_type": "code",
   "execution_count": null,
   "id": "d92c912e-5238-44ea-a181-2683afa37076",
   "metadata": {},
   "outputs": [],
   "source": [
    "for label in [\"Entity\", \"Website\", \"Wikipedia\"]:\n",
    "    print(f\"There is {count_nodes(label)} nodes with the type {label}\")"
   ]
  },
  {
   "cell_type": "markdown",
   "id": "c5a87eec-80d7-4819-aafb-b0d82f4458dd",
   "metadata": {},
   "source": [
    "---\n",
    "Lister les 10 premiers nœuds de type **Entity**"
   ]
  },
  {
   "cell_type": "code",
   "execution_count": null,
   "id": "2f99efb6-b665-4531-9c36-a3571c8d0704",
   "metadata": {},
   "outputs": [],
   "source": [
    "def find_nodes(entity_type, limit=10):\n",
    "    results = db.run(f\"\"\"\n",
    "    #TO COMPLETE\n",
    "    \"\"\")\n",
    "    return results.data()"
   ]
  },
  {
   "cell_type": "code",
   "execution_count": null,
   "id": "ca54656b-aeac-4a3c-b156-b565f3105c72",
   "metadata": {
    "tags": []
   },
   "outputs": [],
   "source": [
    "find_nodes(\"Entity\", limit=1)"
   ]
  },
  {
   "cell_type": "markdown",
   "id": "670f8199-33a7-478c-a673-3d13bf3c74f6",
   "metadata": {},
   "source": [
    "---\n",
    "Afficher les nœuds de type Entity sous forme de **DataFrame**<br>\n",
    "**N.B:** la méthode `to_df()` peut aider."
   ]
  },
  {
   "cell_type": "code",
   "execution_count": null,
   "id": "eab7bda5-1efb-4ae9-be4a-b119956edb8d",
   "metadata": {
    "tags": []
   },
   "outputs": [],
   "source": [
    "results = db.run(\"\"\"\n",
    "#TO COMPLETE\n",
    "\"\"\")\n",
    "results.to_df()"
   ]
  },
  {
   "cell_type": "markdown",
   "id": "747fb1a1-60c9-4c80-bbc1-ec8c04885ac9",
   "metadata": {},
   "source": [
    "### 3- Clause WHERE"
   ]
  },
  {
   "cell_type": "markdown",
   "id": "0a7ac929-cbba-4f29-b583-3cd2ddef1808",
   "metadata": {},
   "source": [
    "Créer une fonction qui permet de retrouver des sites contenant une chaine de caractères.<br>\n",
    "**Exemple :** lemonde, valeurs, etc...\n",
    "<br>\n",
    "**Lien utile :** https://neo4j.com/docs/cypher-manual/current/clauses/where/"
   ]
  },
  {
   "cell_type": "code",
   "execution_count": null,
   "id": "e8e0c6be-5ca4-485e-ac68-6dc78ebe66f3",
   "metadata": {
    "tags": []
   },
   "outputs": [],
   "source": [
    "def find_website(string):\n",
    "    results = db.run(f\"\"\"\n",
    "    #TO COMPLETE\n",
    "    \"\"\")\n",
    "    return results.data()"
   ]
  },
  {
   "cell_type": "code",
   "execution_count": null,
   "id": "16839728-55c3-4d7c-8812-0fdccaf914de",
   "metadata": {
    "tags": []
   },
   "outputs": [],
   "source": [
    "find_website('lemonde')"
   ]
  },
  {
   "cell_type": "markdown",
   "id": "7ed14c1f-2360-4f42-9c97-282e5c4976a6",
   "metadata": {},
   "source": [
    "### 4- RELATIONS"
   ]
  },
  {
   "cell_type": "markdown",
   "id": "b2284fce-b767-4a8c-9871-d4ab9a8153b2",
   "metadata": {},
   "source": [
    "---\n",
    "Créer une fonction qui retourne le résumé **Wikipedia** pour un site web donné.\n",
    "> Rappel: Dans la base de données, nous avons les données Wikipedia. Le résumé des noeuds Wikipedia correspond à la propriété ``summary`."
   ]
  },
  {
   "cell_type": "code",
   "execution_count": null,
   "id": "d6bfe693-a6e5-4f38-8fa0-238c48efdc21",
   "metadata": {},
   "outputs": [],
   "source": [
    "def get_summary(site_name):\n",
    "    results = db.run(\"\"\"\n",
    "    #TO COMPLETE\n",
    "    \"\"\", {\"site_name\":site_name})\n",
    "    return results.data()[0].get('w.summary')"
   ]
  },
  {
   "cell_type": "code",
   "execution_count": null,
   "id": "cb384a2a-301f-4e5d-a5b7-791b43d6250f",
   "metadata": {},
   "outputs": [],
   "source": [
    "get_summary('lemessager.fr')"
   ]
  },
  {
   "cell_type": "markdown",
   "id": "54e19499-7b2e-468c-ab4f-4d626e634776",
   "metadata": {},
   "source": [
    "---\n",
    "Le Gorafi, Le Monde et Valeurs Actuelles sont-ils des journaux fiables ?\n",
    "Pour répondre à cette question, on peut lister les **citations** de ces médias.<br>\n",
    "> Les `citations` d'un site, dans notre contexte,  sont les recommandations(<span style=\"background:green; color:white\">positives</span> ou <span style=\"background:red; color:white\">négative</span>) de ce site par des entités quelconques."
   ]
  },
  {
   "cell_type": "code",
   "execution_count": null,
   "id": "14c42b75-cddb-4150-b36d-5d6bee3b770e",
   "metadata": {},
   "outputs": [],
   "source": [
    "def list_recommendations(site_name):\n",
    "    results = db.run(\"\"\"\n",
    "    #TO COMPLETE\n",
    "    \"\"\", {\"site_name\":site_name})\n",
    "    return results.to_df()"
   ]
  },
  {
   "cell_type": "code",
   "execution_count": null,
   "id": "9a310998-e7c7-45ac-9a88-e694198ab122",
   "metadata": {},
   "outputs": [],
   "source": [
    "list_recommendations(\"lemonde.fr\")"
   ]
  },
  {
   "cell_type": "code",
   "execution_count": null,
   "id": "1d6e5533-87f2-460f-9ded-8c159f9b354a",
   "metadata": {},
   "outputs": [],
   "source": [
    "list_recommendations(\"legorafi.fr\")"
   ]
  },
  {
   "cell_type": "code",
   "execution_count": null,
   "id": "2d27f468-b79d-431c-9239-6749f787e7ce",
   "metadata": {},
   "outputs": [],
   "source": [
    "list_recommendations(\"valeursactuelles.com\")"
   ]
  },
  {
   "cell_type": "markdown",
   "id": "ecef08f3-2aeb-4fdc-a0af-53f249e8692c",
   "metadata": {},
   "source": [
    "### 5- Investigations"
   ]
  },
  {
   "cell_type": "markdown",
   "id": "d2805f28-1bd2-4cec-bceb-60110425660a",
   "metadata": {},
   "source": [
    "---\n",
    "Créer une fonction pour déterminer les propriétaires finaux d'un site web.\n",
    "> Les propriétairs finaux sont ceux au sommet de la chaine. C'est à dire, ceux qui n'ont personne qui les possède."
   ]
  },
  {
   "cell_type": "code",
   "execution_count": null,
   "id": "b0693588-3d2a-455c-817b-3b21204f7428",
   "metadata": {},
   "outputs": [],
   "source": [
    "def final_onwers(site_name):\n",
    "    results = db.run(\"\"\"\n",
    "    #TO COMPLETE\n",
    "    \"\"\",\n",
    "                {\"site_name\": f\"(?i).*{site_name}.*\"})\n",
    "    return [proprio.get('proprietaire') for proprio in results.data()]"
   ]
  },
  {
   "cell_type": "code",
   "execution_count": null,
   "id": "cecf097a-e181-467a-b5cb-c1c2fc1c1274",
   "metadata": {},
   "outputs": [],
   "source": [
    "final_onwers('lemessager.fr')"
   ]
  },
  {
   "cell_type": "markdown",
   "id": "4479ce0c-4f55-4864-a6ee-3b6d3cc87ce1",
   "metadata": {},
   "source": [
    "---\n",
    "Créer une fonction pour déterminer le nombre de médias que possèdent chacun des propriétaires finaux trouvés."
   ]
  },
  {
   "cell_type": "code",
   "execution_count": null,
   "id": "5e6f9e56-6490-412e-b24c-26916d2f05bd",
   "metadata": {},
   "outputs": [],
   "source": [
    "def medias_by_owners(site_name):\n",
    "    results = db.run(\"\"\"\n",
    "    #TO COMPLETE\n",
    "    \"\"\",\n",
    "                {\"site_name\": f\"(?i).*{site_name}.*\"})\n",
    "    return results.to_df().sort_values(by=\"nb_medias\", ascending=False)"
   ]
  },
  {
   "cell_type": "code",
   "execution_count": null,
   "id": "47bed615-d6bf-424a-bd01-e1af93cef0c4",
   "metadata": {},
   "outputs": [],
   "source": [
    "medias_by_owners('lemonde.fr')"
   ]
  }
 ],
 "metadata": {
  "kernelspec": {
   "display_name": "Python 3 (ipykernel)",
   "language": "python",
   "name": "python3"
  },
  "language_info": {
   "codemirror_mode": {
    "name": "ipython",
    "version": 3
   },
   "file_extension": ".py",
   "mimetype": "text/x-python",
   "name": "python",
   "nbconvert_exporter": "python",
   "pygments_lexer": "ipython3",
   "version": "3.11.6"
  }
 },
 "nbformat": 4,
 "nbformat_minor": 5
}
