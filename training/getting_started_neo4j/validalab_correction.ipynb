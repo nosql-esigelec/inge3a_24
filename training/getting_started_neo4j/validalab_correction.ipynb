{
 "cells": [
  {
   "cell_type": "markdown",
   "id": "aaa667d8-cb83-4e3e-b0d6-92817e3d2d93",
   "metadata": {},
   "source": [
    "# Validalab, s'informer en confiance"
   ]
  },
  {
   "cell_type": "markdown",
   "id": "a744494a-942a-40b6-b358-d11150dd1628",
   "metadata": {},
   "source": [
    "Dans ce **TP**, nous allons exploiter la base de données de **Validalab**. <br>\n",
    "Une organisation à but non lucratif donc le but est d'aider les citoyens à mieux s'informer et à être acteurs de leur consommation d'informations.<br>\n",
    "Elle a été initiée par **Jean-Marc Guerin**\n",
    "\n",
    "![jmg.png](../data/images/jmg.png)\n",
    "\n",
    "Plutôt que de faire du fact-checking, **Validalab** prend le parti d'informer les utilisateurs sur la source d'information. <br>\n",
    "Ainsi, sur cette [application](http://app.validalab.fr/), on peut retrouver différentes informations agrégées sur les médias français.<br>\n",
    ">Les données ont été scrappées sur différents dites et ingérés dans une base de données **Neo4j**. Le [dictionnaire des données](https://docs.google.com/spreadsheets/d/17iylS3y-xRVZLFMOuyz-o5Oy_MSlO_jvQoY8LBmH1LQ/edit#gid=1217348665) décrit les **types de données**, les **propriétés** et les **relations** du graphe de Validalab."
   ]
  },
  {
   "cell_type": "markdown",
   "id": "8685e14b-10d4-4d12-94c7-d1a57e22e5f8",
   "metadata": {},
   "source": [
    "## Installation du Driver python de Neo4j "
   ]
  },
  {
   "cell_type": "code",
   "execution_count": 38,
   "id": "563b81c4-d33f-4c28-a0ab-7e94eb8fd59f",
   "metadata": {},
   "outputs": [
    {
     "name": "stdout",
     "output_type": "stream",
     "text": [
      "Requirement already satisfied: neo4j in c:\\users\\brice\\anaconda3\\lib\\site-packages (5.2.0)\n",
      "Requirement already satisfied: pytz in c:\\users\\brice\\anaconda3\\lib\\site-packages (from neo4j) (2021.3)\n"
     ]
    }
   ],
   "source": [
    "!pip install neo4j"
   ]
  },
  {
   "cell_type": "markdown",
   "id": "2a2d5252-9eaa-4257-99fe-f61586b337e6",
   "metadata": {},
   "source": [
    "## Importation des packages "
   ]
  },
  {
   "cell_type": "code",
   "execution_count": 1,
   "id": "75677ea3-7390-44c3-beb4-7cfed06b3232",
   "metadata": {},
   "outputs": [],
   "source": [
    "from neo4j import GraphDatabase, basic_auth"
   ]
  },
  {
   "cell_type": "markdown",
   "id": "1f64cdd6-fc8f-4ef1-b567-38cbb3001a52",
   "metadata": {},
   "source": [
    "## Informations de connexion à la base de données"
   ]
  },
  {
   "cell_type": "code",
   "execution_count": 2,
   "id": "85d4ba89-2b36-4abf-971f-d997cef9a0cb",
   "metadata": {},
   "outputs": [],
   "source": [
    "password = \"Ncl9ptdC3GzPHM8ba-_0NWRWSH7iHDVZYMPd_qWrES0\"\n",
    "uri = \"neo4j+s://5074307c.databases.neo4j.io\"\n",
    "driver = GraphDatabase.driver(uri,auth=basic_auth(\"neo4j\", password))"
   ]
  },
  {
   "cell_type": "code",
   "execution_count": 3,
   "id": "fa962c4d-c32c-461d-9482-5d500be3a86b",
   "metadata": {},
   "outputs": [],
   "source": [
    "db = driver.session(database='neo4j')"
   ]
  },
  {
   "cell_type": "markdown",
   "id": "83ebcf4d-cc64-4026-a98a-4392eceb5e55",
   "metadata": {},
   "source": [
    "### 1- Introduction\n",
    "Pour exécuter une requête **CYPHER** via le driver python de Neo4j, on utilise la méthode `run` de l'objet `Session`, soit `db` dans notre cas.\n",
    "\n",
    "Exemple : Lister les différents types de données"
   ]
  },
  {
   "cell_type": "code",
   "execution_count": 36,
   "id": "a66d3833-889a-4f64-8243-3dd534c2fa9a",
   "metadata": {
    "tags": []
   },
   "outputs": [
    {
     "data": {
      "text/plain": [
       "[{'labels(n)': ['Option']},\n",
       " {'labels(n)': ['Question']},\n",
       " {'labels(n)': ['Tag']},\n",
       " {'labels(n)': ['Template']},\n",
       " {'labels(n)': ['Section']},\n",
       " {'labels(n)': ['Project']},\n",
       " {'labels(n)': ['TestNode']},\n",
       " {'labels(n)': ['Entity']},\n",
       " {'labels(n)': ['Website']},\n",
       " {'labels(n)': ['Facebook']},\n",
       " {'labels(n)': ['Wikipedia']}]"
      ]
     },
     "execution_count": 36,
     "metadata": {},
     "output_type": "execute_result"
    }
   ],
   "source": [
    "# Lister les différents type de données\n",
    "results = db.run(\"\"\"\n",
    "MATCH (n) RETURN DISTINct labels(n)\n",
    "\"\"\")\n",
    "results.data()"
   ]
  },
  {
   "cell_type": "markdown",
   "id": "43a4539c-4b59-42b4-884c-af6d5724b4bb",
   "metadata": {},
   "source": [
    "#### Help\n",
    "Consultons l'aide de la méthode run"
   ]
  },
  {
   "cell_type": "code",
   "execution_count": 5,
   "id": "0c909cca-584e-45b1-a42b-03e8313418fd",
   "metadata": {},
   "outputs": [
    {
     "name": "stdout",
     "output_type": "stream",
     "text": [
      "Help on method run in module neo4j._sync.work.session:\n",
      "\n",
      "run(query: 't.Union[te.LiteralString, Query]', parameters: 't.Optional[t.Dict[str, t.Any]]' = None, **kwargs: 't.Any') -> 'Result' method of neo4j._sync.work.session.Session instance\n",
      "    Run a Cypher query within an auto-commit transaction.\n",
      "    \n",
      "    The query is sent and the result header received\n",
      "    immediately but the :class:`neo4j.Result` content is\n",
      "    fetched lazily as consumed by the client application.\n",
      "    \n",
      "    If a query is executed before a previous\n",
      "    :class:`neo4j.Result` in the same :class:`.Session` has\n",
      "    been fully consumed, the first result will be fully fetched\n",
      "    and buffered. Note therefore that the generally recommended\n",
      "    pattern of usage is to fully consume one result before\n",
      "    executing a subsequent query. If two results need to be\n",
      "    consumed in parallel, multiple :class:`.Session` objects\n",
      "    can be used as an alternative to result buffering.\n",
      "    \n",
      "    For more usage details, see :meth:`.Transaction.run`.\n",
      "    \n",
      "    :param query: cypher query\n",
      "    :type query: typing.LiteralString | Query\n",
      "    :param parameters: dictionary of parameters\n",
      "    :type parameters: typing.Dict[str, typing.Any] | None\n",
      "    :param kwargs: additional keyword parameters.\n",
      "        These take precedence over parameters passed as ``parameters``.\n",
      "    :type kwargs: typing.Any\n",
      "    \n",
      "    :returns: a new :class:`neo4j.Result` object\n",
      "    \n",
      "    :raises SessionError: if the session has been closed.\n",
      "\n"
     ]
    }
   ],
   "source": [
    "help(db.run)"
   ]
  },
  {
   "cell_type": "markdown",
   "id": "0eaeed71-4343-4a2c-839a-566a68c10999",
   "metadata": {},
   "source": [
    "Elle a 2 principaux arguments(`query` et `parameters`) et des arguments indéfinis `**kwargs`.\n",
    "\n",
    "- `query`: comme l'indique la docstring, c'est tout simplement la requête CYPHER\n",
    "- `parameters`: il s'agit d'un dictionnaire de paramètres utilisables dans la requête précédente"
   ]
  },
  {
   "cell_type": "code",
   "execution_count": 35,
   "id": "9395439f-84b3-4a2b-88fc-e5fb201dd6ac",
   "metadata": {},
   "outputs": [
    {
     "data": {
      "text/plain": [
       "[{'n': {'Diplo_milliardaireForbes': 'Non',\n",
       "   'Diplo_mediaPeriodicite': 'Quotidien',\n",
       "   'Diplo_typeLibelle': 'Media',\n",
       "   'Diplo_mediaEchelle': 'National',\n",
       "   'name': 'Le Monde SA',\n",
       "   'Diplo_typeCode': 1,\n",
       "   'Diplo_ACPMdiffusion': 100000,\n",
       "   'Diplo_rangChallenges': 10,\n",
       "   'Diplo_mediaType': 'Journal',\n",
       "   'Diplo_commentaire': 'Commentaire'}},\n",
       " {'n': {'Diplo_typeLibelle': 'Personne Morale', 'name': 'Le Monde SA'}}]"
      ]
     },
     "execution_count": 35,
     "metadata": {},
     "output_type": "execute_result"
    }
   ],
   "source": [
    "# Afficher les informations sur l'entité pertant le nom \"Le Monde SA\"\n",
    "results = db.run(\"\"\"\n",
    "    MATCH (n:Entity {name: $entity_name})\n",
    "    RETURN n\n",
    "    \"\"\", {\"entity_name\": \"Le Monde SA\"})\n",
    "results.data()"
   ]
  },
  {
   "cell_type": "markdown",
   "id": "68c11248-43ec-415c-8965-70c3b8d0c2ef",
   "metadata": {},
   "source": [
    "### 2- Clause MATCH"
   ]
  },
  {
   "cell_type": "markdown",
   "id": "f66eb13c-6002-4970-ab46-f6cc3bb2b422",
   "metadata": {},
   "source": [
    "Combien de nœuds de type **Entity**, **Website**, **Wikipedia** y a-t-il dans la base de données ?\n",
    "> Créer une fonction permettant de compter le nombre de noeuds pour un Label donné.\n",
    "\n",
    "**Lien utile :** https://neo4j.com/docs/cypher-manual/current/clauses/match/#basic-node-finding"
   ]
  },
  {
   "cell_type": "code",
   "execution_count": 37,
   "id": "683c6521-da88-4a23-8ec1-cf37f0b675f4",
   "metadata": {},
   "outputs": [],
   "source": [
    "def count_nodes(entity_type):\n",
    "    results = db.run(f\"\"\"\n",
    "    MATCH (n:{entity_type}) RETURN count(*) as count\n",
    "    \"\"\")\n",
    "    return results.data()[0].get('count')"
   ]
  },
  {
   "cell_type": "code",
   "execution_count": 38,
   "id": "d92c912e-5238-44ea-a181-2683afa37076",
   "metadata": {},
   "outputs": [
    {
     "name": "stdout",
     "output_type": "stream",
     "text": [
      "There is 27 nodes with the type Entity\n",
      "There is 9 nodes with the type Website\n",
      "There is 9 nodes with the type Wikipedia\n"
     ]
    }
   ],
   "source": [
    "for label in [\"Entity\", \"Website\", \"Wikipedia\"]:\n",
    "    print(f\"There is {count_nodes(label)} nodes with the type {label}\")"
   ]
  },
  {
   "cell_type": "markdown",
   "id": "c5a87eec-80d7-4819-aafb-b0d82f4458dd",
   "metadata": {},
   "source": [
    "---\n",
    "Lister les 10 premiers nœuds de type **Entity**"
   ]
  },
  {
   "cell_type": "code",
   "execution_count": 39,
   "id": "2f99efb6-b665-4531-9c36-a3571c8d0704",
   "metadata": {},
   "outputs": [],
   "source": [
    "def find_nodes(entity_type,limit=10):\n",
    "    results = db.run(f\"\"\"\n",
    "    MATCH (n:{entity_type}) RETURN n LIMIT {limit}\n",
    "    \"\"\")\n",
    "    return results.data()"
   ]
  },
  {
   "cell_type": "code",
   "execution_count": 40,
   "id": "ca54656b-aeac-4a3c-b156-b565f3105c72",
   "metadata": {
    "tags": []
   },
   "outputs": [
    {
     "data": {
      "text/plain": [
       "[{'n': {'name': 'AFP', 'type': 'Neutre'}}]"
      ]
     },
     "execution_count": 40,
     "metadata": {},
     "output_type": "execute_result"
    }
   ],
   "source": [
    "find_nodes(\"Entity\", limit=1)"
   ]
  },
  {
   "cell_type": "markdown",
   "id": "670f8199-33a7-478c-a673-3d13bf3c74f6",
   "metadata": {},
   "source": [
    "---\n",
    "Afficher les nœuds de type Entity sous forme de **DataFrame**<br>\n",
    "**N.B:** la méthode `to_df()` peut aider."
   ]
  },
  {
   "cell_type": "code",
   "execution_count": 41,
   "id": "eab7bda5-1efb-4ae9-be4a-b119956edb8d",
   "metadata": {
    "tags": []
   },
   "outputs": [
    {
     "data": {
      "text/html": [
       "<div>\n",
       "<style scoped>\n",
       "    .dataframe tbody tr th:only-of-type {\n",
       "        vertical-align: middle;\n",
       "    }\n",
       "\n",
       "    .dataframe tbody tr th {\n",
       "        vertical-align: top;\n",
       "    }\n",
       "\n",
       "    .dataframe thead th {\n",
       "        text-align: right;\n",
       "    }\n",
       "</style>\n",
       "<table border=\"1\" class=\"dataframe\">\n",
       "  <thead>\n",
       "    <tr style=\"text-align: right;\">\n",
       "      <th></th>\n",
       "      <th>n.Diplo_mediaPeriodicite</th>\n",
       "      <th>n.name</th>\n",
       "      <th>n.Diplo_typeLibelle</th>\n",
       "    </tr>\n",
       "  </thead>\n",
       "  <tbody>\n",
       "    <tr>\n",
       "      <th>0</th>\n",
       "      <td>None</td>\n",
       "      <td>AFP</td>\n",
       "      <td>None</td>\n",
       "    </tr>\n",
       "    <tr>\n",
       "      <th>1</th>\n",
       "      <td>None</td>\n",
       "      <td>Le Figaro</td>\n",
       "      <td>None</td>\n",
       "    </tr>\n",
       "    <tr>\n",
       "      <th>2</th>\n",
       "      <td>None</td>\n",
       "      <td>Agence France-Presse</td>\n",
       "      <td>None</td>\n",
       "    </tr>\n",
       "    <tr>\n",
       "      <th>3</th>\n",
       "      <td>None</td>\n",
       "      <td>French Government</td>\n",
       "      <td>Etat</td>\n",
       "    </tr>\n",
       "    <tr>\n",
       "      <th>4</th>\n",
       "      <td>Quotidien</td>\n",
       "      <td>Le Figaro</td>\n",
       "      <td>Media</td>\n",
       "    </tr>\n",
       "    <tr>\n",
       "      <th>5</th>\n",
       "      <td>None</td>\n",
       "      <td>FactCheckFictif</td>\n",
       "      <td>None</td>\n",
       "    </tr>\n",
       "    <tr>\n",
       "      <th>6</th>\n",
       "      <td>None</td>\n",
       "      <td>FactCheckFictif Org</td>\n",
       "      <td>None</td>\n",
       "    </tr>\n",
       "    <tr>\n",
       "      <th>7</th>\n",
       "      <td>None</td>\n",
       "      <td>Independent</td>\n",
       "      <td>Personne Morale</td>\n",
       "    </tr>\n",
       "    <tr>\n",
       "      <th>8</th>\n",
       "      <td>None</td>\n",
       "      <td>LeGorafi</td>\n",
       "      <td>None</td>\n",
       "    </tr>\n",
       "    <tr>\n",
       "      <th>9</th>\n",
       "      <td>None</td>\n",
       "      <td>Dassault Group</td>\n",
       "      <td>Personne Morale</td>\n",
       "    </tr>\n",
       "  </tbody>\n",
       "</table>\n",
       "</div>"
      ],
      "text/plain": [
       "  n.Diplo_mediaPeriodicite                n.name n.Diplo_typeLibelle\n",
       "0                     None                   AFP                None\n",
       "1                     None             Le Figaro                None\n",
       "2                     None  Agence France-Presse                None\n",
       "3                     None     French Government                Etat\n",
       "4                Quotidien             Le Figaro               Media\n",
       "5                     None       FactCheckFictif                None\n",
       "6                     None   FactCheckFictif Org                None\n",
       "7                     None           Independent     Personne Morale\n",
       "8                     None              LeGorafi                None\n",
       "9                     None        Dassault Group     Personne Morale"
      ]
     },
     "execution_count": 41,
     "metadata": {},
     "output_type": "execute_result"
    }
   ],
   "source": [
    "results = db.run(\"\"\"\n",
    "MATCH (n:Entity) RETURN n.Diplo_mediaPeriodicite, n.name, n.Diplo_typeLibelle LIMIT 10\n",
    "\"\"\")\n",
    "results.to_df()"
   ]
  },
  {
   "cell_type": "markdown",
   "id": "747fb1a1-60c9-4c80-bbc1-ec8c04885ac9",
   "metadata": {},
   "source": [
    "### 3- Clause WHERE"
   ]
  },
  {
   "cell_type": "markdown",
   "id": "0a7ac929-cbba-4f29-b583-3cd2ddef1808",
   "metadata": {},
   "source": [
    "Créer une fonction qui permet de retrouver des sites contenant une chaine de caractères.<br>\n",
    "**Exemple :** lemonde, valeurs, etc...\n",
    "<br>\n",
    "**Lien utile :** https://neo4j.com/docs/cypher-manual/current/clauses/where/"
   ]
  },
  {
   "cell_type": "code",
   "execution_count": 42,
   "id": "e8e0c6be-5ca4-485e-ac68-6dc78ebe66f3",
   "metadata": {
    "tags": []
   },
   "outputs": [],
   "source": [
    "def find_website(string):\n",
    "    results = db.run(f\"\"\"\n",
    "    MATCH (w:Website)\n",
    "    WHERE w.name =~\"(?i).*{string}.*\" \n",
    "    RETURN w\n",
    "    \"\"\")\n",
    "    return results.data()"
   ]
  },
  {
   "cell_type": "code",
   "execution_count": 43,
   "id": "16839728-55c3-4d7c-8812-0fdccaf914de",
   "metadata": {
    "tags": []
   },
   "outputs": [
    {
     "data": {
      "text/plain": [
       "[{'w': {'name': 'lemonde.fr', 'url': 'https://lemonde.fr'}}]"
      ]
     },
     "execution_count": 43,
     "metadata": {},
     "output_type": "execute_result"
    }
   ],
   "source": [
    "find_website('lemonde')"
   ]
  },
  {
   "cell_type": "markdown",
   "id": "7ed14c1f-2360-4f42-9c97-282e5c4976a6",
   "metadata": {},
   "source": [
    "### 4- RELATIONS"
   ]
  },
  {
   "cell_type": "markdown",
   "id": "b2284fce-b767-4a8c-9871-d4ab9a8153b2",
   "metadata": {},
   "source": [
    "---\n",
    "Créer une fonction qui retourne le résumé **Wikipedia** pour un site web donné.\n",
    "> Rappel: Dans la base de données, nous avons les données Wikipedia. Le résumé des noeuds Wikipedia correspond à la propriété ``summary`."
   ]
  },
  {
   "cell_type": "code",
   "execution_count": 44,
   "id": "d6bfe693-a6e5-4f38-8fa0-238c48efdc21",
   "metadata": {},
   "outputs": [],
   "source": [
    "def get_summary(site_name):\n",
    "    results = db.run(\"\"\"\n",
    "    MATCH (n {name: $site_name})-[:OWNED_BY]->(e:Entity)<-[:OWNED_BY]-(w:Wikipedia)\n",
    "    RETURN w.summary\n",
    "    \"\"\", {\"site_name\":site_name})\n",
    "    return results.data()[0].get('w.summary')"
   ]
  },
  {
   "cell_type": "code",
   "execution_count": 45,
   "id": "cb384a2a-301f-4e5d-a5b7-791b43d6250f",
   "metadata": {},
   "outputs": [
    {
     "data": {
      "text/plain": [
       "'LeMessager est un journal Français'"
      ]
     },
     "execution_count": 45,
     "metadata": {},
     "output_type": "execute_result"
    }
   ],
   "source": [
    "get_summary('lemessager.fr')"
   ]
  },
  {
   "cell_type": "markdown",
   "id": "54e19499-7b2e-468c-ab4f-4d626e634776",
   "metadata": {},
   "source": [
    "---\n",
    "Le Gorafi, Le Monde et Valeurs Actuelles sont-ils des journaux fiables ?\n",
    "Pour répondre à cette question, on peut lister les **citations** de ces médias.<br>\n",
    "> Les `citations` d'un site, dans notre contexte,  sont les recommandations(<span style=\"background:green; color:white\">positives</span> ou <span style=\"background:red; color:white\">négative</span>) de ce site par des entités quelconques."
   ]
  },
  {
   "cell_type": "code",
   "execution_count": 50,
   "id": "14c42b75-cddb-4150-b36d-5d6bee3b770e",
   "metadata": {},
   "outputs": [],
   "source": [
    "def list_recommendations(site_name):\n",
    "    results = db.run(\"\"\"\n",
    "    MATCH(w:Website{name:$site_name})-[:OWNED_BY]->(n:Entity)<-[reco:RECOMMENDS]-(r) \n",
    "    RETURN r.name as recommender, reco.weight as weight, \n",
    "    reco.meaning as meaning, reco.sourceURL as sourceURL\n",
    "    \"\"\", {\"site_name\":site_name})\n",
    "    return results.to_df()"
   ]
  },
  {
   "cell_type": "code",
   "execution_count": 51,
   "id": "9a310998-e7c7-45ac-9a88-e694198ab122",
   "metadata": {},
   "outputs": [
    {
     "data": {
      "text/html": [
       "<div>\n",
       "<style scoped>\n",
       "    .dataframe tbody tr th:only-of-type {\n",
       "        vertical-align: middle;\n",
       "    }\n",
       "\n",
       "    .dataframe tbody tr th {\n",
       "        vertical-align: top;\n",
       "    }\n",
       "\n",
       "    .dataframe thead th {\n",
       "        text-align: right;\n",
       "    }\n",
       "</style>\n",
       "<table border=\"1\" class=\"dataframe\">\n",
       "  <thead>\n",
       "    <tr style=\"text-align: right;\">\n",
       "      <th></th>\n",
       "      <th>recommender</th>\n",
       "      <th>weight</th>\n",
       "      <th>meaning</th>\n",
       "      <th>sourceURL</th>\n",
       "    </tr>\n",
       "  </thead>\n",
       "  <tbody>\n",
       "    <tr>\n",
       "      <th>0</th>\n",
       "      <td>FactCheckFictif</td>\n",
       "      <td>9</td>\n",
       "      <td>Très Fiable</td>\n",
       "      <td>None</td>\n",
       "    </tr>\n",
       "    <tr>\n",
       "      <th>1</th>\n",
       "      <td>Le Monde Diplomatique</td>\n",
       "      <td>8</td>\n",
       "      <td>Fiable</td>\n",
       "      <td>None</td>\n",
       "    </tr>\n",
       "  </tbody>\n",
       "</table>\n",
       "</div>"
      ],
      "text/plain": [
       "             recommender  weight      meaning sourceURL\n",
       "0        FactCheckFictif       9  Très Fiable      None\n",
       "1  Le Monde Diplomatique       8       Fiable      None"
      ]
     },
     "execution_count": 51,
     "metadata": {},
     "output_type": "execute_result"
    }
   ],
   "source": [
    "list_recommendations(\"lemonde.fr\")"
   ]
  },
  {
   "cell_type": "code",
   "execution_count": 52,
   "id": "1d6e5533-87f2-460f-9ded-8c159f9b354a",
   "metadata": {},
   "outputs": [
    {
     "data": {
      "text/html": [
       "<div>\n",
       "<style scoped>\n",
       "    .dataframe tbody tr th:only-of-type {\n",
       "        vertical-align: middle;\n",
       "    }\n",
       "\n",
       "    .dataframe tbody tr th {\n",
       "        vertical-align: top;\n",
       "    }\n",
       "\n",
       "    .dataframe thead th {\n",
       "        text-align: right;\n",
       "    }\n",
       "</style>\n",
       "<table border=\"1\" class=\"dataframe\">\n",
       "  <thead>\n",
       "    <tr style=\"text-align: right;\">\n",
       "      <th></th>\n",
       "      <th>recommender</th>\n",
       "      <th>weight</th>\n",
       "      <th>meaning</th>\n",
       "      <th>sourceURL</th>\n",
       "    </tr>\n",
       "  </thead>\n",
       "  <tbody>\n",
       "    <tr>\n",
       "      <th>0</th>\n",
       "      <td>Le Monde Diplomatique</td>\n",
       "      <td>2</td>\n",
       "      <td>Satirique</td>\n",
       "      <td>None</td>\n",
       "    </tr>\n",
       "  </tbody>\n",
       "</table>\n",
       "</div>"
      ],
      "text/plain": [
       "             recommender  weight    meaning sourceURL\n",
       "0  Le Monde Diplomatique       2  Satirique      None"
      ]
     },
     "execution_count": 52,
     "metadata": {},
     "output_type": "execute_result"
    }
   ],
   "source": [
    "list_recommendations(\"legorafi.fr\")"
   ]
  },
  {
   "cell_type": "code",
   "execution_count": 53,
   "id": "2d27f468-b79d-431c-9239-6749f787e7ce",
   "metadata": {},
   "outputs": [
    {
     "data": {
      "text/html": [
       "<div>\n",
       "<style scoped>\n",
       "    .dataframe tbody tr th:only-of-type {\n",
       "        vertical-align: middle;\n",
       "    }\n",
       "\n",
       "    .dataframe tbody tr th {\n",
       "        vertical-align: top;\n",
       "    }\n",
       "\n",
       "    .dataframe thead th {\n",
       "        text-align: right;\n",
       "    }\n",
       "</style>\n",
       "<table border=\"1\" class=\"dataframe\">\n",
       "  <thead>\n",
       "    <tr style=\"text-align: right;\">\n",
       "      <th></th>\n",
       "      <th>recommender</th>\n",
       "      <th>weight</th>\n",
       "      <th>meaning</th>\n",
       "      <th>sourceURL</th>\n",
       "    </tr>\n",
       "  </thead>\n",
       "  <tbody>\n",
       "    <tr>\n",
       "      <th>0</th>\n",
       "      <td>AFP</td>\n",
       "      <td>3</td>\n",
       "      <td>Biaisé</td>\n",
       "      <td>None</td>\n",
       "    </tr>\n",
       "  </tbody>\n",
       "</table>\n",
       "</div>"
      ],
      "text/plain": [
       "  recommender  weight meaning sourceURL\n",
       "0         AFP       3  Biaisé      None"
      ]
     },
     "execution_count": 53,
     "metadata": {},
     "output_type": "execute_result"
    }
   ],
   "source": [
    "list_recommendations(\"valeursactuelles.com\")"
   ]
  },
  {
   "cell_type": "markdown",
   "id": "ecef08f3-2aeb-4fdc-a0af-53f249e8692c",
   "metadata": {},
   "source": [
    "### 5- Investigations"
   ]
  },
  {
   "cell_type": "markdown",
   "id": "d2805f28-1bd2-4cec-bceb-60110425660a",
   "metadata": {},
   "source": [
    "---\n",
    "Créer une fonction pour déterminer les propriétaires finaux d'un site web.\n",
    "> Les propriétairs finaux sont ceux au sommet de la chaine. C'est à dire, ceux qui n'ont personne qui les possède."
   ]
  },
  {
   "cell_type": "code",
   "execution_count": 54,
   "id": "b0693588-3d2a-455c-817b-3b21204f7428",
   "metadata": {},
   "outputs": [],
   "source": [
    "def final_onwers(site_name):\n",
    "    results = db.run(\"MATCH (w:Website) \"\n",
    "                \"WHERE w.name =~ $site_name \"\n",
    "                \"MATCH (w)-[:OWNED_BY*]->(e:Entity)\"\n",
    "                \"MATCH (e)<-[:OWNED_BY*]-(n) \"\n",
    "                \"WITH e, n \"\n",
    "                \"WHERE NOT (e)-[:OWNED_BY]->()\"\n",
    "                \"RETURN DISTINCT(e.name) as proprietaire\",\n",
    "                {\"site_name\": f\"(?i).*{site_name}.*\"})\n",
    "    return [proprio.get('proprietaire') for proprio in results.data()]"
   ]
  },
  {
   "cell_type": "code",
   "execution_count": 55,
   "id": "cecf097a-e181-467a-b5cb-c1c2fc1c1274",
   "metadata": {},
   "outputs": [
    {
     "data": {
      "text/plain": [
       "['Groupe Régional Presse']"
      ]
     },
     "execution_count": 55,
     "metadata": {},
     "output_type": "execute_result"
    }
   ],
   "source": [
    "final_onwers('lemessager.fr')"
   ]
  },
  {
   "cell_type": "markdown",
   "id": "4479ce0c-4f55-4864-a6ee-3b6d3cc87ce1",
   "metadata": {},
   "source": [
    "---\n",
    "Créer une fonction pour déterminer le nombre de médias que possèdent chacun des propriétaires finaux trouvés."
   ]
  },
  {
   "cell_type": "code",
   "execution_count": 56,
   "id": "5e6f9e56-6490-412e-b24c-26916d2f05bd",
   "metadata": {},
   "outputs": [],
   "source": [
    "def medias_by_owners(site_name):\n",
    "    results = db.run(\"MATCH (w:Website) \"\n",
    "                \"WHERE w.name =~ $site_name \"\n",
    "                \"MATCH (w)-[:OWNED_BY*]->(e:Entity)\"\n",
    "                \"MATCH (e)<-[:OWNED_BY*]-(n) \"\n",
    "                \"WITH e, n \"\n",
    "                \"WHERE NOT (e)-[:OWNED_BY]->()\"\n",
    "                \"RETURN DISTINCT e.name as proprietaire, count(n) as nb_medias\",\n",
    "                {\"site_name\": f\"(?i).*{site_name}.*\"})\n",
    "    return results.to_df().sort_values(by=\"nb_medias\", ascending=False)"
   ]
  },
  {
   "cell_type": "code",
   "execution_count": 57,
   "id": "47bed615-d6bf-424a-bd01-e1af93cef0c4",
   "metadata": {},
   "outputs": [
    {
     "data": {
      "text/html": [
       "<div>\n",
       "<style scoped>\n",
       "    .dataframe tbody tr th:only-of-type {\n",
       "        vertical-align: middle;\n",
       "    }\n",
       "\n",
       "    .dataframe tbody tr th {\n",
       "        vertical-align: top;\n",
       "    }\n",
       "\n",
       "    .dataframe thead th {\n",
       "        text-align: right;\n",
       "    }\n",
       "</style>\n",
       "<table border=\"1\" class=\"dataframe\">\n",
       "  <thead>\n",
       "    <tr style=\"text-align: right;\">\n",
       "      <th></th>\n",
       "      <th>proprietaire</th>\n",
       "      <th>nb_medias</th>\n",
       "    </tr>\n",
       "  </thead>\n",
       "  <tbody>\n",
       "    <tr>\n",
       "      <th>0</th>\n",
       "      <td>Xavier Niel</td>\n",
       "      <td>4</td>\n",
       "    </tr>\n",
       "  </tbody>\n",
       "</table>\n",
       "</div>"
      ],
      "text/plain": [
       "  proprietaire  nb_medias\n",
       "0  Xavier Niel          4"
      ]
     },
     "execution_count": 57,
     "metadata": {},
     "output_type": "execute_result"
    }
   ],
   "source": [
    "medias_by_owners('lemonde.fr')"
   ]
  },
  {
   "cell_type": "code",
   "execution_count": null,
   "id": "1c7a9911-3514-4d44-9b7e-02a7956d4ac4",
   "metadata": {},
   "outputs": [],
   "source": []
  }
 ],
 "metadata": {
  "kernelspec": {
   "display_name": "Python 3 (ipykernel)",
   "language": "python",
   "name": "python3"
  },
  "language_info": {
   "codemirror_mode": {
    "name": "ipython",
    "version": 3
   },
   "file_extension": ".py",
   "mimetype": "text/x-python",
   "name": "python",
   "nbconvert_exporter": "python",
   "pygments_lexer": "ipython3",
   "version": "3.11.6"
  }
 },
 "nbformat": 4,
 "nbformat_minor": 5
}
